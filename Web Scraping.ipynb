{
 "cells": [
  {
   "cell_type": "code",
   "execution_count": 8,
   "id": "883b9ddd",
   "metadata": {},
   "outputs": [
    {
     "name": "stdout",
     "output_type": "stream",
     "text": [
      "Enter your query: who is president of india\n",
      "Ram Nath Kovind\n",
      "To continue press y: y\n",
      "Enter your query: largest populated city in the world\n",
      "Sorry no result, please be clear\n",
      "To continue press y: sv\n"
     ]
    }
   ],
   "source": [
    "import requests\n",
    "from bs4 import BeautifulSoup\n",
    "\n",
    "def query():\n",
    "    \n",
    "    user_query = input('Enter your query: ')\n",
    "\n",
    "    URL = \"https://www.google.co.in/search?q=\" + user_query\n",
    "\n",
    "    headers = {\n",
    "    'User-Agent':'Mozilla/5.0 (Windows NT 10.0; Win64; x64) AppleWebKit/537.36 (KHTML, like Gecko) Chrome/89.0.4389.90 Safari/537.36 Edg/89.0.774.57'\n",
    "    }\n",
    "\n",
    "    page = requests.get(URL, headers=headers)\n",
    "    soup = BeautifulSoup(page.content, 'html.parser')\n",
    "    result = soup.find(class_='Z0LcW XcVN5d').get_text()\n",
    "    print(result)\n",
    "\n",
    "while True:\n",
    "    try:\n",
    "        query()\n",
    "    except Exception:\n",
    "        print('Sorry no result, please be clear')\n",
    "    user_input = input('To continue press y: ')\n",
    "    if user_input != 'y':\n",
    "        break"
   ]
  },
  {
   "cell_type": "code",
   "execution_count": null,
   "id": "d0251aaa",
   "metadata": {},
   "outputs": [],
   "source": []
  }
 ],
 "metadata": {
  "kernelspec": {
   "display_name": "Python 3",
   "language": "python",
   "name": "python3"
  },
  "language_info": {
   "codemirror_mode": {
    "name": "ipython",
    "version": 3
   },
   "file_extension": ".py",
   "mimetype": "text/x-python",
   "name": "python",
   "nbconvert_exporter": "python",
   "pygments_lexer": "ipython3",
   "version": "3.8.5"
  }
 },
 "nbformat": 4,
 "nbformat_minor": 5
}
