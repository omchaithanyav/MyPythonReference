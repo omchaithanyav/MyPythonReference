{
 "cells": [
  {
   "cell_type": "code",
   "execution_count": 18,
   "metadata": {},
   "outputs": [
    {
     "name": "stdout",
     "output_type": "stream",
     "text": [
      "Name is jerry and age is 17\n"
     ]
    }
   ],
   "source": [
    "def pyaar(name,age):\n",
    "    print(\"Name is \" +name+ \" and age is \" +str(age))\n",
    "\n",
    "\n",
    "pyaar('jerry',17)    "
   ]
  },
  {
   "cell_type": "code",
   "execution_count": null,
   "metadata": {},
   "outputs": [],
   "source": []
  },
  {
   "cell_type": "code",
   "execution_count": 19,
   "metadata": {},
   "outputs": [
    {
     "name": "stdout",
     "output_type": "stream",
     "text": [
      "the sum is: 3\n"
     ]
    }
   ],
   "source": [
    "def add(a,b):\n",
    "    print((\"the sum is: \")+str(a+b))\n",
    "    \n",
    "add(1,2)    "
   ]
  },
  {
   "cell_type": "code",
   "execution_count": null,
   "metadata": {},
   "outputs": [],
   "source": []
  },
  {
   "cell_type": "code",
   "execution_count": 20,
   "metadata": {},
   "outputs": [
    {
     "data": {
      "text/plain": [
       "24"
      ]
     },
     "execution_count": 20,
     "metadata": {},
     "output_type": "execute_result"
    }
   ],
   "source": [
    "def square(length, breadth):\n",
    "    return length * breadth \n",
    "\n",
    "square(4,6)\n",
    "    "
   ]
  },
  {
   "cell_type": "code",
   "execution_count": null,
   "metadata": {},
   "outputs": [],
   "source": []
  },
  {
   "cell_type": "code",
   "execution_count": 21,
   "metadata": {},
   "outputs": [
    {
     "data": {
      "text/plain": [
       "(6.0, 6, 6)"
      ]
     },
     "execution_count": 21,
     "metadata": {},
     "output_type": "execute_result"
    }
   ],
   "source": [
    "def shape_area(length, breadth, height):\n",
    "    triangle = (height * breadth)/2\n",
    "    square = length * breadth\n",
    "    rectangle = length * breadth\n",
    "    \n",
    "    return triangle, square, rectangle \n",
    "\n",
    "shape_area(2,3,4)"
   ]
  },
  {
   "cell_type": "code",
   "execution_count": null,
   "metadata": {},
   "outputs": [],
   "source": []
  },
  {
   "cell_type": "code",
   "execution_count": 27,
   "metadata": {},
   "outputs": [],
   "source": [
    "# A function that returns nothing \n",
    "\n",
    "def it_will_Return_nothing():\n",
    "    return nothing"
   ]
  },
  {
   "cell_type": "code",
   "execution_count": 26,
   "metadata": {},
   "outputs": [
    {
     "data": {
      "text/plain": [
       "(5, 4, 3)"
      ]
     },
     "execution_count": 26,
     "metadata": {},
     "output_type": "execute_result"
    }
   ],
   "source": [
    "# Defing a simple function to store values in variables and return result using return keyword.  \n",
    "\n",
    "\n",
    "def stor_values_in_variables(a, b, c):\n",
    "    x = b + c\n",
    "    y = a + c\n",
    "    z = a + b\n",
    "    return x, y, z\n",
    "\n",
    "Values = stor_values_in_variables(1 ,2, 3)\n",
    "print(Values)\n"
   ]
  },
  {
   "cell_type": "code",
   "execution_count": null,
   "metadata": {},
   "outputs": [],
   "source": []
  },
  {
   "cell_type": "code",
   "execution_count": 1,
   "metadata": {},
   "outputs": [
    {
     "name": "stdout",
     "output_type": "stream",
     "text": [
      "your lucky number is: 45\n"
     ]
    }
   ],
   "source": [
    "# Creating a function to print lucky number\n",
    "# using code again and again by just calling a function or simply say Code Reuse\n",
    "\n",
    "\n",
    "def your_lucky_num(age):\n",
    "    number=9*age\n",
    "    result = print(\"your lucky number is: \"+str(number))\n",
    "    return result\n",
    "\n",
    "your_lucky_num(5) "
   ]
  },
  {
   "cell_type": "code",
   "execution_count": 16,
   "metadata": {},
   "outputs": [
    {
     "name": "stdout",
     "output_type": "stream",
     "text": [
      "June has 30 days.\n",
      "July has 31 days.\n"
     ]
    }
   ],
   "source": [
    "# Creating a function to return month and days in that month \n",
    "# used result as a variable to print the output and returned that variable\n",
    "# Code Reuse\n",
    "\n",
    "\n",
    "def month_days(month, days):\n",
    "    result = print(month+\" has \" +str(days)+\" days.\")\n",
    "    return (result)\n",
    "\n",
    "(month_days(\"June\", 30))\n",
    "(month_days(\"July\", 31))            "
   ]
  },
  {
   "cell_type": "code",
   "execution_count": 3,
   "metadata": {},
   "outputs": [
    {
     "name": "stdout",
     "output_type": "stream",
     "text": [
      "99 100\n"
     ]
    }
   ],
   "source": [
    "# This function compares two numbers and returns them\n",
    "# in increasing order.\n",
    "\n",
    "\n",
    "\n",
    "def order_numbers(number1, number2):\n",
    "    if number2 > number1:\n",
    "        return number1, number2\n",
    "    else:\n",
    "        return number2, number1\n",
    "\n",
    "\n",
    "(smaller, bigger  )  = order_numbers(100, 99)\n",
    "print(smaller, bigger)"
   ]
  },
  {
   "cell_type": "code",
   "execution_count": 7,
   "metadata": {},
   "outputs": [
    {
     "data": {
      "text/plain": [
       "[1, 8, 27, 64, 125, 216]"
      ]
     },
     "execution_count": 7,
     "metadata": {},
     "output_type": "execute_result"
    }
   ],
   "source": [
    "# map():\n",
    "# Example of map() function:\n",
    "\n",
    "def cube_of(num):\n",
    "    return num**3\n",
    "\n",
    "numbers = [1,2,3,4,5,6]\n",
    "\n",
    "list(map(cube_of, numbers))"
   ]
  },
  {
   "cell_type": "code",
   "execution_count": 4,
   "metadata": {},
   "outputs": [
    {
     "name": "stdout",
     "output_type": "stream",
     "text": [
      "True\n",
      "False\n"
     ]
    }
   ],
   "source": [
    "# all() function:\n",
    "\n",
    "s = [1,2,3,4,5,6]\n",
    "print(all(s))       # returns true if all are non zero values.\n",
    "\n",
    "k = [0,1,2,3,4,5]\n",
    "print(all(k))       # returns false coz we have one 0."
   ]
  },
  {
   "cell_type": "code",
   "execution_count": 6,
   "metadata": {},
   "outputs": [
    {
     "name": "stdout",
     "output_type": "stream",
     "text": [
      "True False False\n"
     ]
    }
   ],
   "source": [
    "# any function:\n",
    "\n",
    "a = [0,1,2,3,4,5]\n",
    "b = [0,False]\n",
    "c = []\n",
    "\n",
    "print(any(a), any(b), any(c))    # prints true even if one value is true......o - False, 1 - True."
   ]
  },
  {
   "cell_type": "code",
   "execution_count": 8,
   "metadata": {},
   "outputs": [
    {
     "name": "stdout",
     "output_type": "stream",
     "text": [
      "10 1 2\n"
     ]
    }
   ],
   "source": [
    "# Round() function:\n",
    "# gives the nearest value:\n",
    "\n",
    "print(round(10.4), round(1.222), round(1.5))"
   ]
  },
  {
   "cell_type": "code",
   "execution_count": 24,
   "metadata": {},
   "outputs": [
    {
     "name": "stdout",
     "output_type": "stream",
     "text": [
      "50\n",
      "9\n",
      "27\n"
     ]
    }
   ],
   "source": [
    "# Lamda() function:\n",
    "\n",
    "x = lambda a:a*5\n",
    "print(x(10))\n",
    "\n",
    "\n",
    "# Example of lambda function:\n",
    "\n",
    "def myfunc(n):\n",
    "    return lambda a: a**n\n",
    "\n",
    "square = myfunc(2)\n",
    "cube = myfunc(3)\n",
    "\n",
    "print(square(3))\n",
    "print(cube(3))"
   ]
  },
  {
   "cell_type": "code",
   "execution_count": 18,
   "metadata": {},
   "outputs": [
    {
     "name": "stdout",
     "output_type": "stream",
     "text": [
      "HELLO\n",
      "HELLO\n"
     ]
    }
   ],
   "source": [
    "# Treating the functions as objects:\n",
    "\n",
    "# Python program to illustrate functions can be treated as objects\n",
    "def shout(text):\n",
    "    return text.upper()\n",
    "\n",
    "print(shout('Hello'))\n",
    "\n",
    "yell = shout\n",
    "\n",
    "print(yell('Hello'))\n"
   ]
  },
  {
   "cell_type": "code",
   "execution_count": 24,
   "metadata": {},
   "outputs": [
    {
     "name": "stdout",
     "output_type": "stream",
     "text": [
      "HI, I AM CREATED BY A FUNCTION PASSED AS AN ARGUMENT.\n",
      "hi, i am created by a function passed as an argument.\n"
     ]
    }
   ],
   "source": [
    "# Passing the function as argument:\n",
    "\n",
    "# Python program to illustrate functions\n",
    "# can be passed as arguments to other functions\n",
    "def shout(text):\n",
    "    return text.upper()\n",
    "\n",
    "def whisper(text):\n",
    "    return text.lower()\n",
    "\n",
    "def greet(func):\n",
    "    # storing the function in a variable\n",
    "    greeting = func(\"\"\"Hi, I am created by a function passed as an argument.\"\"\")\n",
    "    print (greeting)\n",
    "\n",
    "greet(shout)\n",
    "greet(whisper)"
   ]
  },
  {
   "cell_type": "code",
   "execution_count": 25,
   "metadata": {},
   "outputs": [
    {
     "name": "stdout",
     "output_type": "stream",
     "text": [
      "25\n"
     ]
    }
   ],
   "source": [
    "# Returning functions from another functions:\n",
    "\n",
    "# Python program to illustrate functions\n",
    "# Functions can return another function\n",
    "\n",
    "def create_adder(x):\n",
    "\tdef adder(y):\n",
    "\t\treturn x+y\n",
    "\n",
    "\treturn adder\n",
    "\n",
    "add_15 = create_adder(15)\n",
    "\n",
    "print(add_15(10))\n"
   ]
  },
  {
   "cell_type": "code",
   "execution_count": 1,
   "metadata": {},
   "outputs": [
    {
     "data": {
      "text/html": [
       "<div>\n",
       "<style scoped>\n",
       "    .dataframe tbody tr th:only-of-type {\n",
       "        vertical-align: middle;\n",
       "    }\n",
       "\n",
       "    .dataframe tbody tr th {\n",
       "        vertical-align: top;\n",
       "    }\n",
       "\n",
       "    .dataframe thead th {\n",
       "        text-align: right;\n",
       "    }\n",
       "</style>\n",
       "<table border=\"1\" class=\"dataframe\">\n",
       "  <thead>\n",
       "    <tr style=\"text-align: right;\">\n",
       "      <th></th>\n",
       "      <th>A</th>\n",
       "      <th>B</th>\n",
       "      <th>C</th>\n",
       "      <th>D</th>\n",
       "    </tr>\n",
       "  </thead>\n",
       "  <tbody>\n",
       "    <tr>\n",
       "      <th>0</th>\n",
       "      <td>12</td>\n",
       "      <td>5</td>\n",
       "      <td>20</td>\n",
       "      <td>14</td>\n",
       "    </tr>\n",
       "    <tr>\n",
       "      <th>1</th>\n",
       "      <td>4</td>\n",
       "      <td>2</td>\n",
       "      <td>16</td>\n",
       "      <td>3</td>\n",
       "    </tr>\n",
       "    <tr>\n",
       "      <th>2</th>\n",
       "      <td>5</td>\n",
       "      <td>54</td>\n",
       "      <td>7</td>\n",
       "      <td>17</td>\n",
       "    </tr>\n",
       "    <tr>\n",
       "      <th>3</th>\n",
       "      <td>44</td>\n",
       "      <td>3</td>\n",
       "      <td>3</td>\n",
       "      <td>2</td>\n",
       "    </tr>\n",
       "    <tr>\n",
       "      <th>4</th>\n",
       "      <td>1</td>\n",
       "      <td>2</td>\n",
       "      <td>8</td>\n",
       "      <td>6</td>\n",
       "    </tr>\n",
       "  </tbody>\n",
       "</table>\n",
       "</div>"
      ],
      "text/plain": [
       "    A   B   C   D\n",
       "0  12   5  20  14\n",
       "1   4   2  16   3\n",
       "2   5  54   7  17\n",
       "3  44   3   3   2\n",
       "4   1   2   8   6"
      ]
     },
     "execution_count": 1,
     "metadata": {},
     "output_type": "execute_result"
    }
   ],
   "source": [
    "# Mask() function:\n",
    "\n",
    "# Use mask() function to replace all the values in the dataframe which are greater than 10 with -25\n",
    "\n",
    "# importing pandas as pd\n",
    "import pandas as pd\n",
    "  \n",
    "# Creating the dataframe \n",
    "df = pd.DataFrame({\"A\":[12, 4, 5, 44, 1],\n",
    "                   \"B\":[5, 2, 54, 3, 2],\n",
    "                   \"C\":[20, 16, 7, 3, 8],\n",
    "                   \"D\":[14, 3, 17, 2, 6]})\n",
    "  \n",
    "# Print the dataframe\n",
    "df"
   ]
  },
  {
   "cell_type": "code",
   "execution_count": 2,
   "metadata": {},
   "outputs": [
    {
     "data": {
      "text/html": [
       "<div>\n",
       "<style scoped>\n",
       "    .dataframe tbody tr th:only-of-type {\n",
       "        vertical-align: middle;\n",
       "    }\n",
       "\n",
       "    .dataframe tbody tr th {\n",
       "        vertical-align: top;\n",
       "    }\n",
       "\n",
       "    .dataframe thead th {\n",
       "        text-align: right;\n",
       "    }\n",
       "</style>\n",
       "<table border=\"1\" class=\"dataframe\">\n",
       "  <thead>\n",
       "    <tr style=\"text-align: right;\">\n",
       "      <th></th>\n",
       "      <th>A</th>\n",
       "      <th>B</th>\n",
       "      <th>C</th>\n",
       "      <th>D</th>\n",
       "    </tr>\n",
       "  </thead>\n",
       "  <tbody>\n",
       "    <tr>\n",
       "      <th>0</th>\n",
       "      <td>-25</td>\n",
       "      <td>5</td>\n",
       "      <td>-25</td>\n",
       "      <td>-25</td>\n",
       "    </tr>\n",
       "    <tr>\n",
       "      <th>1</th>\n",
       "      <td>4</td>\n",
       "      <td>2</td>\n",
       "      <td>-25</td>\n",
       "      <td>3</td>\n",
       "    </tr>\n",
       "    <tr>\n",
       "      <th>2</th>\n",
       "      <td>5</td>\n",
       "      <td>-25</td>\n",
       "      <td>7</td>\n",
       "      <td>-25</td>\n",
       "    </tr>\n",
       "    <tr>\n",
       "      <th>3</th>\n",
       "      <td>-25</td>\n",
       "      <td>3</td>\n",
       "      <td>3</td>\n",
       "      <td>2</td>\n",
       "    </tr>\n",
       "    <tr>\n",
       "      <th>4</th>\n",
       "      <td>1</td>\n",
       "      <td>2</td>\n",
       "      <td>8</td>\n",
       "      <td>6</td>\n",
       "    </tr>\n",
       "  </tbody>\n",
       "</table>\n",
       "</div>"
      ],
      "text/plain": [
       "    A   B   C   D\n",
       "0 -25   5 -25 -25\n",
       "1   4   2 -25   3\n",
       "2   5 -25   7 -25\n",
       "3 -25   3   3   2\n",
       "4   1   2   8   6"
      ]
     },
     "execution_count": 2,
     "metadata": {},
     "output_type": "execute_result"
    }
   ],
   "source": [
    "# replace values greater than 10 with -25\n",
    "df.mask(df > 10, -25)"
   ]
  },
  {
   "cell_type": "code",
   "execution_count": 5,
   "metadata": {},
   "outputs": [
    {
     "data": {
      "text/html": [
       "<div>\n",
       "<style scoped>\n",
       "    .dataframe tbody tr th:only-of-type {\n",
       "        vertical-align: middle;\n",
       "    }\n",
       "\n",
       "    .dataframe tbody tr th {\n",
       "        vertical-align: top;\n",
       "    }\n",
       "\n",
       "    .dataframe thead th {\n",
       "        text-align: right;\n",
       "    }\n",
       "</style>\n",
       "<table border=\"1\" class=\"dataframe\">\n",
       "  <thead>\n",
       "    <tr style=\"text-align: right;\">\n",
       "      <th></th>\n",
       "      <th>A</th>\n",
       "      <th>B</th>\n",
       "      <th>C</th>\n",
       "      <th>D</th>\n",
       "    </tr>\n",
       "  </thead>\n",
       "  <tbody>\n",
       "    <tr>\n",
       "      <th>0</th>\n",
       "      <td>12.0</td>\n",
       "      <td>7.0</td>\n",
       "      <td>20</td>\n",
       "      <td>14.0</td>\n",
       "    </tr>\n",
       "    <tr>\n",
       "      <th>1</th>\n",
       "      <td>4.0</td>\n",
       "      <td>2.0</td>\n",
       "      <td>16</td>\n",
       "      <td>3.0</td>\n",
       "    </tr>\n",
       "    <tr>\n",
       "      <th>2</th>\n",
       "      <td>5.0</td>\n",
       "      <td>54.0</td>\n",
       "      <td>11</td>\n",
       "      <td>10.0</td>\n",
       "    </tr>\n",
       "    <tr>\n",
       "      <th>3</th>\n",
       "      <td>10.0</td>\n",
       "      <td>3.0</td>\n",
       "      <td>3</td>\n",
       "      <td>2.0</td>\n",
       "    </tr>\n",
       "    <tr>\n",
       "      <th>4</th>\n",
       "      <td>1.0</td>\n",
       "      <td>10.0</td>\n",
       "      <td>8</td>\n",
       "      <td>6.0</td>\n",
       "    </tr>\n",
       "  </tbody>\n",
       "</table>\n",
       "</div>"
      ],
      "text/plain": [
       "      A     B   C     D\n",
       "0  12.0   7.0  20  14.0\n",
       "1   4.0   2.0  16   3.0\n",
       "2   5.0  54.0  11  10.0\n",
       "3  10.0   3.0   3   2.0\n",
       "4   1.0  10.0   8   6.0"
      ]
     },
     "execution_count": 5,
     "metadata": {},
     "output_type": "execute_result"
    }
   ],
   "source": [
    "# Use mask() function with a callable. Replace all the Na value with 1000.\n",
    "\n",
    "\n",
    "# importing pandas as pd\n",
    "import pandas as pd\n",
    "  \n",
    "# Creating the dataframe \n",
    "df = pd.DataFrame({\"A\":[12, 4, 5, None, 1],\n",
    "                   \"B\":[7, 2, 54, 3, None],\n",
    "                   \"C\":[20, 16, 11, 3, 8],\n",
    "                   \"D\":[14, 3, None, 2, 6]})\n",
    "  \n",
    "# replace the Na values with 1000\n",
    "df.mask(df.isna(), 10)"
   ]
  },
  {
   "cell_type": "code",
   "execution_count": 7,
   "metadata": {},
   "outputs": [
    {
     "name": "stdout",
     "output_type": "stream",
     "text": [
      "True False\n"
     ]
    }
   ],
   "source": [
    "# any()\n",
    "# This expression returns True if any element of the iterable is true.\n",
    "# If the iterable is empty, it will return False.\n",
    "\n",
    "a = any([1>0,1==0,1<0])\n",
    "b = any([1<0,2<1,3<2])\n",
    "\n",
    "print(a,b)"
   ]
  },
  {
   "cell_type": "code",
   "execution_count": 9,
   "metadata": {},
   "outputs": [
    {
     "name": "stdout",
     "output_type": "stream",
     "text": [
      "True\n",
      "False\n"
     ]
    }
   ],
   "source": [
    "# all()\n",
    "# This expression returns True if all of the elements of the iterable are true. If the iterable is empty, it will return True.\n",
    "\n",
    "print(all(['a'<'b','b'<'c']))\n",
    "print(all(['a'<'b','c'<'b']))"
   ]
  },
  {
   "cell_type": "code",
   "execution_count": 7,
   "metadata": {},
   "outputs": [
    {
     "data": {
      "text/plain": [
       "{'John': 'Jenny', 'Charles': 'Christy', 'Mike': 'Monica'}"
      ]
     },
     "execution_count": 7,
     "metadata": {},
     "output_type": "execute_result"
    }
   ],
   "source": [
    "# zip()\n",
    "\n",
    "a = (\"John\", \"Charles\", \"Mike\")\n",
    "b = (\"Jenny\", \"Christy\", \"Monica\")\n",
    "\n",
    "x = dict(zip(a, b))\n",
    "x"
   ]
  },
  {
   "cell_type": "code",
   "execution_count": 12,
   "metadata": {},
   "outputs": [
    {
     "data": {
      "text/plain": [
       "{1: 'omi', 2: 'omi1', 3: 'sara', 4: 'sara1'}"
      ]
     },
     "execution_count": 12,
     "metadata": {},
     "output_type": "execute_result"
    }
   ],
   "source": [
    "# zip()\n",
    "\n",
    "a = [1,2,3,4]\n",
    "b = ['omi', 'omi1', 'sara', 'sara1']\n",
    "\n",
    "# list(zip(a,b)), tuple(zip(a,b)), set(zip(a,b))\n",
    "\n",
    "dict(zip(a,b))"
   ]
  },
  {
   "cell_type": "code",
   "execution_count": 17,
   "metadata": {},
   "outputs": [
    {
     "name": "stdout",
     "output_type": "stream",
     "text": [
      "1 omi\n",
      "2 omi1\n",
      "3 sara\n",
      "4 sara1\n"
     ]
    }
   ],
   "source": [
    "# zip()\n",
    "\n",
    "for a1, bl in zip(a,b):\n",
    "    print(a1,bl)"
   ]
  },
  {
   "cell_type": "code",
   "execution_count": 18,
   "metadata": {},
   "outputs": [
    {
     "name": "stdout",
     "output_type": "stream",
     "text": [
      "(1, 'omi')\n",
      "(2, 'omi1')\n",
      "(3, 'sara')\n",
      "(4, 'sara1')\n"
     ]
    }
   ],
   "source": [
    "# zip()\n",
    "\n",
    "for a1 in zip(a,b):\n",
    "    print(a1)"
   ]
  },
  {
   "cell_type": "code",
   "execution_count": 19,
   "metadata": {},
   "outputs": [
    {
     "name": "stdout",
     "output_type": "stream",
     "text": [
      "12.123\n",
      "12.1\n",
      "10.0\n",
      "100.0\n",
      "3000.0\n"
     ]
    }
   ],
   "source": [
    "# Round() function:\n",
    "\n",
    "print(round(12.12345, 3))\n",
    "print(round(12.12345, 1))\n",
    "\n",
    "print(round(12.12345, -1))\n",
    "print(round(121.34, -2))\n",
    "print(round(3300.9, -3))"
   ]
  },
  {
   "cell_type": "markdown",
   "metadata": {},
   "source": [
    "ndigits=-1 rounds to the nearest 10, ndigits=-2 rounds to the nearest 100 and so on."
   ]
  },
  {
   "cell_type": "code",
   "execution_count": 12,
   "metadata": {},
   "outputs": [
    {
     "data": {
      "text/plain": [
       "99"
      ]
     },
     "execution_count": 12,
     "metadata": {},
     "output_type": "execute_result"
    }
   ],
   "source": [
    "# absolute value:\n",
    "\n",
    "abs(-99)"
   ]
  },
  {
   "cell_type": "code",
   "execution_count": 10,
   "metadata": {},
   "outputs": [
    {
     "name": "stdout",
     "output_type": "stream",
     "text": [
      "88\n",
      "89\n"
     ]
    }
   ],
   "source": [
    "# floor and ceil functions:\n",
    "import math\n",
    "\n",
    "print(math.floor(88.9))\n",
    "print(math.ceil(88.1))"
   ]
  },
  {
   "cell_type": "code",
   "execution_count": null,
   "metadata": {},
   "outputs": [],
   "source": []
  }
 ],
 "metadata": {
  "kernelspec": {
   "display_name": "Python 3 (ipykernel)",
   "language": "python",
   "name": "python3"
  },
  "language_info": {
   "codemirror_mode": {
    "name": "ipython",
    "version": 3
   },
   "file_extension": ".py",
   "mimetype": "text/x-python",
   "name": "python",
   "nbconvert_exporter": "python",
   "pygments_lexer": "ipython3",
   "version": "3.8.11"
  }
 },
 "nbformat": 4,
 "nbformat_minor": 4
}
