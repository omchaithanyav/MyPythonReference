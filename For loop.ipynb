{
 "cells": [
  {
   "cell_type": "code",
   "execution_count": 85,
   "metadata": {},
   "outputs": [
    {
     "data": {
      "text/plain": [
       "' >>> Forgetting that the upper limit of a range() isn’t included.\\n    >>> Iterating over non-sequences. \\n        Integer numbers aren’t iterable. \\n        Strings are iterable letter by letter, but that might not be what you want.'"
      ]
     },
     "execution_count": 85,
     "metadata": {},
     "output_type": "execute_result"
    }
   ],
   "source": [
    "# A for loop iterates over a sequence of elements, executing the body of the loop for each element in the sequence.\n",
    "\n",
    "# range() generates a sequence of integer numbers. It can take one, two, or three parameters:\n",
    "\n",
    "# >>> range(n): 0, 1, 2, ... n-1\n",
    "# >>> range(x,y): x, x+1, x+2, ... y-1\n",
    "# >>> range(p,q,r): p, p+r, p+2r, p+3r, ... q-1 (if it's a valid increment)\n",
    "\n",
    "# Common pitfalls:\n",
    "\n",
    "\"\"\" >>> Forgetting that the upper limit of a range() isn’t included.\n",
    "    >>> Iterating over non-sequences. \n",
    "        Integer numbers aren’t iterable. \n",
    "        Strings are iterable letter by letter, but that might not be what you want.\"\"\"\n",
    "\n",
    "# For loops are mostly used when there's a pre-defined sequence or range of numbers to iterate."
   ]
  },
  {
   "cell_type": "code",
   "execution_count": 86,
   "metadata": {},
   "outputs": [
    {
     "data": {
      "text/plain": [
       "' >>>You can interrupt both while and for loops using the break keyword. We normally do this to interrupt a cycle due to a separate condition.\\n\\n    You can use the continue keyword to skip the current iteration and continue with the next one. This is typically used to jump ahead when some of the elements of the sequence aren’t relevant.'"
      ]
     },
     "execution_count": 86,
     "metadata": {},
     "output_type": "execute_result"
    }
   ],
   "source": [
    "# Break & Continue\n",
    "\n",
    "\"\"\" >>>You can interrupt both while and for loops using the break keyword. We normally do this to interrupt a cycle due to a separate condition.\n",
    "\n",
    "    You can use the continue keyword to skip the current iteration and continue with the next one. This is typically used to jump ahead when some of the elements of the sequence aren’t relevant.\"\"\""
   ]
  },
  {
   "cell_type": "code",
   "execution_count": 1,
   "metadata": {},
   "outputs": [
    {
     "name": "stdout",
     "output_type": "stream",
     "text": [
      "0\n",
      "1\n",
      "2\n",
      "3\n",
      "4\n",
      "5\n",
      "6\n",
      "7\n",
      "8\n",
      "9\n"
     ]
    }
   ],
   "source": [
    "# The 'Range' function starts printing values from 0 to the (value given)-1\n",
    " \n",
    "for i in range(10):\n",
    "    print(i)"
   ]
  },
  {
   "cell_type": "code",
   "execution_count": 7,
   "metadata": {},
   "outputs": [
    {
     "name": "stdout",
     "output_type": "stream",
     "text": [
      "285\n"
     ]
    }
   ],
   "source": [
    "# Sum of squares of numbers between 0 and given number.\n",
    "\n",
    "def square(n):\n",
    "    return n*n\n",
    "\n",
    "def sum_squares(x):\n",
    "    sum = 0\n",
    "    for n in range(x):\n",
    "        sum = sum + square(n)\n",
    "    return sum\n",
    "\n",
    "\n",
    "\n",
    "print(sum_squares(10)) # Should be 285"
   ]
  },
  {
   "cell_type": "code",
   "execution_count": 6,
   "metadata": {},
   "outputs": [
    {
     "name": "stdout",
     "output_type": "stream",
     "text": [
      "Hey Big fan goku!\n",
      "Hey Big fan vegeta!\n",
      "Hey Big fan krillin!\n",
      "Hey Big fan gotan!\n",
      "Hey Big fan trunks!\n",
      "Hey Big fan gohan!\n"
     ]
    }
   ],
   "source": [
    "Characters = ['goku','vegeta','krillin','gotan','trunks','gohan']\n",
    "\n",
    "for character in Characters:\n",
    "    print(\"Hey Big fan \"+character+\"!\")"
   ]
  },
  {
   "cell_type": "code",
   "execution_count": 9,
   "metadata": {},
   "outputs": [
    {
     "name": "stdout",
     "output_type": "stream",
     "text": [
      "the sum of given numbers is: 66 and the average is: 6.0\n"
     ]
    }
   ],
   "source": [
    "# Finding total sum and average of a list of given numbers.\n",
    "\n",
    "values = [1,2,3,4,5,6,7,8,9,10,11]\n",
    "length = 0\n",
    "sum = 0\n",
    "for value in values:\n",
    "    sum += value\n",
    "    length = length+1\n",
    "    \n",
    "\n",
    "print('the sum of given numbers is: '+str(sum)+' and the average is: '+str(sum/length))"
   ]
  },
  {
   "cell_type": "code",
   "execution_count": 10,
   "metadata": {},
   "outputs": [
    {
     "name": "stdout",
     "output_type": "stream",
     "text": [
      "24\n",
      "120\n"
     ]
    }
   ],
   "source": [
    "# this program returns the factorial of the given number.\n",
    "# We can pass 2 values into a range function telling it where to start.\n",
    "\n",
    "def factorial(n):\n",
    "    result = 1\n",
    "    for i in range(1,n):\n",
    "        result = result*n\n",
    "        n = n-1\n",
    "    return result\n",
    "\n",
    "print(factorial(4)) # should return 24\n",
    "print(factorial(5)) # should return 120"
   ]
  },
  {
   "cell_type": "code",
   "execution_count": 44,
   "metadata": {},
   "outputs": [
    {
     "name": "stdout",
     "output_type": "stream",
     "text": [
      "24\n"
     ]
    }
   ],
   "source": [
    "# this program multiplies the numbers in the given range.\n",
    "\n",
    "product = 1\n",
    "\n",
    "for i in range(1,5):\n",
    "    product = product *i\n",
    "print(product)"
   ]
  },
  {
   "cell_type": "code",
   "execution_count": 42,
   "metadata": {},
   "outputs": [
    {
     "data": {
      "text/plain": [
       "'To quickly recap the range() function when passing one, two, or three parameters:\\n\\nOne parameter will create a sequence, one-by-one, from zero to one less than the parameter.\\nTwo parameters will create a sequence, one-by-one, from the first parameter to one less than the second parameter.\\nThree parameters will create a sequence starting with the first parameter and stopping before the second parameter, \\nbut this time increasing each step by the third parameter. '"
      ]
     },
     "execution_count": 42,
     "metadata": {},
     "output_type": "execute_result"
    }
   ],
   "source": [
    "\"\"\"To quickly recap the range() function when passing one, two, or three parameters:\n",
    "\n",
    "One parameter will create a sequence, one-by-one, from zero to one less than the parameter.\n",
    "Two parameters will create a sequence, one-by-one, from the first parameter to one less than the second parameter.\n",
    "Three parameters will create a sequence starting with the first parameter and stopping before the second parameter, \n",
    "but this time increasing each step by the third parameter. \"\"\""
   ]
  },
  {
   "cell_type": "code",
   "execution_count": 49,
   "metadata": {},
   "outputs": [
    {
     "name": "stdout",
     "output_type": "stream",
     "text": [
      "0 -17.77777777777778\n",
      "10 -12.222222222222221\n",
      "20 -6.666666666666667\n",
      "30 -1.1111111111111112\n",
      "40 4.444444444444445\n",
      "50 10.0\n",
      "60 15.555555555555555\n",
      "70 21.11111111111111\n",
      "80 26.666666666666668\n",
      "90 32.22222222222222\n",
      "100 37.77777777777778\n"
     ]
    }
   ],
   "source": [
    "# 3 parameters into range function:\n",
    "\n",
    "def to_celsius(x):\n",
    "    return (x-32)*5/9\n",
    "\n",
    "for x in range(0,101,10):\n",
    "    print(x, to_celsius(x))"
   ]
  },
  {
   "cell_type": "code",
   "execution_count": 58,
   "metadata": {},
   "outputs": [
    {
     "name": "stdout",
     "output_type": "stream",
     "text": [
      "[1|1] [1|2] [1|3] [1|4] [1|5] [1|6] [2|2] [2|3] [2|4] [2|5] [2|6] [3|3] [3|4] [3|5] [3|6] [4|4] [4|5] [4|6] [5|5] [5|6] [6|6] "
     ]
    }
   ],
   "source": [
    "# Example for nested for loop:\n",
    "\n",
    "for left in range(1,7):\n",
    "    for right in range(left,7):\n",
    "        print(\"[\"+str(left)+'|'+str(right)+\"]\", end = \" \")"
   ]
  },
  {
   "cell_type": "code",
   "execution_count": 75,
   "metadata": {},
   "outputs": [
    {
     "name": "stdout",
     "output_type": "stream",
     "text": [
      "Marvel vs DC\n",
      "Marvel vs DBZ\n",
      "Marvel vs Ben10\n",
      "DC vs Marvel\n",
      "DC vs DBZ\n",
      "DC vs Ben10\n",
      "DBZ vs Marvel\n",
      "DBZ vs DC\n",
      "DBZ vs Ben10\n",
      "Ben10 vs Marvel\n",
      "Ben10 vs DC\n",
      "Ben10 vs DBZ\n"
     ]
    }
   ],
   "source": [
    "# Nested for loop another example:\n",
    "\n",
    "teams = ['Marvel','DC','DBZ','Ben10']\n",
    "\n",
    "for a_team in teams:\n",
    "    for b_team in teams:\n",
    "        if a_team != b_team:\n",
    "            print(a_team+\" vs \"+b_team)\n",
    "            \n",
    "       "
   ]
  },
  {
   "cell_type": "code",
   "execution_count": 3,
   "metadata": {},
   "outputs": [
    {
     "name": "stdout",
     "output_type": "stream",
     "text": [
      "24\n"
     ]
    }
   ],
   "source": [
    "# finding factorial of given number:\n",
    "\n",
    "def factorial(n):\n",
    "    result = 1\n",
    "    for x in range(1,n+1):\n",
    "        result =  result*x \n",
    "        n = n-1\n",
    "    return print(result)\n",
    "\n",
    "factorial(4)"
   ]
  },
  {
   "cell_type": "code",
   "execution_count": 5,
   "metadata": {},
   "outputs": [
    {
     "name": "stdout",
     "output_type": "stream",
     "text": [
      "0 1\n",
      "1 1\n",
      "2 2\n",
      "3 6\n",
      "4 24\n",
      "5 120\n",
      "6 720\n",
      "7 5040\n",
      "8 40320\n",
      "9 362880\n",
      "10 3628800\n"
     ]
    }
   ],
   "source": [
    "# --\n",
    "\n",
    "def factorial(n):\n",
    "    result = 1\n",
    "    for x in range(1,n):\n",
    "        result = result * x\n",
    "    return result\n",
    "\n",
    "for n in range(0,11):\n",
    "    print(n, factorial(n+1))"
   ]
  },
  {
   "cell_type": "code",
   "execution_count": 6,
   "metadata": {},
   "outputs": [
    {
     "name": "stdout",
     "output_type": "stream",
     "text": [
      "1\n",
      "8\n",
      "27\n",
      "64\n",
      "125\n",
      "216\n",
      "343\n",
      "512\n",
      "729\n",
      "1000\n"
     ]
    }
   ],
   "source": [
    "# prints the first 10 cube numbers (x**3), starting with x=1 and ending with x=10.\n",
    "\n",
    "for x in range(1,11):\n",
    "  print(x**3)"
   ]
  },
  {
   "cell_type": "code",
   "execution_count": 8,
   "metadata": {},
   "outputs": [
    {
     "name": "stdout",
     "output_type": "stream",
     "text": [
      "0\n",
      "7\n",
      "14\n",
      "21\n",
      "28\n",
      "35\n",
      "42\n",
      "49\n",
      "56\n",
      "63\n",
      "70\n",
      "77\n",
      "84\n",
      "91\n",
      "98\n"
     ]
    }
   ],
   "source": [
    "# Write a script that prints the multiples of 7 between 0 and 100\n",
    "\n",
    "for x in range(0,101):\n",
    "    if x%7 == 0:\n",
    "         print(x)"
   ]
  },
  {
   "cell_type": "code",
   "execution_count": null,
   "metadata": {},
   "outputs": [],
   "source": []
  },
  {
   "cell_type": "code",
   "execution_count": null,
   "metadata": {},
   "outputs": [],
   "source": []
  },
  {
   "cell_type": "code",
   "execution_count": null,
   "metadata": {},
   "outputs": [],
   "source": []
  }
 ],
 "metadata": {
  "kernelspec": {
   "display_name": "Python 3 (ipykernel)",
   "language": "python",
   "name": "python3"
  },
  "language_info": {
   "codemirror_mode": {
    "name": "ipython",
    "version": 3
   },
   "file_extension": ".py",
   "mimetype": "text/x-python",
   "name": "python",
   "nbconvert_exporter": "python",
   "pygments_lexer": "ipython3",
   "version": "3.8.11"
  }
 },
 "nbformat": 4,
 "nbformat_minor": 4
}
