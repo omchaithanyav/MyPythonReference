{
 "cells": [
  {
   "cell_type": "code",
   "execution_count": 1,
   "metadata": {},
   "outputs": [],
   "source": [
    "# Arithmetic operators order in python:\n",
    "# >> BODMAS [Brackets, Orders(powers and roots), Division, Multiplication, Addition, Subtraction ]"
   ]
  },
  {
   "cell_type": "code",
   "execution_count": 11,
   "metadata": {},
   "outputs": [
    {
     "name": "stdout",
     "output_type": "stream",
     "text": [
      "True\n",
      "False\n",
      "False\n",
      "False\n",
      "True\n",
      "True\n",
      "True\n"
     ]
    }
   ],
   "source": [
    "# Comparing Operators # . When a comparison is made, Python returns a boolean result, or simply a True or False. \n",
    "\n",
    "print(1 > 0)     # It prints true and this 'true' belongs to boolean data type.\n",
    "print(97 > 987)  # It prints false and this 'false' belongs to boolean data type.\n",
    "\n",
    "print('hlo' == 'hey')  # '==' is a comparision operator used to compare two values of any data type.\n",
    "print('1' == 1)        # '1' is a string and 1 is an integer.\n",
    "print ('1' == str(1))  # Here, it returns true coz we have used 'str' to convert data type. \n",
    "\n",
    "print(101 != 100)     # '!=' is a 'not equal' operator.\n",
    "print(100 != '100')   # It returns true coz it know that '100' is a string and not an integer"
   ]
  },
  {
   "cell_type": "code",
   "execution_count": 27,
   "metadata": {},
   "outputs": [
    {
     "name": "stdout",
     "output_type": "stream",
     "text": [
      "False\n",
      "True\n",
      "False\n"
     ]
    }
   ],
   "source": [
    "# Logical operators: and, or, not.\n",
    "\n",
    "print((\"hello\" == \"hello\") and (\"hi\" > \"hlo\")) # prints false if either of the conditions is false.\n",
    "print((\"hello\" == \"hello\") or (\"hi\" > \"hlo\"))  # prints true if either of the conditions is true. \n",
    "print(not\"hello\" == \"hello\")                   # prints false if it is true and vice versa."
   ]
  },
  {
   "cell_type": "code",
   "execution_count": null,
   "metadata": {},
   "outputs": [],
   "source": [
    "# Comparison operators\n",
    "\n",
    "\n",
    "# a == b: a is equal to b\n",
    "\n",
    "\n",
    "# a != b: a is different than b\n",
    "\n",
    "# a < b: a is smaller than b\n",
    "\n",
    "# a <= b: a is smaller or equal to b\n",
    "\n",
    "# a > b: a is bigger than b\n",
    "\n",
    "# a >= b: a is bigger or equal to b\n",
    "\n",
    "\n",
    "\n",
    "# Logical operators\n",
    "\n",
    "\n",
    "# a and b: True if both a and b are True. False otherwise.\n",
    "\n",
    "# a or b: True if either a or b or both are True. False if both are False.\n",
    "\n",
    "# not a: True if a is False, False if a is True."
   ]
  }
 ],
 "metadata": {
  "kernelspec": {
   "display_name": "Python 3",
   "language": "python",
   "name": "python3"
  },
  "language_info": {
   "codemirror_mode": {
    "name": "ipython",
    "version": 3
   },
   "file_extension": ".py",
   "mimetype": "text/x-python",
   "name": "python",
   "nbconvert_exporter": "python",
   "pygments_lexer": "ipython3",
   "version": "3.8.5"
  }
 },
 "nbformat": 4,
 "nbformat_minor": 4
}
