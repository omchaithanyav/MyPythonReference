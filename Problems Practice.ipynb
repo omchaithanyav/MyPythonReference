{
 "cells": [
  {
   "cell_type": "code",
   "execution_count": 36,
   "id": "3826228a",
   "metadata": {},
   "outputs": [
    {
     "name": "stdout",
     "output_type": "stream",
     "text": [
      "                                  2021\n",
      "\n",
      "      January                   February                   March\n",
      "Mo Tu We Th Fr Sa Su      Mo Tu We Th Fr Sa Su      Mo Tu We Th Fr Sa Su\n",
      "             1  2  3       1  2  3  4  5  6  7       1  2  3  4  5  6  7\n",
      " 4  5  6  7  8  9 10       8  9 10 11 12 13 14       8  9 10 11 12 13 14\n",
      "11 12 13 14 15 16 17      15 16 17 18 19 20 21      15 16 17 18 19 20 21\n",
      "18 19 20 21 22 23 24      22 23 24 25 26 27 28      22 23 24 25 26 27 28\n",
      "25 26 27 28 29 30 31                                29 30 31\n",
      "\n",
      "       April                      May                       June\n",
      "Mo Tu We Th Fr Sa Su      Mo Tu We Th Fr Sa Su      Mo Tu We Th Fr Sa Su\n",
      "          1  2  3  4                      1  2          1  2  3  4  5  6\n",
      " 5  6  7  8  9 10 11       3  4  5  6  7  8  9       7  8  9 10 11 12 13\n",
      "12 13 14 15 16 17 18      10 11 12 13 14 15 16      14 15 16 17 18 19 20\n",
      "19 20 21 22 23 24 25      17 18 19 20 21 22 23      21 22 23 24 25 26 27\n",
      "26 27 28 29 30            24 25 26 27 28 29 30      28 29 30\n",
      "                          31\n",
      "\n",
      "        July                     August                  September\n",
      "Mo Tu We Th Fr Sa Su      Mo Tu We Th Fr Sa Su      Mo Tu We Th Fr Sa Su\n",
      "          1  2  3  4                         1             1  2  3  4  5\n",
      " 5  6  7  8  9 10 11       2  3  4  5  6  7  8       6  7  8  9 10 11 12\n",
      "12 13 14 15 16 17 18       9 10 11 12 13 14 15      13 14 15 16 17 18 19\n",
      "19 20 21 22 23 24 25      16 17 18 19 20 21 22      20 21 22 23 24 25 26\n",
      "26 27 28 29 30 31         23 24 25 26 27 28 29      27 28 29 30\n",
      "                          30 31\n",
      "\n",
      "      October                   November                  December\n",
      "Mo Tu We Th Fr Sa Su      Mo Tu We Th Fr Sa Su      Mo Tu We Th Fr Sa Su\n",
      "             1  2  3       1  2  3  4  5  6  7             1  2  3  4  5\n",
      " 4  5  6  7  8  9 10       8  9 10 11 12 13 14       6  7  8  9 10 11 12\n",
      "11 12 13 14 15 16 17      15 16 17 18 19 20 21      13 14 15 16 17 18 19\n",
      "18 19 20 21 22 23 24      22 23 24 25 26 27 28      20 21 22 23 24 25 26\n",
      "25 26 27 28 29 30 31      29 30                     27 28 29 30 31\n",
      "\n"
     ]
    }
   ],
   "source": [
    "# print calender of the current year:\n",
    "\n",
    "import calendar\n",
    "\n",
    "print(calendar.calendar(2021))"
   ]
  },
  {
   "cell_type": "code",
   "execution_count": 37,
   "id": "527f10ba",
   "metadata": {},
   "outputs": [
    {
     "name": "stdout",
     "output_type": "stream",
     "text": [
      "    January 2022\n",
      "Mo Tu We Th Fr Sa Su\n",
      "                1  2\n",
      " 3  4  5  6  7  8  9\n",
      "10 11 12 13 14 15 16\n",
      "17 18 19 20 21 22 23\n",
      "24 25 26 27 28 29 30\n",
      "31\n",
      "\n"
     ]
    }
   ],
   "source": [
    "print(calendar.month(2022, 1))"
   ]
  },
  {
   "cell_type": "code",
   "execution_count": null,
   "id": "ba3177bb",
   "metadata": {},
   "outputs": [],
   "source": []
  },
  {
   "cell_type": "code",
   "execution_count": 38,
   "id": "3a45966c",
   "metadata": {},
   "outputs": [
    {
     "name": "stdout",
     "output_type": "stream",
     "text": [
      "Enter the size of list: \n",
      "9\n",
      "90\n",
      "21\n",
      "11\n",
      "4\n",
      "3\n",
      "17\n",
      "88\n",
      "21\n",
      "31\n",
      "Smallest is: 3 and second smallest is: 4\n"
     ]
    }
   ],
   "source": [
    "# Find the smallest and second smallest numbers from the list:\n",
    "\n",
    "print(\"Enter the size of list: \")\n",
    "size = int(input())\n",
    "\n",
    "l = []\n",
    "\n",
    "for i in range(size):\n",
    "    a = int(input())\n",
    "    l.append(int(a))\n",
    "    \n",
    "l.sort()    \n",
    "\n",
    "print(\"Smallest is: {} and second smallest is: {}\".format(l[0],l[1]))"
   ]
  },
  {
   "cell_type": "code",
   "execution_count": null,
   "id": "c82d8ba8",
   "metadata": {},
   "outputs": [],
   "source": []
  },
  {
   "cell_type": "code",
   "execution_count": 2,
   "id": "a5b51e54",
   "metadata": {},
   "outputs": [
    {
     "name": "stdout",
     "output_type": "stream",
     "text": [
      "Enter the length of list: \n",
      "10\n",
      "8\n",
      "5\n",
      "00\n",
      "0\n",
      "3\n",
      "4\n",
      "0\n",
      "8\n",
      "9\n",
      "0\n"
     ]
    },
    {
     "data": {
      "text/plain": [
       "[8, 5, 3, 4, 8, 9]"
      ]
     },
     "execution_count": 2,
     "metadata": {},
     "output_type": "execute_result"
    }
   ],
   "source": [
    "# Remove 0s from an array and store the non zero values in the same order\n",
    "\n",
    "list1 = []\n",
    "print(\"Enter the length of list: \")\n",
    "length = int(input())\n",
    "\n",
    "for i in range(length):\n",
    "    n = int(input())\n",
    "    list1.append(n)\n",
    "    \n",
    "#list(filter(lambda a: a != 0, list1))\n",
    "[a for a in list1 if a != 0]"
   ]
  },
  {
   "cell_type": "code",
   "execution_count": 14,
   "id": "2918703b",
   "metadata": {},
   "outputs": [
    {
     "name": "stdout",
     "output_type": "stream",
     "text": [
      "9900123480\n",
      "9912348\n"
     ]
    }
   ],
   "source": [
    "# Remove 0s from an integer and store the non zero values in the same order\n",
    "\n",
    "number = int(input())\n",
    "string = str(number) \n",
    "new_str = \"\"\n",
    "\n",
    "for i in range(len(string)):\n",
    "    if string[i]=='0':\n",
    "        new_str = new_str+\"\"\n",
    "    else:\n",
    "        new_str = new_str+string[i]\n",
    "        \n",
    "print(int(new_str))"
   ]
  },
  {
   "cell_type": "code",
   "execution_count": null,
   "id": "0fec67d3",
   "metadata": {},
   "outputs": [],
   "source": []
  },
  {
   "cell_type": "code",
   "execution_count": 5,
   "id": "34a16fa7",
   "metadata": {},
   "outputs": [
    {
     "name": "stdout",
     "output_type": "stream",
     "text": [
      "3131414\n",
      "3131414\n",
      "Yes\n"
     ]
    }
   ],
   "source": [
    "# write a program using functions to verify from two integer numbers A and B if B corresponds to the last digit/digits of A.\n",
    "# method 1:\n",
    "\n",
    "def fn(A, B):\n",
    "    \n",
    "    if B == (A%pow(10,temp)):\n",
    "        print(\"Yes\")\n",
    "    else:\n",
    "        print(\"No\")\n",
    "\n",
    "A = int(input())\n",
    "B = int(input())\n",
    "temp = len(str(B))\n",
    "\n",
    "fn(A,B)"
   ]
  },
  {
   "cell_type": "code",
   "execution_count": 19,
   "id": "2b648c56",
   "metadata": {},
   "outputs": [
    {
     "name": "stdout",
     "output_type": "stream",
     "text": [
      "191031\n",
      "031\n",
      "Yes\n"
     ]
    }
   ],
   "source": [
    "# method 2:\n",
    "\n",
    "A = str(int(input()))\n",
    "B = str(int(input()))\n",
    "\n",
    "if B in A:\n",
    "    print(\"Yes\")\n",
    "else:\n",
    "    print(\"No\")"
   ]
  },
  {
   "cell_type": "code",
   "execution_count": null,
   "id": "7215d0a4",
   "metadata": {},
   "outputs": [],
   "source": []
  },
  {
   "cell_type": "code",
   "execution_count": 19,
   "id": "f61ded7f",
   "metadata": {},
   "outputs": [
    {
     "name": "stdout",
     "output_type": "stream",
     "text": [
      "31331*23*13*1##!fsf23187\n"
     ]
    },
    {
     "data": {
      "text/plain": [
       "False"
      ]
     },
     "execution_count": 19,
     "metadata": {},
     "output_type": "execute_result"
    }
   ],
   "source": [
    "# write a program that returns true if all the characters in the string are integers else return false\n",
    "\n",
    "def fn(string):\n",
    "    if(string.isdigit()):\n",
    "        return True\n",
    "    else:\n",
    "        return False\n",
    "\n",
    "str1 = str(input())\n",
    "fn(str1)"
   ]
  },
  {
   "cell_type": "code",
   "execution_count": null,
   "id": "89a968fb",
   "metadata": {},
   "outputs": [],
   "source": []
  },
  {
   "cell_type": "code",
   "execution_count": 26,
   "id": "9c6404a8",
   "metadata": {},
   "outputs": [
    {
     "name": "stdout",
     "output_type": "stream",
     "text": [
      "ApeGamErYT\n",
      "count of Upper case letters: 5\n",
      "count of Lower case letters: 5\n"
     ]
    }
   ],
   "source": [
    "# write a program that prints the input itself and also the count of upper case letters and count of lower case letters in the given string.\n",
    "\n",
    "str1 = str(input())\n",
    "\n",
    "count_upper = 0\n",
    "count_lower = 0\n",
    "\n",
    "for i in range(len(str1)):\n",
    "    if(str1[i].isupper()):\n",
    "        count_upper += 1\n",
    "    if(str1[i].islower()):\n",
    "        count_lower += 1\n",
    "\n",
    "print(\"count of Upper case letters: {}\".format(count_upper))\n",
    "print(\"count of Lower case letters: {}\".format(count_lower))"
   ]
  },
  {
   "cell_type": "code",
   "execution_count": null,
   "id": "e562a5b0",
   "metadata": {},
   "outputs": [],
   "source": []
  },
  {
   "cell_type": "code",
   "execution_count": 3,
   "id": "d0256d3f",
   "metadata": {},
   "outputs": [
    {
     "name": "stdout",
     "output_type": "stream",
     "text": [
      "Enter the length of Array: 5\n",
      "1\n",
      "2\n",
      "3\n",
      "4\n",
      "6\n",
      "[6, 4, 3, 2, 1]\n"
     ]
    }
   ],
   "source": [
    "# write a program to sort an array in descending order\n",
    "\n",
    "length = int(input(\"Enter the length of Array: \"))\n",
    "list_ = []\n",
    "\n",
    "for i in range(length):\n",
    "    num = int(input())\n",
    "    list_.append(num)\n",
    "    \n",
    "list_.sort()\n",
    "list_.reverse()\n",
    "print(list_)"
   ]
  },
  {
   "cell_type": "code",
   "execution_count": null,
   "id": "aec45fc7",
   "metadata": {},
   "outputs": [],
   "source": []
  },
  {
   "cell_type": "code",
   "execution_count": 23,
   "id": "f72383b1",
   "metadata": {},
   "outputs": [
    {
     "name": "stdout",
     "output_type": "stream",
     "text": [
      "6  5  4  3  2  1  \n",
      "5  4  3  2  1  \n",
      "4  3  2  1  \n",
      "3  2  1  \n",
      "2  1  \n",
      "1  \n"
     ]
    }
   ],
   "source": [
    "# number pattern1\n",
    "\n",
    "for i in range(6,0,-1):\n",
    "    for j in range(i,0,-1):\n",
    "        print(j,\" \", end=\"\")\n",
    "    print()"
   ]
  },
  {
   "cell_type": "code",
   "execution_count": null,
   "id": "c2e5defc",
   "metadata": {},
   "outputs": [],
   "source": []
  },
  {
   "cell_type": "code",
   "execution_count": 8,
   "id": "44a90aa4",
   "metadata": {},
   "outputs": [
    {
     "name": "stdout",
     "output_type": "stream",
     "text": [
      "#  #  #  #  #  \n",
      " #  #  #  #  \n",
      "  #  #  #  \n",
      "   #  #  \n",
      "    #  \n",
      "     "
     ]
    }
   ],
   "source": [
    "# hash pattern 1\n",
    "\n",
    "for i in range(0,5,1):\n",
    "    for j in range(i,5,1):\n",
    "        print(\"#\",\" \",end=\"\")\n",
    "    print()\n",
    "    for j in range(0,i+1,1):\n",
    "        print(\" \", end=\"\")"
   ]
  },
  {
   "cell_type": "code",
   "execution_count": null,
   "id": "ad560970",
   "metadata": {},
   "outputs": [],
   "source": []
  },
  {
   "cell_type": "code",
   "execution_count": 14,
   "id": "3bbc74e5",
   "metadata": {},
   "outputs": [
    {
     "name": "stdout",
     "output_type": "stream",
     "text": [
      "     #  \n",
      "    #  #  \n",
      "   #  #  #  \n",
      "  #  #  #  #  \n",
      " #  #  #  #  #  \n"
     ]
    }
   ],
   "source": [
    "# hash pattern 2\n",
    "num = 5\n",
    "\n",
    "for i in range(0,num,1):\n",
    "    for j in range(0,num-i,1):\n",
    "        print(\" \", end=\"\")\n",
    "    for j in range(0,i+1,1):\n",
    "        print(\"#\",\" \", end=\"\")\n",
    "    print()"
   ]
  },
  {
   "cell_type": "code",
   "execution_count": null,
   "id": "9faa5c5f",
   "metadata": {},
   "outputs": [],
   "source": []
  },
  {
   "cell_type": "code",
   "execution_count": 15,
   "id": "794fef09",
   "metadata": {},
   "outputs": [
    {
     "name": "stdout",
     "output_type": "stream",
     "text": [
      "1   2\n",
      "7   8\n",
      "10   11\n",
      "11   12\n",
      "12   13\n",
      "23   24\n"
     ]
    }
   ],
   "source": [
    "# element Pair of minimal difference\n",
    "\n",
    "numbers = [1,2,7,16,13,11,10,8,12,23,24]\n",
    "numbers.sort()\n",
    "\n",
    "minimum = numbers[1]-numbers[0]\n",
    "for i in range(0,len(numbers)-1,1):\n",
    "    diff = numbers[i+1]-numbers[i]\n",
    "    if(diff<minimum):\n",
    "        temp = diff\n",
    "        diff = minimum\n",
    "        minimum = temp\n",
    "\n",
    "for i in range(0,len(numbers)-1,1):\n",
    "    diff = numbers[i+1]-numbers[i]\n",
    "    if(diff==minimum):\n",
    "        print(numbers[i],\" \",numbers[i+1])"
   ]
  },
  {
   "cell_type": "code",
   "execution_count": null,
   "id": "e9cce419",
   "metadata": {},
   "outputs": [],
   "source": []
  },
  {
   "cell_type": "code",
   "execution_count": 1,
   "id": "0d8d1fc8",
   "metadata": {},
   "outputs": [
    {
     "name": "stdout",
     "output_type": "stream",
     "text": [
      "1  *  1  =  1\n",
      "1  *  2  =  2\n",
      "1  *  3  =  3\n",
      "1  *  4  =  4\n",
      "1  *  5  =  5\n",
      "1  *  6  =  6\n",
      "1  *  7  =  7\n",
      "1  *  8  =  8\n",
      "1  *  9  =  9\n",
      "1  *  10  =  10\n",
      "\n",
      "2  *  1  =  2\n",
      "2  *  2  =  4\n",
      "2  *  3  =  6\n",
      "2  *  4  =  8\n",
      "2  *  5  =  10\n",
      "2  *  6  =  12\n",
      "2  *  7  =  14\n",
      "2  *  8  =  16\n",
      "2  *  9  =  18\n",
      "2  *  10  =  20\n",
      "\n",
      "3  *  1  =  3\n",
      "3  *  2  =  6\n",
      "3  *  3  =  9\n",
      "3  *  4  =  12\n",
      "3  *  5  =  15\n",
      "3  *  6  =  18\n",
      "3  *  7  =  21\n",
      "3  *  8  =  24\n",
      "3  *  9  =  27\n",
      "3  *  10  =  30\n",
      "\n",
      "4  *  1  =  4\n",
      "4  *  2  =  8\n",
      "4  *  3  =  12\n",
      "4  *  4  =  16\n",
      "4  *  5  =  20\n",
      "4  *  6  =  24\n",
      "4  *  7  =  28\n",
      "4  *  8  =  32\n",
      "4  *  9  =  36\n",
      "4  *  10  =  40\n",
      "\n",
      "5  *  1  =  5\n",
      "5  *  2  =  10\n",
      "5  *  3  =  15\n",
      "5  *  4  =  20\n",
      "5  *  5  =  25\n",
      "5  *  6  =  30\n",
      "5  *  7  =  35\n",
      "5  *  8  =  40\n",
      "5  *  9  =  45\n",
      "5  *  10  =  50\n",
      "\n"
     ]
    }
   ],
   "source": [
    "# Print Tables of numbers\n",
    "\n",
    "for i in range(1, 6, 1):\n",
    "    for j in range(1, 11, 1):\n",
    "        print(i,\" * \",j,\" = \",i*j)\n",
    "    print()"
   ]
  },
  {
   "cell_type": "code",
   "execution_count": null,
   "id": "8ae79391",
   "metadata": {},
   "outputs": [],
   "source": []
  },
  {
   "cell_type": "code",
   "execution_count": 12,
   "id": "695542ac",
   "metadata": {},
   "outputs": [],
   "source": [
    "# ratio of positives, negetives and zeros\n",
    "def plusMinus(arr):\n",
    "    n= len(arr)\n",
    "    zeros_count=0\n",
    "    positives_count=0\n",
    "    negetives_count=0\n",
    "    for i in range(0,n,1):\n",
    "        if arr[i]<0: negetives_count+=1\n",
    "        if arr[i]==0: zeros_count+=1\n",
    "        if arr[i]>0: positives_count+=1\n",
    "    pos_ratio = positives_count/n\n",
    "    neg_ratio = negetives_count/n\n",
    "    zeros_ratio = zeros_count/n\n",
    "    \n",
    "    print(pos_ratio)\n",
    "    print(neg_ratio)\n",
    "    print(zeros_ratio)"
   ]
  },
  {
   "cell_type": "code",
   "execution_count": 13,
   "id": "5ce88d98",
   "metadata": {},
   "outputs": [
    {
     "name": "stdout",
     "output_type": "stream",
     "text": [
      "0.5\n",
      "0.3333333333333333\n",
      "0.16666666666666666\n"
     ]
    }
   ],
   "source": [
    "a = [-4, 3, -9, 0, 4, 1]\n",
    "plusMinus(a)"
   ]
  },
  {
   "cell_type": "code",
   "execution_count": null,
   "id": "b851a651",
   "metadata": {},
   "outputs": [],
   "source": []
  },
  {
   "cell_type": "code",
   "execution_count": 7,
   "id": "d12b8d48",
   "metadata": {},
   "outputs": [],
   "source": [
    "# https://www.hackerrank.com/challenges/mini-max-sum/problem?utm_campaign=challenge-recommendation&utm_medium=email&utm_source=24-hour-campaign\n",
    "\n",
    "def miniMaxSum(a):\n",
    "    n=len(arr)\n",
    "    min_=0\n",
    "    max_=0\n",
    "    a.sort()\n",
    "    for i in range(0,n,1):\n",
    "        if i>0:\n",
    "            max_=max_+a[i]\n",
    "        if i>=0 and i!=n-1:\n",
    "            min_=min_+a[i]\n",
    "            \n",
    "    print(min_,max_)"
   ]
  },
  {
   "cell_type": "code",
   "execution_count": null,
   "id": "88b62d87",
   "metadata": {},
   "outputs": [],
   "source": []
  },
  {
   "cell_type": "code",
   "execution_count": 31,
   "id": "4ed9d08f",
   "metadata": {},
   "outputs": [],
   "source": [
    "# https://www.hackerrank.com/challenges/grading/problem?utm_campaign=challenge-recommendation&utm_medium=email&utm_source=24-hour-campaign\n",
    "\n",
    "def gradingStudents(grades):\n",
    "    n=len(grades)\n",
    "    for i in range(0, n):\n",
    "        if grades[i]>=38:\n",
    "            for j in range(0,3):\n",
    "                if (grades[i]+j)%5==0:\n",
    "                        grades[i] = grades[i]+j \n",
    "    \n",
    "    return grades"
   ]
  },
  {
   "cell_type": "code",
   "execution_count": 32,
   "id": "b00887a9",
   "metadata": {},
   "outputs": [
    {
     "data": {
      "text/plain": [
       "[75, 67, 40, 33]"
      ]
     },
     "execution_count": 32,
     "metadata": {},
     "output_type": "execute_result"
    }
   ],
   "source": [
    "g = [73,67,38,33]\n",
    "gradingStudents(g)"
   ]
  },
  {
   "cell_type": "code",
   "execution_count": null,
   "id": "3589c260",
   "metadata": {},
   "outputs": [],
   "source": []
  },
  {
   "cell_type": "code",
   "execution_count": 33,
   "id": "0cbbe431",
   "metadata": {},
   "outputs": [],
   "source": [
    "# https://www.hackerrank.com/challenges/grading/problem?utm_campaign=challenge-recommendation&utm_medium=email&utm_source=24-hour-campaign\n",
    "\n",
    "# optimized solution\n",
    "\n",
    "def gradingStudents(grades):\n",
    "    n=len(grades)\n",
    "    j=2\n",
    "    for i in range(0, n):\n",
    "        if ((grades[i]>=38) and ((grades[i]+j) % 5 == 0)) or ((grades[i]>=38) and ((grades[i]+j-1) % 5 == 0)) or ((grades[i]>=38) and ((grades[i]+j-2) % 5 == 0)):\n",
    "                    grades[i] = grades[i]+j\n",
    "    \n",
    "    return grades"
   ]
  },
  {
   "cell_type": "code",
   "execution_count": 34,
   "id": "aa04f9ed",
   "metadata": {},
   "outputs": [
    {
     "data": {
      "text/plain": [
       "[75, 67, 40, 33]"
      ]
     },
     "execution_count": 34,
     "metadata": {},
     "output_type": "execute_result"
    }
   ],
   "source": [
    "g = [73,67,38,33]\n",
    "gradingStudents(g)"
   ]
  },
  {
   "cell_type": "code",
   "execution_count": null,
   "id": "39b3d460",
   "metadata": {},
   "outputs": [],
   "source": []
  },
  {
   "cell_type": "code",
   "execution_count": 3,
   "id": "4975b7fd",
   "metadata": {},
   "outputs": [],
   "source": [
    "# isPrime problem [Deloitte question]\n",
    "\n",
    "def isPrime(n):\n",
    "    count = 0\n",
    "    for i in range(2, ((n//2)+1)):\n",
    "        if(n%i==0):\n",
    "            count+=1\n",
    "    if(count==0 and n!=1):\n",
    "        return True\n",
    "    else:\n",
    "        return False\n",
    "\n",
    "\n",
    "def sol(n,m):\n",
    "    for i in range(n,m+1):\n",
    "        str_ = str(i)\n",
    "        l1=[]\n",
    "        if (isPrime(i) == True):\n",
    "            [l1.append(str_[j]) for j in range(len(str_))]\n",
    "            sum = 0\n",
    "            for num in l1:\n",
    "                sum = sum+int(num)\n",
    "            if(isPrime(sum)==True):\n",
    "                print(i, \"\", end=\"\")"
   ]
  },
  {
   "cell_type": "code",
   "execution_count": 4,
   "id": "6e06e03a",
   "metadata": {},
   "outputs": [
    {
     "name": "stdout",
     "output_type": "stream",
     "text": [
      "11 "
     ]
    }
   ],
   "source": [
    "sol(10,20)"
   ]
  },
  {
   "cell_type": "code",
   "execution_count": null,
   "id": "af97af24",
   "metadata": {},
   "outputs": [],
   "source": [
    "# slight optimization of above code:"
   ]
  },
  {
   "cell_type": "code",
   "execution_count": 5,
   "id": "11051eac",
   "metadata": {},
   "outputs": [],
   "source": [
    "def sol(n,m):\n",
    "    for i in range(n,m+1):\n",
    "        str_ = str(i)\n",
    "        l1=[]\n",
    "        if (isPrime(i) == True):\n",
    "            sum = 0\n",
    "            for j in range(len(str_)):\n",
    "                sum = sum + int(str_[j])\n",
    "            if(isPrime(sum)):\n",
    "                print(i,\"\", end=\"\")"
   ]
  },
  {
   "cell_type": "code",
   "execution_count": 6,
   "id": "21e1f1ad",
   "metadata": {},
   "outputs": [
    {
     "name": "stdout",
     "output_type": "stream",
     "text": [
      "11 "
     ]
    }
   ],
   "source": [
    "sol(10,20)"
   ]
  },
  {
   "cell_type": "code",
   "execution_count": null,
   "id": "4054aa5f",
   "metadata": {},
   "outputs": [],
   "source": []
  },
  {
   "cell_type": "code",
   "execution_count": 14,
   "id": "af01866d",
   "metadata": {},
   "outputs": [],
   "source": [
    "# deloitte coding question:\n",
    "\n",
    "import math\n",
    "def solution(N,arr):\n",
    "    ans = 0\n",
    "    num = 0\n",
    "    for i in range(0,N):\n",
    "        last_digit = arr[i]%10\n",
    "        num = arr[i]//10\n",
    "        #print(num)\n",
    "        for j in range(0,last_digit):\n",
    "            num=num//10\n",
    "        print(\"base:\" ,num)\n",
    "        str_pow = str(a[i])\n",
    "        if(num%10==num):\n",
    "            str_pow = str_pow[(last_digit-(last_digit-1)) :-1]  \n",
    "        else:\n",
    "            str_pow = str_pow[(last_digit-(last_digit-2)) :-1] \n",
    "        pow_n = int(str_pow)\n",
    "        print(\"exponent:\" ,pow_n)\n",
    "        print()\n",
    "        ans = math.pow(num,pow_n)+ans\n",
    "    return ans"
   ]
  },
  {
   "cell_type": "code",
   "execution_count": 15,
   "id": "9c224365",
   "metadata": {},
   "outputs": [
    {
     "name": "stdout",
     "output_type": "stream",
     "text": [
      "base: 10\n",
      "exponent: 10\n",
      "\n",
      "base: 10\n",
      "exponent: 2\n",
      "\n",
      "base: 1\n",
      "exponent: 13\n",
      "\n"
     ]
    },
    {
     "data": {
      "text/plain": [
       "10000000101.0"
      ]
     },
     "execution_count": 15,
     "metadata": {},
     "output_type": "execute_result"
    }
   ],
   "source": [
    "a=[10102, 1021, 1132]\n",
    "N=3\n",
    "\n",
    "solution(N, a)"
   ]
  },
  {
   "cell_type": "code",
   "execution_count": null,
   "id": "edc9bf23",
   "metadata": {},
   "outputs": [],
   "source": []
  },
  {
   "cell_type": "code",
   "execution_count": 11,
   "id": "b92fec8a",
   "metadata": {},
   "outputs": [
    {
     "name": "stdout",
     "output_type": "stream",
     "text": [
      "Enter the number: 120001200\n",
      "reverse of  0 is:  2100021\n"
     ]
    }
   ],
   "source": [
    "# deloitte interview question\n",
    "\n",
    "''' Write a program to generate the reverse of a given number N. Print the corresponding reverse number.\n",
    "Note : If a number has trailing zeros, then its reverse will not include them. \n",
    "For e.g., reverse of 10400 will be 401 instead of 00401. '''\n",
    "\n",
    "n = int(input(\"Enter the number: \"))\n",
    "rev = 0\n",
    "# to remove the trailing zeros:\n",
    "str_n = str(n)\n",
    "for i in range(len(str_n)):\n",
    "    last_digit = n%10\n",
    "    if last_digit != 0:\n",
    "        break\n",
    "    else:\n",
    "        n = n//10\n",
    "\n",
    "# to get the reverse of the number:\n",
    "\n",
    "while(n!=0):\n",
    "    last_dig = n%10\n",
    "    rev = rev*10 + last_dig\n",
    "    n=n//10\n",
    "\n",
    "print(\"reverse of \",n,\"is: \",rev)"
   ]
  },
  {
   "cell_type": "code",
   "execution_count": null,
   "id": "7777b4b3",
   "metadata": {},
   "outputs": [],
   "source": []
  },
  {
   "cell_type": "code",
   "execution_count": 9,
   "id": "a5d89daf",
   "metadata": {},
   "outputs": [
    {
     "name": "stdout",
     "output_type": "stream",
     "text": [
      "5\n",
      "5 0 3 4 9\n",
      "0 5\n",
      "3 5\n",
      "4 5\n",
      "2\n"
     ]
    }
   ],
   "source": [
    "# length of the longest decreasing subsequence - LTI coding round question\n",
    "\n",
    "n=int(input())\n",
    "\n",
    "arr = list(map(int,input().split()))\n",
    "tokens=[1]*n\n",
    "\n",
    "for i in range(1,n):\n",
    "\n",
    "    for j in range(0,i):\n",
    "\n",
    "        if (arr[i] < arr[j] and tokens[i] < tokens[j] + 1):\n",
    "            print(arr[i],arr[j])\n",
    "\n",
    "            tokens[i] = tokens[j] + 1\n",
    "\n",
    "print(max(tokens))"
   ]
  },
  {
   "cell_type": "code",
   "execution_count": null,
   "id": "62ad8af7",
   "metadata": {},
   "outputs": [],
   "source": []
  },
  {
   "cell_type": "code",
   "execution_count": 7,
   "id": "4ab65440",
   "metadata": {},
   "outputs": [
    {
     "data": {
      "text/plain": [
       "'i'"
      ]
     },
     "execution_count": 7,
     "metadata": {},
     "output_type": "execute_result"
    }
   ],
   "source": [
    "# In the given String all the characters except one are not repeated. Find the character that has occured more than once.\n",
    "\n",
    "def count_of_char(ch,S):\n",
    "    count=0\n",
    "    for i in range(len(S)):\n",
    "        if(S[i]==ch):\n",
    "            count=count+1\n",
    "    return count\n",
    "\n",
    "\n",
    "def solution(S):\n",
    "    for i in range(len(S)):\n",
    "\n",
    "        if(count_of_char(S[i],S)>1):\n",
    "            return S[i]\n",
    "\n",
    "solution(\"Omichait\")"
   ]
  },
  {
   "cell_type": "code",
   "execution_count": null,
   "id": "fab78602",
   "metadata": {},
   "outputs": [],
   "source": []
  },
  {
   "cell_type": "code",
   "execution_count": 15,
   "id": "1b89f924",
   "metadata": {},
   "outputs": [
    {
     "name": "stdout",
     "output_type": "stream",
     "text": [
      "5 10 1 4 8 7\n",
      "9\n"
     ]
    }
   ],
   "source": [
    "''' Maxwell filled his university exam form in which he has filled his mid sem marks \n",
    "but by mistake he has filled DS marks in AI field and AI marks in DS field. \n",
    "He wants to update his mid sem marks but for that he has to pay some penalty.\n",
    "\n",
    "Penalty equal to the sum of absolute differences between adjacent subject marks. \n",
    "\n",
    "Return the minimum penalty that must be paid by him.'''\n",
    "\n",
    "\n",
    "arr = list(map(int,input().split()))\n",
    "arr.sort()\n",
    "\n",
    "sum = 0\n",
    "sum = sum+abs(arr[1]-arr[0])+abs(arr[len(arr)-1]-arr[len(arr)-2])\n",
    "\n",
    "for i in range(1,len(arr)-1):\n",
    "    sum = sum+min(abs(arr[i]-arr[i-1]), abs(arr[i]-arr[i+1]))\n",
    "    \n",
    "print(sum)"
   ]
  },
  {
   "cell_type": "code",
   "execution_count": null,
   "id": "a39522c3",
   "metadata": {},
   "outputs": [],
   "source": []
  },
  {
   "cell_type": "code",
   "execution_count": 41,
   "id": "69184f02",
   "metadata": {},
   "outputs": [
    {
     "name": "stdout",
     "output_type": "stream",
     "text": [
      "5 10 1 4 8 7\n",
      "7\n"
     ]
    }
   ],
   "source": [
    "'''Given an array arr[] of integers, find out the maximum difference between any two elements \n",
    "such that the larger element appears after the smaller number.'''\n",
    "\n",
    "\n",
    "arr = list(map(int,input().split()))\n",
    "arr_sorted = arr.copy()\n",
    "arr_sorted.sort()\n",
    "max_diff=0\n",
    "\n",
    "for i in range(len(arr)-1,-1,-1):\n",
    "            for j in range(i-1,-1,-1):\n",
    "                if(((arr_sorted[i]-arr_sorted[j])>max_diff) and (arr.index(arr_sorted[i])>arr.index(arr_sorted[j]))):\n",
    "                        max_diff=arr_sorted[i]-arr_sorted[j]\n",
    "                    \n",
    "print(max_diff)"
   ]
  },
  {
   "cell_type": "code",
   "execution_count": null,
   "id": "e26052c9",
   "metadata": {},
   "outputs": [],
   "source": []
  },
  {
   "cell_type": "code",
   "execution_count": 42,
   "id": "97acd1f5",
   "metadata": {},
   "outputs": [
    {
     "name": "stdout",
     "output_type": "stream",
     "text": [
      "9 8 13 2 19 14\n",
      "[2, 9, 8, 13, 14, 19]\n"
     ]
    }
   ],
   "source": [
    "'''Given an array of integers (both odd and even), the task is to arrange them in such a way that odd and even values \n",
    "come in alternate fashion in non-decreasing order(ascending) respectively. \n",
    "\n",
    "If the smallest value is Even then we have to print Even-Odd pattern.\n",
    "If the smallest value is Odd then we have to print Odd-Even pattern.\n",
    "Note: No. of odd elements must be equal to No. of even elements in the input array.'''\n",
    "\n",
    "\n",
    "arr = list(map(int, input().split()))\n",
    "odds = []\n",
    "eves = []\n",
    "\n",
    "arr.sort()\n",
    "\n",
    "for i in range(len(arr)):\n",
    "    if(arr[i]%2==0):\n",
    "        eves.append(arr[i])\n",
    "    else:\n",
    "        odds.append(arr[i])\n",
    "        \n",
    "\n",
    "flag = True\n",
    "if arr[0]%2==0:\n",
    "    flag = True\n",
    "else:\n",
    "    flag = False\n",
    "\n",
    "j=0\n",
    "k=0\n",
    "for i in range(len(arr)):\n",
    "    if(flag==True and j<len(eves)):\n",
    "        arr[i] = eves[j]\n",
    "        j=j+1\n",
    "        flag = False\n",
    "       \n",
    "    elif(flag==False and k<len(odds)):\n",
    "        arr[i] = odds[k]\n",
    "        k=k+1\n",
    "        flag=True     \n",
    "        \n",
    "print(arr)"
   ]
  },
  {
   "cell_type": "code",
   "execution_count": null,
   "id": "fae43b3b",
   "metadata": {
    "scrolled": false
   },
   "outputs": [],
   "source": []
  },
  {
   "cell_type": "code",
   "execution_count": 58,
   "id": "49fb95d1",
   "metadata": {},
   "outputs": [
    {
     "name": "stdout",
     "output_type": "stream",
     "text": [
      "ARAYUVILOVE\n"
     ]
    }
   ],
   "source": [
    "'''Ronny is given a string along with the string which contains single character x. \n",
    "She has to remove the character x from the given string. \n",
    "Help her write a function to remove all occurrences of x character from the given string'''\n",
    "\n",
    "def remove_x(string, x):\n",
    "    print(string.replace(x, \"\"))\n",
    "    \n",
    "remove_x(\"SARAYUVISLOVE\",'S')"
   ]
  },
  {
   "cell_type": "code",
   "execution_count": 59,
   "id": "0c7aa18e",
   "metadata": {},
   "outputs": [
    {
     "name": "stdout",
     "output_type": "stream",
     "text": [
      "ARAYUVILOVE\n"
     ]
    }
   ],
   "source": [
    "# without using replace function\n",
    "\n",
    "def remove_x(string, x):\n",
    "    str_=\"\"\n",
    "    for i in range(len(string)):\n",
    "        if string[i]==x:\n",
    "            str_=str_+\"\"\n",
    "        else:\n",
    "            str_=str_+string[i]\n",
    "    print(str_)\n",
    "    \n",
    "remove_x(\"SARAYUVISLOVE\",'S')"
   ]
  },
  {
   "cell_type": "code",
   "execution_count": null,
   "id": "041aceaa",
   "metadata": {},
   "outputs": [],
   "source": []
  },
  {
   "cell_type": "code",
   "execution_count": 6,
   "id": "845b5193",
   "metadata": {},
   "outputs": [
    {
     "name": "stdout",
     "output_type": "stream",
     "text": [
      "Enter first number12\n",
      "Enter second number56\n",
      "Enter where you want to stop1400\n",
      "12\n",
      "56\n",
      "68\n",
      "124\n",
      "192\n",
      "316\n",
      "508\n",
      "824\n",
      "1332\n"
     ]
    }
   ],
   "source": [
    "# Fibonacci series\n",
    "\n",
    "a = int(input(\"Enter first number\"))\n",
    "b = int(input(\"Enter second number\")) \n",
    "\n",
    "stop_num = int(input(\"Enter where you want to stop\")) \n",
    "\n",
    "print(a)\n",
    "print(b)\n",
    "\n",
    "c = 0\n",
    "while(True):\n",
    "    c = a+b\n",
    "    if(c>=stop_num):\n",
    "        break\n",
    "    else:\n",
    "        print(c)\n",
    "    \n",
    "    a = b\n",
    "    b = c"
   ]
  },
  {
   "cell_type": "code",
   "execution_count": null,
   "id": "f59a928f",
   "metadata": {},
   "outputs": [],
   "source": []
  },
  {
   "cell_type": "code",
   "execution_count": 2,
   "id": "a10d478f",
   "metadata": {},
   "outputs": [
    {
     "name": "stdout",
     "output_type": "stream",
     "text": [
      "No\n"
     ]
    }
   ],
   "source": [
    "# sub string or not\n",
    "\n",
    "def subString(s,ss):\n",
    "    count = 0\n",
    "    i = 0\n",
    "    \n",
    "    for i in range(len(s)):\n",
    "        if(count==len(ss)):\n",
    "            break\n",
    "        if(s[i]==ss[count]):\n",
    "            count=count+1\n",
    "        else:\n",
    "            count=0\n",
    "      \n",
    "    \n",
    "    if(len(ss)==count):\n",
    "        print(\"Yes\")\n",
    "    else:\n",
    "        print(\"No\")\n",
    "        \n",
    "subString(\"sarayu papa\", \"paps\")"
   ]
  },
  {
   "cell_type": "code",
   "execution_count": null,
   "id": "09888767",
   "metadata": {},
   "outputs": [],
   "source": []
  },
  {
   "cell_type": "code",
   "execution_count": 7,
   "id": "9c846923",
   "metadata": {},
   "outputs": [
    {
     "name": "stdout",
     "output_type": "stream",
     "text": [
      "21 3 9 0 -17 13 \n",
      "[-17, 0, 3, 9, 13, 21]\n"
     ]
    }
   ],
   "source": [
    "# bubble sort\n",
    "\n",
    "arr = list(map(int,input().split()))\n",
    "\n",
    "for i in range(0, len(arr)-1):\n",
    "    for j in range(i+1, len(arr)):\n",
    "        if(arr[j]<arr[i]):\n",
    "            temp = arr[i]\n",
    "            arr[i] = arr[j]\n",
    "            arr[j] = temp\n",
    "        \n",
    "print(arr)    "
   ]
  },
  {
   "cell_type": "code",
   "execution_count": null,
   "id": "cd20d005",
   "metadata": {},
   "outputs": [],
   "source": []
  },
  {
   "cell_type": "code",
   "execution_count": 34,
   "id": "bd768681",
   "metadata": {},
   "outputs": [
    {
     "name": "stdout",
     "output_type": "stream",
     "text": [
      "-1\n",
      "2\n"
     ]
    }
   ],
   "source": [
    "# Houses and water tanks problem\n",
    "\n",
    "def prob(S):\n",
    "    check_ = False\n",
    "    for i in range(len(S)):\n",
    "        if(S[i]=='_'):\n",
    "            check_=True\n",
    "\n",
    "    if(check_==False):\n",
    "        return -1\n",
    "    \n",
    "    for i in range(len(S)-1):\n",
    "        if(S[i]=='H'):\n",
    "            if(S[i+1]=='T' or S[i-1]=='T'):\n",
    "                continue\n",
    "            elif(S[i+1]=='_'):\n",
    "                S = S.replace(S[i+1],'T')\n",
    "            elif(S[i-1]=='T'):\n",
    "                S = S.replace(S[i-1],'T')\n",
    "    \n",
    "    count = 0\n",
    "    for i in range(len(S)):\n",
    "        if(S[i]=='T'):\n",
    "            count = count+1\n",
    "    return count\n",
    "\n",
    "print(prob(\"HHH\"))\n",
    "print(prob('H_HH_'))"
   ]
  },
  {
   "cell_type": "code",
   "execution_count": null,
   "id": "73905c94",
   "metadata": {},
   "outputs": [],
   "source": []
  },
  {
   "cell_type": "code",
   "execution_count": 4,
   "id": "412cbb1a",
   "metadata": {},
   "outputs": [
    {
     "name": "stdout",
     "output_type": "stream",
     "text": [
      "Enter the minimum number1\n",
      "Enter the maximum number10\n",
      "17\n"
     ]
    }
   ],
   "source": [
    "# sum of numbers between min and max \n",
    "\n",
    "def prime(min_, max_):\n",
    "    prime_list = []\n",
    "    for i in range(min_, max_):\n",
    "        if i == 0 or i == 1:\n",
    "            continue\n",
    "        else:\n",
    "            for j in range(2, int(i/2)+1):\n",
    "                if i % j == 0:\n",
    "                    break\n",
    "            else:\n",
    "                prime_list.append(i)\n",
    "    return prime_list\n",
    "\n",
    "min_ = int(input(\"Enter the minimum number\"))\n",
    "max_ = int(input(\"Enter the maximum number\"))\n",
    "list_ = prime(min_,max_)\n",
    "\n",
    "discount = 0\n",
    "for i in range(len(list_)):\n",
    "    discount = discount+list_[i]\n",
    "    \n",
    "print(discount)"
   ]
  },
  {
   "cell_type": "code",
   "execution_count": null,
   "id": "c8099ae6",
   "metadata": {},
   "outputs": [],
   "source": []
  }
 ],
 "metadata": {
  "kernelspec": {
   "display_name": "Python 3 (ipykernel)",
   "language": "python",
   "name": "python3"
  },
  "language_info": {
   "codemirror_mode": {
    "name": "ipython",
    "version": 3
   },
   "file_extension": ".py",
   "mimetype": "text/x-python",
   "name": "python",
   "nbconvert_exporter": "python",
   "pygments_lexer": "ipython3",
   "version": "3.9.7"
  }
 },
 "nbformat": 4,
 "nbformat_minor": 5
}
