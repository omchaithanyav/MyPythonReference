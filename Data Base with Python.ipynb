{
 "cells": [
  {
   "cell_type": "markdown",
   "metadata": {},
   "source": [
    "# Summary\n",
    "In this tutorial you established a connection to a DB2 database on Cloud database from a Python notebook using ibm_db API."
   ]
  },
  {
   "cell_type": "code",
   "execution_count": 15,
   "metadata": {},
   "outputs": [],
   "source": [
    "import ibm_db # importing ibm data base module."
   ]
  },
  {
   "cell_type": "code",
   "execution_count": 16,
   "metadata": {},
   "outputs": [],
   "source": [
    "# Identify the database connection credentials.\n",
    "# Enter the Data Base connection details:\n",
    "\n",
    "dsn_hostname = \"dashdb-txn-sbox-yp-lon02-02.services.eu-gb.bluemix.net\" # e.g.: \"dashdb-txn-sbox-yp-dal09-04.services.dal.bluemix.net\"\n",
    "dsn_uid = \"npm51420\"      # e.g. \"abc12345\"\n",
    "dsn_pwd = \"3t4pklp@ptp8pgr9\"     # e.g. \"7dBZ3wWt9XN6$o0J\"\n",
    "\n",
    "dsn_driver = \"{IBM DB2 ODBC DRIVER}\"\n",
    "dsn_database = \"BLUDB\"            # e.g. \"BLUDB\"\n",
    "dsn_port = \"50000\"                # e.g. \"50000\" \n",
    "dsn_protocol = \"TCPIP\"            # i.e. \"TCPIP\"\n",
    "\n",
    "# We can get these connection details from db2 service in IBM Cloud - Services, create new credentials and get the connection details."
   ]
  },
  {
   "cell_type": "code",
   "execution_count": 17,
   "metadata": {},
   "outputs": [
    {
     "name": "stdout",
     "output_type": "stream",
     "text": [
      "DRIVER={IBM DB2 ODBC DRIVER};DATABASE=BLUDB;HOSTNAME=dashdb-txn-sbox-yp-lon02-02.services.eu-gb.bluemix.net;PORT=50000;PROTOCOL=TCPIP;UID=npm51420;PWD=3t4pklp@ptp8pgr9;\n"
     ]
    }
   ],
   "source": [
    "#Create the dsn connection string\n",
    "dsn = (\n",
    "    \"DRIVER={0};\"\n",
    "    \"DATABASE={1};\"\n",
    "    \"HOSTNAME={2};\"\n",
    "    \"PORT={3};\"\n",
    "    \"PROTOCOL={4};\"\n",
    "    \"UID={5};\"\n",
    "    \"PWD={6};\").format(dsn_driver, dsn_database, dsn_hostname, dsn_port, dsn_protocol, dsn_uid, dsn_pwd)\n",
    "\n",
    "#print the connection string to check correct values are specified\n",
    "print(dsn)"
   ]
  },
  {
   "cell_type": "code",
   "execution_count": 18,
   "metadata": {},
   "outputs": [
    {
     "name": "stdout",
     "output_type": "stream",
     "text": [
      "Connected to database:  BLUDB as user:  npm51420 on host:  dashdb-txn-sbox-yp-lon02-02.services.eu-gb.bluemix.net\n"
     ]
    }
   ],
   "source": [
    "#Create database connection\n",
    "\n",
    "try:\n",
    "    conn = ibm_db.connect(dsn, \"\", \"\")\n",
    "    print (\"Connected to database: \", dsn_database, \"as user: \", dsn_uid, \"on host: \", dsn_hostname)\n",
    "\n",
    "except:\n",
    "    print (\"Unable to connect: \", ibm_db.conn_errormsg() )"
   ]
  },
  {
   "cell_type": "code",
   "execution_count": 19,
   "metadata": {},
   "outputs": [
    {
     "name": "stdout",
     "output_type": "stream",
     "text": [
      "DBMS_NAME:  DB2/LINUXX8664\n",
      "DBMS_VER:   11.01.0404\n",
      "DB_NAME:    BLUDB\n"
     ]
    }
   ],
   "source": [
    "#Retrieve Metadata for the Database Server\n",
    "server = ibm_db.server_info(conn)\n",
    "\n",
    "print (\"DBMS_NAME: \", server.DBMS_NAME)\n",
    "print (\"DBMS_VER:  \", server.DBMS_VER)\n",
    "print (\"DB_NAME:   \", server.DB_NAME)"
   ]
  },
  {
   "cell_type": "code",
   "execution_count": 20,
   "metadata": {},
   "outputs": [
    {
     "name": "stdout",
     "output_type": "stream",
     "text": [
      "DRIVER_NAME:           DB2CLI.DLL\n",
      "DRIVER_VER:            11.05.0500\n",
      "DATA_SOURCE_NAME:      BLUDB\n",
      "DRIVER_ODBC_VER:       03.51\n",
      "ODBC_VER:              03.01.0000\n",
      "ODBC_SQL_CONFORMANCE:  EXTENDED\n",
      "APPL_CODEPAGE:         1252\n",
      "CONN_CODEPAGE:         1208\n"
     ]
    }
   ],
   "source": [
    "#Retrieve Metadata for the Database Client / Driver\n",
    "client = ibm_db.client_info(conn)\n",
    "\n",
    "print (\"DRIVER_NAME:          \", client.DRIVER_NAME) \n",
    "print (\"DRIVER_VER:           \", client.DRIVER_VER)\n",
    "print (\"DATA_SOURCE_NAME:     \", client.DATA_SOURCE_NAME)\n",
    "print (\"DRIVER_ODBC_VER:      \", client.DRIVER_ODBC_VER)\n",
    "print (\"ODBC_VER:             \", client.ODBC_VER)\n",
    "print (\"ODBC_SQL_CONFORMANCE: \", client.ODBC_SQL_CONFORMANCE)\n",
    "print (\"APPL_CODEPAGE:        \", client.APPL_CODEPAGE)\n",
    "print (\"CONN_CODEPAGE:        \", client.CONN_CODEPAGE)"
   ]
  },
  {
   "cell_type": "code",
   "execution_count": 8,
   "metadata": {},
   "outputs": [
    {
     "data": {
      "text/plain": [
       "True"
      ]
     },
     "execution_count": 8,
     "metadata": {},
     "output_type": "execute_result"
    }
   ],
   "source": [
    "# Close the Connection:\n",
    "\n",
    "ibm_db.close(conn)"
   ]
  },
  {
   "cell_type": "code",
   "execution_count": 21,
   "metadata": {},
   "outputs": [],
   "source": [
    "#Lets first drop the table INSTRUCTOR in case it exists from a previous attempt\n",
    "dropQuery = \"drop table INSTRUCTOR\"\n",
    "\n",
    "#Now execute the drop statment\n",
    "dropStmt = ibm_db.exec_immediate(conn, dropQuery)"
   ]
  },
  {
   "cell_type": "code",
   "execution_count": 22,
   "metadata": {},
   "outputs": [],
   "source": [
    "createQuery = \"create table INSTRUCTOR(ID INTEGER PRIMARY KEY NOT NULL, FNAME VARCHAR(20), LNAME VARCHAR(20), CITY VARCHAR(20), CCODE CHAR(2))\"\n",
    "\n",
    "createStmt = ibm_db.exec_immediate(conn,createQuery)"
   ]
  },
  {
   "cell_type": "code",
   "execution_count": 23,
   "metadata": {},
   "outputs": [],
   "source": [
    "#Construct the query - replace ... with the insert statement\n",
    "insertQuery = \"insert into INSTRUCTOR values (1, 'Rav', 'Ahuja', 'TORONTO', 'CA')\"\n",
    "\n",
    "#execute the insert statement\n",
    "insertStmt = ibm_db.exec_immediate(conn, insertQuery)"
   ]
  },
  {
   "cell_type": "code",
   "execution_count": 24,
   "metadata": {},
   "outputs": [],
   "source": [
    "#replace ... with the insert statement that inerts the remaining two rows of data\n",
    "\n",
    "insertQuery2 = \"insert into INSTRUCTOR values (2, 'Raul', 'Chong', 'Markham', 'CA'), (3, 'Hima', 'Vasudevan', 'Chicago', 'US')\"\n",
    "\n",
    "#execute the statement\n",
    "\n",
    "insertStmt2 = ibm_db.exec_immediate(conn, insertQuery2)"
   ]
  },
  {
   "cell_type": "code",
   "execution_count": 25,
   "metadata": {},
   "outputs": [
    {
     "data": {
      "text/plain": [
       "{'ID': 1,\n",
       " 0: 1,\n",
       " 'FNAME': 'Rav',\n",
       " 1: 'Rav',\n",
       " 'LNAME': 'Ahuja',\n",
       " 2: 'Ahuja',\n",
       " 'CITY': 'TORONTO',\n",
       " 3: 'TORONTO',\n",
       " 'CCODE': 'CA',\n",
       " 4: 'CA'}"
      ]
     },
     "execution_count": 25,
     "metadata": {},
     "output_type": "execute_result"
    }
   ],
   "source": [
    "#Construct the query that retrieves all rows from the INSTRUCTOR table\n",
    "selectQuery = \"select * from INSTRUCTOR\"\n",
    "\n",
    "#Execute the statement\n",
    "selectStmt = ibm_db.exec_immediate(conn, selectQuery)\n",
    "\n",
    "#Fetch the Dictionary (for the first row only)\n",
    "ibm_db.fetch_both(selectStmt)"
   ]
  },
  {
   "cell_type": "code",
   "execution_count": 26,
   "metadata": {},
   "outputs": [
    {
     "name": "stdout",
     "output_type": "stream",
     "text": [
      " ID: 2  FNAME: Raul\n",
      " ID: 3  FNAME: Hima\n"
     ]
    }
   ],
   "source": [
    "#Fetch the rest of the rows and print the ID and FNAME for those rows\n",
    "while ibm_db.fetch_row(selectStmt) != False:\n",
    "    print (\" ID:\",  ibm_db.result(selectStmt, 0), \" FNAME:\",  ibm_db.result(selectStmt, \"FNAME\"))"
   ]
  },
  {
   "cell_type": "code",
   "execution_count": 27,
   "metadata": {},
   "outputs": [],
   "source": [
    "#write and execute an update statement that changes the Rav's CITY to MOOSETOWN\n",
    "\n",
    "updateQuery = \"update INSTRUCTOR set CITY='MOOSETOWN' where FNAME='Rav'\"\n",
    "updateStmt = ibm_db.exec_immediate(conn, updateQuery)"
   ]
  },
  {
   "cell_type": "markdown",
   "metadata": {},
   "source": [
    "# Retrieve data using pandas"
   ]
  },
  {
   "cell_type": "code",
   "execution_count": 28,
   "metadata": {},
   "outputs": [],
   "source": [
    "import pandas\n",
    "import ibm_db_dbi"
   ]
  },
  {
   "cell_type": "code",
   "execution_count": 29,
   "metadata": {},
   "outputs": [],
   "source": [
    "#connection for pandas\n",
    "pconn = ibm_db_dbi.Connection(conn)"
   ]
  },
  {
   "cell_type": "code",
   "execution_count": 30,
   "metadata": {},
   "outputs": [
    {
     "data": {
      "text/plain": [
       "'Ahuja'"
      ]
     },
     "execution_count": 30,
     "metadata": {},
     "output_type": "execute_result"
    }
   ],
   "source": [
    "#query statement to retrieve all rows in INSTRUCTOR table\n",
    "selectQuery = \"select * from INSTRUCTOR\"\n",
    "\n",
    "#retrieve the query results into a pandas dataframe\n",
    "pdf = pandas.read_sql(selectQuery, pconn)\n",
    "\n",
    "#print just the LNAME for first row in the pandas data frame\n",
    "pdf.LNAME[0]"
   ]
  },
  {
   "cell_type": "code",
   "execution_count": 31,
   "metadata": {},
   "outputs": [
    {
     "data": {
      "text/html": [
       "<div>\n",
       "<style scoped>\n",
       "    .dataframe tbody tr th:only-of-type {\n",
       "        vertical-align: middle;\n",
       "    }\n",
       "\n",
       "    .dataframe tbody tr th {\n",
       "        vertical-align: top;\n",
       "    }\n",
       "\n",
       "    .dataframe thead th {\n",
       "        text-align: right;\n",
       "    }\n",
       "</style>\n",
       "<table border=\"1\" class=\"dataframe\">\n",
       "  <thead>\n",
       "    <tr style=\"text-align: right;\">\n",
       "      <th></th>\n",
       "      <th>ID</th>\n",
       "      <th>FNAME</th>\n",
       "      <th>LNAME</th>\n",
       "      <th>CITY</th>\n",
       "      <th>CCODE</th>\n",
       "    </tr>\n",
       "  </thead>\n",
       "  <tbody>\n",
       "    <tr>\n",
       "      <th>0</th>\n",
       "      <td>1</td>\n",
       "      <td>Rav</td>\n",
       "      <td>Ahuja</td>\n",
       "      <td>MOOSETOWN</td>\n",
       "      <td>CA</td>\n",
       "    </tr>\n",
       "    <tr>\n",
       "      <th>1</th>\n",
       "      <td>2</td>\n",
       "      <td>Raul</td>\n",
       "      <td>Chong</td>\n",
       "      <td>Markham</td>\n",
       "      <td>CA</td>\n",
       "    </tr>\n",
       "    <tr>\n",
       "      <th>2</th>\n",
       "      <td>3</td>\n",
       "      <td>Hima</td>\n",
       "      <td>Vasudevan</td>\n",
       "      <td>Chicago</td>\n",
       "      <td>US</td>\n",
       "    </tr>\n",
       "  </tbody>\n",
       "</table>\n",
       "</div>"
      ],
      "text/plain": [
       "   ID FNAME      LNAME       CITY CCODE\n",
       "0   1   Rav      Ahuja  MOOSETOWN    CA\n",
       "1   2  Raul      Chong    Markham    CA\n",
       "2   3  Hima  Vasudevan    Chicago    US"
      ]
     },
     "execution_count": 31,
     "metadata": {},
     "output_type": "execute_result"
    }
   ],
   "source": [
    "#print the entire data frame\n",
    "pdf"
   ]
  },
  {
   "cell_type": "code",
   "execution_count": 32,
   "metadata": {},
   "outputs": [
    {
     "data": {
      "text/plain": [
       "(3, 5)"
      ]
     },
     "execution_count": 32,
     "metadata": {},
     "output_type": "execute_result"
    }
   ],
   "source": [
    "pdf.shape"
   ]
  },
  {
   "cell_type": "markdown",
   "metadata": {},
   "source": [
    "# Accessing Databases with SQL Magic"
   ]
  },
  {
   "cell_type": "markdown",
   "metadata": {},
   "source": [
    "To communicate with SQL Databases from within a JupyterLab notebook, we can use the SQL \"magic\" provided by the ipython-sql extension. \"Magic\" is JupyterLab's term for special commands that start with \"%\". Below, we'll use the reload___ext magic to load the ipython-sql extension. In the lab environemnt install ipython-sql extension and ibm_db_sa driver."
   ]
  },
  {
   "cell_type": "code",
   "execution_count": 33,
   "metadata": {},
   "outputs": [],
   "source": [
    "%reload_ext sql"
   ]
  },
  {
   "cell_type": "code",
   "execution_count": 34,
   "metadata": {},
   "outputs": [],
   "source": [
    "# Enter your Db2 credentials in the connection string below\n",
    "# Recall you created Service Credentials in Part III of the first lab of the course in Week 1\n",
    "# i.e. from the uri field in the Service Credentials copy everything after db2:// (but remove the double quote at the end)\n",
    "# for example, if your credentials are as in the screenshot above, you would write:\n",
    "# %sql ibm_db_sa://my-username:my-password@dashdb-txn-sbox-yp-dal09-03.services.dal.bluemix.net:50000/BLUDB\n",
    "# Note the ibm_db_sa:// prefix instead of db2://\n",
    "# This is because JupyterLab's ipython-sql extension uses sqlalchemy (a python SQL toolkit)\n",
    "# which in turn uses IBM's sqlalchemy dialect: ibm_db_sa"
   ]
  },
  {
   "cell_type": "code",
   "execution_count": 35,
   "metadata": {},
   "outputs": [],
   "source": [
    "dsn_hostname = \"dashdb-txn-sbox-yp-lon02-02.services.eu-gb.bluemix.net\" # e.g.: \"dashdb-txn-sbox-yp-dal09-04.services.dal.bluemix.net\"\n",
    "dsn_uid = \"npm51420\"      # e.g. \"abc12345\"\n",
    "dsn_pwd = \"3t4pklp@ptp8pgr9\"     # e.g. \"7dBZ3wWt9XN6$o0J\"\n",
    "\n",
    "dsn_driver = \"{IBM DB2 ODBC DRIVER}\"\n",
    "dsn_database = \"BLUDB\"            # e.g. \"BLUDB\"\n",
    "dsn_port = \"50000\"                # e.g. \"50000\" \n",
    "dsn_protocol = \"TCPIP\"            # i.e. \"TCPIP\"\n",
    "\n",
    "# We can get these connection details from db2 service in IBM Cloud - Services, create new credentials and get the connection details."
   ]
  },
  {
   "cell_type": "code",
   "execution_count": 36,
   "metadata": {},
   "outputs": [
    {
     "name": "stdout",
     "output_type": "stream",
     "text": [
      "DB2/LINUXX8664\n"
     ]
    }
   ],
   "source": [
    "%sql ibm_db_sa://npm51420:3t4pklp%40ptp8pgr9@dashdb-txn-sbox-yp-lon02-02.services.eu-gb.bluemix.net:50000/BLUDB"
   ]
  },
  {
   "cell_type": "markdown",
   "metadata": {},
   "source": [
    "For convenience, we can use %%sql (two %'s instead of one) at the top of a cell to indicate we want the entire cell to be treated as SQL. Let's use this to create a table and fill it with some test data for experimenting."
   ]
  },
  {
   "cell_type": "code",
   "execution_count": 37,
   "metadata": {},
   "outputs": [
    {
     "name": "stdout",
     "output_type": "stream",
     "text": [
      " * ibm_db_sa://npm51420:***@dashdb-txn-sbox-yp-lon02-02.services.eu-gb.bluemix.net:50000/BLUDB\n",
      "(ibm_db_dbi.ProgrammingError) ibm_db_dbi::ProgrammingError: Exception('Statement Execute Failed: [IBM][CLI Driver][DB2/LINUXX8664] SQL0601N  The name of the object to be created is identical to the existing name \"NPM51420.INTERNATIONAL_STUDENT_TEST_SCORES\" of type \"TABLE\".  SQLSTATE=42710\\r SQLCODE=-601')\n",
      "[SQL: CREATE TABLE INTERNATIONAL_STUDENT_TEST_SCORES (\n",
      "\tcountry VARCHAR(50),\n",
      "\tfirst_name VARCHAR(50),\n",
      "\tlast_name VARCHAR(50),\n",
      "\ttest_score INT\n",
      ");]\n",
      "(Background on this error at: http://sqlalche.me/e/13/f405)\n"
     ]
    }
   ],
   "source": [
    "%%sql\n",
    "\n",
    "CREATE TABLE INTERNATIONAL_STUDENT_TEST_SCORES (\n",
    "\tcountry VARCHAR(50),\n",
    "\tfirst_name VARCHAR(50),\n",
    "\tlast_name VARCHAR(50),\n",
    "\ttest_score INT\n",
    ");\n",
    "INSERT INTO INTERNATIONAL_STUDENT_TEST_SCORES (country, first_name, last_name, test_score)\n",
    "VALUES\n",
    "('United States', 'Marshall', 'Bernadot', 54),\n",
    "('Ghana', 'Celinda', 'Malkin', 51),\n",
    "('Ukraine', 'Guillermo', 'Furze', 53),\n",
    "('Greece', 'Aharon', 'Tunnow', 48),\n",
    "('Russia', 'Bail', 'Goodwin', 46),\n",
    "('Poland', 'Cole', 'Winteringham', 49),\n",
    "('Sweden', 'Emlyn', 'Erricker', 55),\n",
    "('Russia', 'Cathee', 'Sivewright', 49),\n",
    "('China', 'Barny', 'Ingerson', 57),\n",
    "('Uganda', 'Sharla', 'Papaccio', 55),\n",
    "('China', 'Stella', 'Youens', 51),\n",
    "('Poland', 'Julio', 'Buesden', 48)"
   ]
  },
  {
   "cell_type": "markdown",
   "metadata": {},
   "source": [
    "# Using Python Variables in your SQL Statements\n",
    "You can use python variables in your SQL statements by adding a \":\" prefix to your python variable names.\n",
    "For example, if I have a python variable country with a value of \"Canada\", I can use this variable in a SQL query to find all the rows of students from Canada."
   ]
  },
  {
   "cell_type": "code",
   "execution_count": 10,
   "metadata": {},
   "outputs": [
    {
     "name": "stdout",
     "output_type": "stream",
     "text": [
      " * ibm_db_sa://npm51420:***@dashdb-txn-sbox-yp-lon02-02.services.eu-gb.bluemix.net:50000/BLUDB\n",
      "Done.\n"
     ]
    }
   ],
   "source": [
    "country = \"Canada\"\n",
    "INTERNATIONAL_STUDENT_TEST_SCORES = %sql select * from INTERNATIONAL_STUDENT_TEST_SCORES where country = :country"
   ]
  },
  {
   "cell_type": "markdown",
   "metadata": {},
   "source": [
    "# Assigning the Results of Queries to Python Variables\n",
    "You can use the normal python assignment syntax to assign the results of your queries to python variables.\n",
    "For example, I have a SQL query to retrieve the distribution of test scores (i.e. how many students got each score). I can assign the result of this query to the variable test_score_distribution using the = operator."
   ]
  },
  {
   "cell_type": "code",
   "execution_count": 11,
   "metadata": {},
   "outputs": [
    {
     "name": "stdout",
     "output_type": "stream",
     "text": [
      " * ibm_db_sa://npm51420:***@dashdb-txn-sbox-yp-lon02-02.services.eu-gb.bluemix.net:50000/BLUDB\n",
      "(ibm_db_dbi.ProgrammingError) ibm_db_dbi::ProgrammingError: Exception('SQLNumResultCols failed: [IBM][CLI Driver][DB2/LINUXX8664] SQL0104N  An unexpected token \"as\" was found following \"SELECT test_score \".  Expected tokens may include:  \"AND\".  SQLSTATE=42601\\r SQLCODE=-104')\n",
      "[SQL: SELECT test_score as Test Score, count(*) as Frequency from INTERNATIONAL_STUDENT_TEST_SCORES GROUP BY test_score;]\n",
      "(Background on this error at: http://sqlalche.me/e/13/f405)\n"
     ]
    }
   ],
   "source": [
    "test_score_distribution = %sql SELECT test_score as \"Test Score\", count(*) as \"Frequency\" from INTERNATIONAL_STUDENT_TEST_SCORES GROUP BY test_score;\n",
    "test_score_distribution"
   ]
  },
  {
   "cell_type": "markdown",
   "metadata": {},
   "source": [
    "# Converting Query Results to DataFrames\n",
    "You can easily convert a SQL query result to a pandas dataframe using the DataFrame() method. Dataframe objects are much more versatile than SQL query result objects. For example, we can easily graph our test score distribution after converting to a dataframe."
   ]
  },
  {
   "cell_type": "code",
   "execution_count": 12,
   "metadata": {},
   "outputs": [
    {
     "data": {
      "image/png": "[encoded data removed]",
      "text/plain": [
       "<Figure size 432x288 with 1 Axes>"
      ]
     },
     "metadata": {
      "needs_background": "light"
     },
     "output_type": "display_data"
    }
   ],
   "source": [
    "dataframe = INTERNATIONAL_STUDENT_TEST_SCORES.DataFrame()\n",
    "\n",
    "%matplotlib inline\n",
    "import seaborn\n",
    "\n",
    "plot = seaborn.barplot(x='test_score',y='country', data=dataframe)"
   ]
  },
  {
   "cell_type": "code",
   "execution_count": 13,
   "metadata": {},
   "outputs": [
    {
     "name": "stdout",
     "output_type": "stream",
     "text": [
      " * ibm_db_sa://npm51420:***@dashdb-txn-sbox-yp-lon02-02.services.eu-gb.bluemix.net:50000/BLUDB\n",
      "Done.\n"
     ]
    },
    {
     "data": {
      "text/html": [
       "<table>\n",
       "    <tr>\n",
       "        <th>country</th>\n",
       "        <th>first_name</th>\n",
       "        <th>last_name</th>\n",
       "        <th>test_score</th>\n",
       "    </tr>\n",
       "    <tr>\n",
       "        <td>United States</td>\n",
       "        <td>Marshall</td>\n",
       "        <td>Bernadot</td>\n",
       "        <td>54</td>\n",
       "    </tr>\n",
       "    <tr>\n",
       "        <td>Ghana</td>\n",
       "        <td>Celinda</td>\n",
       "        <td>Malkin</td>\n",
       "        <td>51</td>\n",
       "    </tr>\n",
       "    <tr>\n",
       "        <td>Ukraine</td>\n",
       "        <td>Guillermo</td>\n",
       "        <td>Furze</td>\n",
       "        <td>53</td>\n",
       "    </tr>\n",
       "    <tr>\n",
       "        <td>Greece</td>\n",
       "        <td>Aharon</td>\n",
       "        <td>Tunnow</td>\n",
       "        <td>48</td>\n",
       "    </tr>\n",
       "    <tr>\n",
       "        <td>Russia</td>\n",
       "        <td>Bail</td>\n",
       "        <td>Goodwin</td>\n",
       "        <td>46</td>\n",
       "    </tr>\n",
       "    <tr>\n",
       "        <td>Poland</td>\n",
       "        <td>Cole</td>\n",
       "        <td>Winteringham</td>\n",
       "        <td>49</td>\n",
       "    </tr>\n",
       "    <tr>\n",
       "        <td>Sweden</td>\n",
       "        <td>Emlyn</td>\n",
       "        <td>Erricker</td>\n",
       "        <td>55</td>\n",
       "    </tr>\n",
       "    <tr>\n",
       "        <td>Russia</td>\n",
       "        <td>Cathee</td>\n",
       "        <td>Sivewright</td>\n",
       "        <td>49</td>\n",
       "    </tr>\n",
       "    <tr>\n",
       "        <td>China</td>\n",
       "        <td>Barny</td>\n",
       "        <td>Ingerson</td>\n",
       "        <td>57</td>\n",
       "    </tr>\n",
       "    <tr>\n",
       "        <td>Uganda</td>\n",
       "        <td>Sharla</td>\n",
       "        <td>Papaccio</td>\n",
       "        <td>55</td>\n",
       "    </tr>\n",
       "    <tr>\n",
       "        <td>China</td>\n",
       "        <td>Stella</td>\n",
       "        <td>Youens</td>\n",
       "        <td>51</td>\n",
       "    </tr>\n",
       "    <tr>\n",
       "        <td>Poland</td>\n",
       "        <td>Julio</td>\n",
       "        <td>Buesden</td>\n",
       "        <td>48</td>\n",
       "    </tr>\n",
       "    <tr>\n",
       "        <td>United States</td>\n",
       "        <td>Tiffie</td>\n",
       "        <td>Cosely</td>\n",
       "        <td>58</td>\n",
       "    </tr>\n",
       "    <tr>\n",
       "        <td>Poland</td>\n",
       "        <td>Auroora</td>\n",
       "        <td>Stiffell</td>\n",
       "        <td>45</td>\n",
       "    </tr>\n",
       "    <tr>\n",
       "        <td>China</td>\n",
       "        <td>Clarita</td>\n",
       "        <td>Huet</td>\n",
       "        <td>52</td>\n",
       "    </tr>\n",
       "    <tr>\n",
       "        <td>Poland</td>\n",
       "        <td>Shannon</td>\n",
       "        <td>Goulden</td>\n",
       "        <td>45</td>\n",
       "    </tr>\n",
       "    <tr>\n",
       "        <td>Philippines</td>\n",
       "        <td>Emylee</td>\n",
       "        <td>Privost</td>\n",
       "        <td>50</td>\n",
       "    </tr>\n",
       "    <tr>\n",
       "        <td>France</td>\n",
       "        <td>Madelina</td>\n",
       "        <td>Burk</td>\n",
       "        <td>49</td>\n",
       "    </tr>\n",
       "    <tr>\n",
       "        <td>China</td>\n",
       "        <td>Saunderson</td>\n",
       "        <td>Root</td>\n",
       "        <td>58</td>\n",
       "    </tr>\n",
       "    <tr>\n",
       "        <td>Indonesia</td>\n",
       "        <td>Bo</td>\n",
       "        <td>Waring</td>\n",
       "        <td>55</td>\n",
       "    </tr>\n",
       "    <tr>\n",
       "        <td>China</td>\n",
       "        <td>Hollis</td>\n",
       "        <td>Domotor</td>\n",
       "        <td>45</td>\n",
       "    </tr>\n",
       "    <tr>\n",
       "        <td>Russia</td>\n",
       "        <td>Robbie</td>\n",
       "        <td>Collip</td>\n",
       "        <td>46</td>\n",
       "    </tr>\n",
       "    <tr>\n",
       "        <td>Philippines</td>\n",
       "        <td>Davon</td>\n",
       "        <td>Donisi</td>\n",
       "        <td>46</td>\n",
       "    </tr>\n",
       "    <tr>\n",
       "        <td>China</td>\n",
       "        <td>Cristabel</td>\n",
       "        <td>Radeliffe</td>\n",
       "        <td>48</td>\n",
       "    </tr>\n",
       "    <tr>\n",
       "        <td>China</td>\n",
       "        <td>Wallis</td>\n",
       "        <td>Bartleet</td>\n",
       "        <td>58</td>\n",
       "    </tr>\n",
       "    <tr>\n",
       "        <td>Moldova</td>\n",
       "        <td>Arleen</td>\n",
       "        <td>Stailey</td>\n",
       "        <td>38</td>\n",
       "    </tr>\n",
       "    <tr>\n",
       "        <td>Ireland</td>\n",
       "        <td>Mendel</td>\n",
       "        <td>Grumble</td>\n",
       "        <td>58</td>\n",
       "    </tr>\n",
       "    <tr>\n",
       "        <td>China</td>\n",
       "        <td>Sallyann</td>\n",
       "        <td>Exley</td>\n",
       "        <td>51</td>\n",
       "    </tr>\n",
       "    <tr>\n",
       "        <td>Mexico</td>\n",
       "        <td>Kain</td>\n",
       "        <td>Swaite</td>\n",
       "        <td>46</td>\n",
       "    </tr>\n",
       "    <tr>\n",
       "        <td>Indonesia</td>\n",
       "        <td>Alonso</td>\n",
       "        <td>Bulteel</td>\n",
       "        <td>45</td>\n",
       "    </tr>\n",
       "    <tr>\n",
       "        <td>Armenia</td>\n",
       "        <td>Anatol</td>\n",
       "        <td>Tankus</td>\n",
       "        <td>51</td>\n",
       "    </tr>\n",
       "    <tr>\n",
       "        <td>Indonesia</td>\n",
       "        <td>Coralyn</td>\n",
       "        <td>Dawkins</td>\n",
       "        <td>48</td>\n",
       "    </tr>\n",
       "    <tr>\n",
       "        <td>China</td>\n",
       "        <td>Deanne</td>\n",
       "        <td>Edwinson</td>\n",
       "        <td>45</td>\n",
       "    </tr>\n",
       "    <tr>\n",
       "        <td>China</td>\n",
       "        <td>Georgiana</td>\n",
       "        <td>Epple</td>\n",
       "        <td>51</td>\n",
       "    </tr>\n",
       "    <tr>\n",
       "        <td>Portugal</td>\n",
       "        <td>Bartlet</td>\n",
       "        <td>Breese</td>\n",
       "        <td>56</td>\n",
       "    </tr>\n",
       "    <tr>\n",
       "        <td>Azerbaijan</td>\n",
       "        <td>Idalina</td>\n",
       "        <td>Lukash</td>\n",
       "        <td>50</td>\n",
       "    </tr>\n",
       "    <tr>\n",
       "        <td>France</td>\n",
       "        <td>Livvie</td>\n",
       "        <td>Flory</td>\n",
       "        <td>54</td>\n",
       "    </tr>\n",
       "    <tr>\n",
       "        <td>Malaysia</td>\n",
       "        <td>Nonie</td>\n",
       "        <td>Borit</td>\n",
       "        <td>48</td>\n",
       "    </tr>\n",
       "    <tr>\n",
       "        <td>Indonesia</td>\n",
       "        <td>Clio</td>\n",
       "        <td>Mugg</td>\n",
       "        <td>47</td>\n",
       "    </tr>\n",
       "    <tr>\n",
       "        <td>Brazil</td>\n",
       "        <td>Westley</td>\n",
       "        <td>Measor</td>\n",
       "        <td>48</td>\n",
       "    </tr>\n",
       "    <tr>\n",
       "        <td>Philippines</td>\n",
       "        <td>Katrinka</td>\n",
       "        <td>Sibbert</td>\n",
       "        <td>51</td>\n",
       "    </tr>\n",
       "    <tr>\n",
       "        <td>Poland</td>\n",
       "        <td>Valentia</td>\n",
       "        <td>Mounch</td>\n",
       "        <td>50</td>\n",
       "    </tr>\n",
       "    <tr>\n",
       "        <td>Norway</td>\n",
       "        <td>Sheilah</td>\n",
       "        <td>Hedditch</td>\n",
       "        <td>53</td>\n",
       "    </tr>\n",
       "    <tr>\n",
       "        <td>Papua New Guinea</td>\n",
       "        <td>Itch</td>\n",
       "        <td>Jubb</td>\n",
       "        <td>50</td>\n",
       "    </tr>\n",
       "    <tr>\n",
       "        <td>Latvia</td>\n",
       "        <td>Stesha</td>\n",
       "        <td>Garnson</td>\n",
       "        <td>53</td>\n",
       "    </tr>\n",
       "    <tr>\n",
       "        <td>Canada</td>\n",
       "        <td>Cristionna</td>\n",
       "        <td>Wadmore</td>\n",
       "        <td>46</td>\n",
       "    </tr>\n",
       "    <tr>\n",
       "        <td>China</td>\n",
       "        <td>Lianna</td>\n",
       "        <td>Gatward</td>\n",
       "        <td>43</td>\n",
       "    </tr>\n",
       "    <tr>\n",
       "        <td>Guatemala</td>\n",
       "        <td>Tanney</td>\n",
       "        <td>Vials</td>\n",
       "        <td>48</td>\n",
       "    </tr>\n",
       "    <tr>\n",
       "        <td>France</td>\n",
       "        <td>Alma</td>\n",
       "        <td>Zavittieri</td>\n",
       "        <td>44</td>\n",
       "    </tr>\n",
       "    <tr>\n",
       "        <td>China</td>\n",
       "        <td>Alvira</td>\n",
       "        <td>Tamas</td>\n",
       "        <td>50</td>\n",
       "    </tr>\n",
       "    <tr>\n",
       "        <td>United States</td>\n",
       "        <td>Shanon</td>\n",
       "        <td>Peres</td>\n",
       "        <td>45</td>\n",
       "    </tr>\n",
       "    <tr>\n",
       "        <td>Sweden</td>\n",
       "        <td>Maisey</td>\n",
       "        <td>Lynas</td>\n",
       "        <td>53</td>\n",
       "    </tr>\n",
       "    <tr>\n",
       "        <td>Indonesia</td>\n",
       "        <td>Kip</td>\n",
       "        <td>Hothersall</td>\n",
       "        <td>46</td>\n",
       "    </tr>\n",
       "    <tr>\n",
       "        <td>China</td>\n",
       "        <td>Cash</td>\n",
       "        <td>Landis</td>\n",
       "        <td>48</td>\n",
       "    </tr>\n",
       "    <tr>\n",
       "        <td>Panama</td>\n",
       "        <td>Kennith</td>\n",
       "        <td>Digance</td>\n",
       "        <td>45</td>\n",
       "    </tr>\n",
       "    <tr>\n",
       "        <td>China</td>\n",
       "        <td>Ulberto</td>\n",
       "        <td>Riggeard</td>\n",
       "        <td>48</td>\n",
       "    </tr>\n",
       "    <tr>\n",
       "        <td>Switzerland</td>\n",
       "        <td>Judy</td>\n",
       "        <td>Gilligan</td>\n",
       "        <td>49</td>\n",
       "    </tr>\n",
       "    <tr>\n",
       "        <td>Philippines</td>\n",
       "        <td>Tod</td>\n",
       "        <td>Trevaskus</td>\n",
       "        <td>52</td>\n",
       "    </tr>\n",
       "    <tr>\n",
       "        <td>Brazil</td>\n",
       "        <td>Herold</td>\n",
       "        <td>Heggs</td>\n",
       "        <td>44</td>\n",
       "    </tr>\n",
       "    <tr>\n",
       "        <td>Latvia</td>\n",
       "        <td>Verney</td>\n",
       "        <td>Note</td>\n",
       "        <td>50</td>\n",
       "    </tr>\n",
       "    <tr>\n",
       "        <td>Poland</td>\n",
       "        <td>Temp</td>\n",
       "        <td>Ribey</td>\n",
       "        <td>50</td>\n",
       "    </tr>\n",
       "    <tr>\n",
       "        <td>China</td>\n",
       "        <td>Conroy</td>\n",
       "        <td>Egdal</td>\n",
       "        <td>48</td>\n",
       "    </tr>\n",
       "    <tr>\n",
       "        <td>Japan</td>\n",
       "        <td>Gabie</td>\n",
       "        <td>Alessandone</td>\n",
       "        <td>47</td>\n",
       "    </tr>\n",
       "    <tr>\n",
       "        <td>Ukraine</td>\n",
       "        <td>Devlen</td>\n",
       "        <td>Chaperlin</td>\n",
       "        <td>54</td>\n",
       "    </tr>\n",
       "    <tr>\n",
       "        <td>France</td>\n",
       "        <td>Babbette</td>\n",
       "        <td>Turner</td>\n",
       "        <td>51</td>\n",
       "    </tr>\n",
       "    <tr>\n",
       "        <td>Czech Republic</td>\n",
       "        <td>Virgil</td>\n",
       "        <td>Scotney</td>\n",
       "        <td>52</td>\n",
       "    </tr>\n",
       "    <tr>\n",
       "        <td>Tajikistan</td>\n",
       "        <td>Zorina</td>\n",
       "        <td>Bedow</td>\n",
       "        <td>49</td>\n",
       "    </tr>\n",
       "    <tr>\n",
       "        <td>China</td>\n",
       "        <td>Aidan</td>\n",
       "        <td>Rudeyeard</td>\n",
       "        <td>50</td>\n",
       "    </tr>\n",
       "    <tr>\n",
       "        <td>Ireland</td>\n",
       "        <td>Saunder</td>\n",
       "        <td>MacLice</td>\n",
       "        <td>48</td>\n",
       "    </tr>\n",
       "    <tr>\n",
       "        <td>France</td>\n",
       "        <td>Waly</td>\n",
       "        <td>Brunstan</td>\n",
       "        <td>53</td>\n",
       "    </tr>\n",
       "    <tr>\n",
       "        <td>China</td>\n",
       "        <td>Gisele</td>\n",
       "        <td>Enns</td>\n",
       "        <td>52</td>\n",
       "    </tr>\n",
       "    <tr>\n",
       "        <td>Peru</td>\n",
       "        <td>Mina</td>\n",
       "        <td>Winchester</td>\n",
       "        <td>48</td>\n",
       "    </tr>\n",
       "    <tr>\n",
       "        <td>Japan</td>\n",
       "        <td>Torie</td>\n",
       "        <td>MacShirrie</td>\n",
       "        <td>50</td>\n",
       "    </tr>\n",
       "    <tr>\n",
       "        <td>Russia</td>\n",
       "        <td>Benjamen</td>\n",
       "        <td>Kenford</td>\n",
       "        <td>51</td>\n",
       "    </tr>\n",
       "    <tr>\n",
       "        <td>China</td>\n",
       "        <td>Etan</td>\n",
       "        <td>Burn</td>\n",
       "        <td>53</td>\n",
       "    </tr>\n",
       "    <tr>\n",
       "        <td>Russia</td>\n",
       "        <td>Merralee</td>\n",
       "        <td>Chaperlin</td>\n",
       "        <td>38</td>\n",
       "    </tr>\n",
       "    <tr>\n",
       "        <td>Indonesia</td>\n",
       "        <td>Lanny</td>\n",
       "        <td>Malam</td>\n",
       "        <td>49</td>\n",
       "    </tr>\n",
       "    <tr>\n",
       "        <td>Canada</td>\n",
       "        <td>Wilhelm</td>\n",
       "        <td>Deeprose</td>\n",
       "        <td>54</td>\n",
       "    </tr>\n",
       "    <tr>\n",
       "        <td>Czech Republic</td>\n",
       "        <td>Lari</td>\n",
       "        <td>Hillhouse</td>\n",
       "        <td>48</td>\n",
       "    </tr>\n",
       "    <tr>\n",
       "        <td>China</td>\n",
       "        <td>Ossie</td>\n",
       "        <td>Woodley</td>\n",
       "        <td>52</td>\n",
       "    </tr>\n",
       "    <tr>\n",
       "        <td>Macedonia</td>\n",
       "        <td>April</td>\n",
       "        <td>Tyer</td>\n",
       "        <td>50</td>\n",
       "    </tr>\n",
       "    <tr>\n",
       "        <td>Vietnam</td>\n",
       "        <td>Madelon</td>\n",
       "        <td>Dansey</td>\n",
       "        <td>53</td>\n",
       "    </tr>\n",
       "    <tr>\n",
       "        <td>Ukraine</td>\n",
       "        <td>Korella</td>\n",
       "        <td>McNamee</td>\n",
       "        <td>52</td>\n",
       "    </tr>\n",
       "    <tr>\n",
       "        <td>Jamaica</td>\n",
       "        <td>Linnea</td>\n",
       "        <td>Cannam</td>\n",
       "        <td>43</td>\n",
       "    </tr>\n",
       "    <tr>\n",
       "        <td>China</td>\n",
       "        <td>Mart</td>\n",
       "        <td>Coling</td>\n",
       "        <td>52</td>\n",
       "    </tr>\n",
       "    <tr>\n",
       "        <td>Indonesia</td>\n",
       "        <td>Marna</td>\n",
       "        <td>Causbey</td>\n",
       "        <td>47</td>\n",
       "    </tr>\n",
       "    <tr>\n",
       "        <td>China</td>\n",
       "        <td>Berni</td>\n",
       "        <td>Daintier</td>\n",
       "        <td>55</td>\n",
       "    </tr>\n",
       "    <tr>\n",
       "        <td>Poland</td>\n",
       "        <td>Cynthia</td>\n",
       "        <td>Hassell</td>\n",
       "        <td>49</td>\n",
       "    </tr>\n",
       "    <tr>\n",
       "        <td>Canada</td>\n",
       "        <td>Carma</td>\n",
       "        <td>Schule</td>\n",
       "        <td>49</td>\n",
       "    </tr>\n",
       "    <tr>\n",
       "        <td>Indonesia</td>\n",
       "        <td>Malia</td>\n",
       "        <td>Blight</td>\n",
       "        <td>48</td>\n",
       "    </tr>\n",
       "    <tr>\n",
       "        <td>China</td>\n",
       "        <td>Paulo</td>\n",
       "        <td>Seivertsen</td>\n",
       "        <td>47</td>\n",
       "    </tr>\n",
       "    <tr>\n",
       "        <td>Niger</td>\n",
       "        <td>Kaylee</td>\n",
       "        <td>Hearley</td>\n",
       "        <td>54</td>\n",
       "    </tr>\n",
       "    <tr>\n",
       "        <td>Japan</td>\n",
       "        <td>Maure</td>\n",
       "        <td>Jandak</td>\n",
       "        <td>46</td>\n",
       "    </tr>\n",
       "    <tr>\n",
       "        <td>Argentina</td>\n",
       "        <td>Foss</td>\n",
       "        <td>Feavers</td>\n",
       "        <td>45</td>\n",
       "    </tr>\n",
       "    <tr>\n",
       "        <td>Venezuela</td>\n",
       "        <td>Ron</td>\n",
       "        <td>Leggitt</td>\n",
       "        <td>60</td>\n",
       "    </tr>\n",
       "    <tr>\n",
       "        <td>Russia</td>\n",
       "        <td>Flint</td>\n",
       "        <td>Gokes</td>\n",
       "        <td>40</td>\n",
       "    </tr>\n",
       "    <tr>\n",
       "        <td>China</td>\n",
       "        <td>Linet</td>\n",
       "        <td>Conelly</td>\n",
       "        <td>52</td>\n",
       "    </tr>\n",
       "    <tr>\n",
       "        <td>Philippines</td>\n",
       "        <td>Nikolas</td>\n",
       "        <td>Birtwell</td>\n",
       "        <td>57</td>\n",
       "    </tr>\n",
       "    <tr>\n",
       "        <td>Australia</td>\n",
       "        <td>Eduard</td>\n",
       "        <td>Leipelt</td>\n",
       "        <td>53</td>\n",
       "    </tr>\n",
       "</table>"
      ],
      "text/plain": [
       "[('United States', 'Marshall', 'Bernadot', 54),\n",
       " ('Ghana', 'Celinda', 'Malkin', 51),\n",
       " ('Ukraine', 'Guillermo', 'Furze', 53),\n",
       " ('Greece', 'Aharon', 'Tunnow', 48),\n",
       " ('Russia', 'Bail', 'Goodwin', 46),\n",
       " ('Poland', 'Cole', 'Winteringham', 49),\n",
       " ('Sweden', 'Emlyn', 'Erricker', 55),\n",
       " ('Russia', 'Cathee', 'Sivewright', 49),\n",
       " ('China', 'Barny', 'Ingerson', 57),\n",
       " ('Uganda', 'Sharla', 'Papaccio', 55),\n",
       " ('China', 'Stella', 'Youens', 51),\n",
       " ('Poland', 'Julio', 'Buesden', 48),\n",
       " ('United States', 'Tiffie', 'Cosely', 58),\n",
       " ('Poland', 'Auroora', 'Stiffell', 45),\n",
       " ('China', 'Clarita', 'Huet', 52),\n",
       " ('Poland', 'Shannon', 'Goulden', 45),\n",
       " ('Philippines', 'Emylee', 'Privost', 50),\n",
       " ('France', 'Madelina', 'Burk', 49),\n",
       " ('China', 'Saunderson', 'Root', 58),\n",
       " ('Indonesia', 'Bo', 'Waring', 55),\n",
       " ('China', 'Hollis', 'Domotor', 45),\n",
       " ('Russia', 'Robbie', 'Collip', 46),\n",
       " ('Philippines', 'Davon', 'Donisi', 46),\n",
       " ('China', 'Cristabel', 'Radeliffe', 48),\n",
       " ('China', 'Wallis', 'Bartleet', 58),\n",
       " ('Moldova', 'Arleen', 'Stailey', 38),\n",
       " ('Ireland', 'Mendel', 'Grumble', 58),\n",
       " ('China', 'Sallyann', 'Exley', 51),\n",
       " ('Mexico', 'Kain', 'Swaite', 46),\n",
       " ('Indonesia', 'Alonso', 'Bulteel', 45),\n",
       " ('Armenia', 'Anatol', 'Tankus', 51),\n",
       " ('Indonesia', 'Coralyn', 'Dawkins', 48),\n",
       " ('China', 'Deanne', 'Edwinson', 45),\n",
       " ('China', 'Georgiana', 'Epple', 51),\n",
       " ('Portugal', 'Bartlet', 'Breese', 56),\n",
       " ('Azerbaijan', 'Idalina', 'Lukash', 50),\n",
       " ('France', 'Livvie', 'Flory', 54),\n",
       " ('Malaysia', 'Nonie', 'Borit', 48),\n",
       " ('Indonesia', 'Clio', 'Mugg', 47),\n",
       " ('Brazil', 'Westley', 'Measor', 48),\n",
       " ('Philippines', 'Katrinka', 'Sibbert', 51),\n",
       " ('Poland', 'Valentia', 'Mounch', 50),\n",
       " ('Norway', 'Sheilah', 'Hedditch', 53),\n",
       " ('Papua New Guinea', 'Itch', 'Jubb', 50),\n",
       " ('Latvia', 'Stesha', 'Garnson', 53),\n",
       " ('Canada', 'Cristionna', 'Wadmore', 46),\n",
       " ('China', 'Lianna', 'Gatward', 43),\n",
       " ('Guatemala', 'Tanney', 'Vials', 48),\n",
       " ('France', 'Alma', 'Zavittieri', 44),\n",
       " ('China', 'Alvira', 'Tamas', 50),\n",
       " ('United States', 'Shanon', 'Peres', 45),\n",
       " ('Sweden', 'Maisey', 'Lynas', 53),\n",
       " ('Indonesia', 'Kip', 'Hothersall', 46),\n",
       " ('China', 'Cash', 'Landis', 48),\n",
       " ('Panama', 'Kennith', 'Digance', 45),\n",
       " ('China', 'Ulberto', 'Riggeard', 48),\n",
       " ('Switzerland', 'Judy', 'Gilligan', 49),\n",
       " ('Philippines', 'Tod', 'Trevaskus', 52),\n",
       " ('Brazil', 'Herold', 'Heggs', 44),\n",
       " ('Latvia', 'Verney', 'Note', 50),\n",
       " ('Poland', 'Temp', 'Ribey', 50),\n",
       " ('China', 'Conroy', 'Egdal', 48),\n",
       " ('Japan', 'Gabie', 'Alessandone', 47),\n",
       " ('Ukraine', 'Devlen', 'Chaperlin', 54),\n",
       " ('France', 'Babbette', 'Turner', 51),\n",
       " ('Czech Republic', 'Virgil', 'Scotney', 52),\n",
       " ('Tajikistan', 'Zorina', 'Bedow', 49),\n",
       " ('China', 'Aidan', 'Rudeyeard', 50),\n",
       " ('Ireland', 'Saunder', 'MacLice', 48),\n",
       " ('France', 'Waly', 'Brunstan', 53),\n",
       " ('China', 'Gisele', 'Enns', 52),\n",
       " ('Peru', 'Mina', 'Winchester', 48),\n",
       " ('Japan', 'Torie', 'MacShirrie', 50),\n",
       " ('Russia', 'Benjamen', 'Kenford', 51),\n",
       " ('China', 'Etan', 'Burn', 53),\n",
       " ('Russia', 'Merralee', 'Chaperlin', 38),\n",
       " ('Indonesia', 'Lanny', 'Malam', 49),\n",
       " ('Canada', 'Wilhelm', 'Deeprose', 54),\n",
       " ('Czech Republic', 'Lari', 'Hillhouse', 48),\n",
       " ('China', 'Ossie', 'Woodley', 52),\n",
       " ('Macedonia', 'April', 'Tyer', 50),\n",
       " ('Vietnam', 'Madelon', 'Dansey', 53),\n",
       " ('Ukraine', 'Korella', 'McNamee', 52),\n",
       " ('Jamaica', 'Linnea', 'Cannam', 43),\n",
       " ('China', 'Mart', 'Coling', 52),\n",
       " ('Indonesia', 'Marna', 'Causbey', 47),\n",
       " ('China', 'Berni', 'Daintier', 55),\n",
       " ('Poland', 'Cynthia', 'Hassell', 49),\n",
       " ('Canada', 'Carma', 'Schule', 49),\n",
       " ('Indonesia', 'Malia', 'Blight', 48),\n",
       " ('China', 'Paulo', 'Seivertsen', 47),\n",
       " ('Niger', 'Kaylee', 'Hearley', 54),\n",
       " ('Japan', 'Maure', 'Jandak', 46),\n",
       " ('Argentina', 'Foss', 'Feavers', 45),\n",
       " ('Venezuela', 'Ron', 'Leggitt', 60),\n",
       " ('Russia', 'Flint', 'Gokes', 40),\n",
       " ('China', 'Linet', 'Conelly', 52),\n",
       " ('Philippines', 'Nikolas', 'Birtwell', 57),\n",
       " ('Australia', 'Eduard', 'Leipelt', 53)]"
      ]
     },
     "execution_count": 13,
     "metadata": {},
     "output_type": "execute_result"
    }
   ],
   "source": [
    "%%sql\n",
    "\n",
    "SELECT country, first_name, last_name, test_score FROM INTERNATIONAL_STUDENT_TEST_SCORES;    "
   ]
  },
  {
   "cell_type": "code",
   "execution_count": 14,
   "metadata": {},
   "outputs": [
    {
     "name": "stdout",
     "output_type": "stream",
     "text": [
      " * ibm_db_sa://npm51420:***@dashdb-txn-sbox-yp-lon02-02.services.eu-gb.bluemix.net:50000/BLUDB\n",
      "(ibm_db_dbi.ProgrammingError) ibm_db_dbi::ProgrammingError: Exception('Statement Execute Failed: [IBM][CLI Driver][DB2/LINUXX8664] SQL0104N  An unexpected token \"END-OF-STATEMENT\" was found following \"o_socioeconomic_data\".  Expected tokens may include:  \"JOIN <joined_table>\".  SQLSTATE=42601\\r SQLCODE=-104')\n",
      "[SQL: PERSIST chicago_socioeconomic_data]\n",
      "(Background on this error at: http://sqlalche.me/e/13/f405)\n"
     ]
    }
   ],
   "source": [
    "import pandas\n",
    "chicago_socioeconomic_data = pandas.read_csv('https://data.cityofchicago.org/resource/jcxq-k9xf.csv')\n",
    "%sql PERSIST chicago_socioeconomic_data"
   ]
  },
  {
   "cell_type": "code",
   "execution_count": 15,
   "metadata": {},
   "outputs": [
    {
     "name": "stdout",
     "output_type": "stream",
     "text": [
      " * ibm_db_sa://npm51420:***@dashdb-txn-sbox-yp-lon02-02.services.eu-gb.bluemix.net:50000/BLUDB\n",
      "(ibm_db_dbi.ProgrammingError) ibm_db_dbi::ProgrammingError: Exception('SQLNumResultCols failed: [IBM][CLI Driver][DB2/LINUXX8664] SQL0204N  \"NPM51420.CHICAGO_SOCIOECONOMIC_DATA\" is an undefined name.  SQLSTATE=42704\\r SQLCODE=-204')\n",
      "[SQL: SELECT * FROM chicago_socioeconomic_data limit 5;]\n",
      "(Background on this error at: http://sqlalche.me/e/13/f405)\n"
     ]
    }
   ],
   "source": [
    "# limit attribute:\n",
    "\n",
    "%sql SELECT * FROM chicago_socioeconomic_data limit 5;  # limit attribute is used to limit the number of rows."
   ]
  },
  {
   "cell_type": "code",
   "execution_count": 44,
   "metadata": {},
   "outputs": [
    {
     "name": "stdout",
     "output_type": "stream",
     "text": [
      " * ibm_db_sa://npm51420:***@dashdb-txn-sbox-yp-lon02-02.services.eu-gb.bluemix.net:50000/BLUDB\n",
      "Done.\n"
     ]
    },
    {
     "data": {
      "text/html": [
       "<table>\n",
       "    <tr>\n",
       "        <th>tabschema</th>\n",
       "        <th>tabname</th>\n",
       "        <th>owner</th>\n",
       "        <th>ownertype</th>\n",
       "        <th>TYPE</th>\n",
       "        <th>status</th>\n",
       "        <th>base_tabschema</th>\n",
       "        <th>base_tabname</th>\n",
       "        <th>rowtypeschema</th>\n",
       "        <th>rowtypename</th>\n",
       "        <th>create_time</th>\n",
       "        <th>alter_time</th>\n",
       "        <th>invalidate_time</th>\n",
       "        <th>stats_time</th>\n",
       "        <th>colcount</th>\n",
       "        <th>tableid</th>\n",
       "        <th>tbspaceid</th>\n",
       "        <th>card</th>\n",
       "        <th>npages</th>\n",
       "        <th>mpages</th>\n",
       "        <th>fpages</th>\n",
       "        <th>npartitions</th>\n",
       "        <th>nfiles</th>\n",
       "        <th>tablesize</th>\n",
       "        <th>overflow</th>\n",
       "        <th>tbspace</th>\n",
       "        <th>index_tbspace</th>\n",
       "        <th>long_tbspace</th>\n",
       "        <th>parents</th>\n",
       "        <th>children</th>\n",
       "        <th>selfrefs</th>\n",
       "        <th>keycolumns</th>\n",
       "        <th>keyindexid</th>\n",
       "        <th>keyunique</th>\n",
       "        <th>checkcount</th>\n",
       "        <th>datacapture</th>\n",
       "        <th>const_checked</th>\n",
       "        <th>pmap_id</th>\n",
       "        <th>partition_mode</th>\n",
       "        <th>log_attribute</th>\n",
       "        <th>pctfree</th>\n",
       "        <th>append_mode</th>\n",
       "        <th>REFRESH</th>\n",
       "        <th>refresh_time</th>\n",
       "        <th>LOCKSIZE</th>\n",
       "        <th>VOLATILE</th>\n",
       "        <th>row_format</th>\n",
       "        <th>property</th>\n",
       "        <th>statistics_profile</th>\n",
       "        <th>compression</th>\n",
       "        <th>rowcompmode</th>\n",
       "        <th>access_mode</th>\n",
       "        <th>clustered</th>\n",
       "        <th>active_blocks</th>\n",
       "        <th>droprule</th>\n",
       "        <th>maxfreespacesearch</th>\n",
       "        <th>avgcompressedrowsize</th>\n",
       "        <th>avgrowcompressionratio</th>\n",
       "        <th>avgrowsize</th>\n",
       "        <th>pctrowscompressed</th>\n",
       "        <th>logindexbuild</th>\n",
       "        <th>codepage</th>\n",
       "        <th>collationschema</th>\n",
       "        <th>collationname</th>\n",
       "        <th>collationschema_orderby</th>\n",
       "        <th>collationname_orderby</th>\n",
       "        <th>encoding_scheme</th>\n",
       "        <th>pctpagessaved</th>\n",
       "        <th>last_regen_time</th>\n",
       "        <th>secpolicyid</th>\n",
       "        <th>protectiongranularity</th>\n",
       "        <th>auditpolicyid</th>\n",
       "        <th>auditpolicyname</th>\n",
       "        <th>auditexceptionenabled</th>\n",
       "        <th>definer</th>\n",
       "        <th>oncommit</th>\n",
       "        <th>logged</th>\n",
       "        <th>onrollback</th>\n",
       "        <th>lastused</th>\n",
       "        <th>control</th>\n",
       "        <th>temporaltype</th>\n",
       "        <th>tableorg</th>\n",
       "        <th>extended_row_size</th>\n",
       "        <th>pctextendedrows</th>\n",
       "        <th>remarks</th>\n",
       "    </tr>\n",
       "</table>"
      ],
      "text/plain": [
       "[]"
      ]
     },
     "execution_count": 44,
     "metadata": {},
     "output_type": "execute_result"
    }
   ],
   "source": [
    "# query to retrieve list of all tables in the database for your db2 schema (username):\n",
    "\n",
    "%sql select * from SYSCAT.TAbLES where TABSCHEMA = 'npm51420'"
   ]
  },
  {
   "cell_type": "code",
   "execution_count": 13,
   "metadata": {},
   "outputs": [
    {
     "name": "stdout",
     "output_type": "stream",
     "text": [
      " * ibm_db_sa://npm51420:***@dashdb-txn-sbox-yp-lon02-02.services.eu-gb.bluemix.net:50000/BLUDB\n",
      "(ibm_db_dbi.ProgrammingError) ibm_db_dbi::ProgrammingError: Exception('SQLNumResultCols failed: [IBM][CLI Driver][DB2/LINUXX8664] SQL0104N  An unexpected token \"#\" was found following \"TABSCHEMA=\\'npm51420\\'\".  Expected tokens may include:  \"LEFT_BRACKET\".  SQLSTATE=42601\\r SQLCODE=-104')\n",
      "[SQL: select TABSCHEMA, TABNAME, CREATE_TIME from SYSCAT.TABLES where TABSCHEMA='npm51420' # npm51420 is schema or username.]\n",
      "(Background on this error at: http://sqlalche.me/e/13/f405)\n"
     ]
    }
   ],
   "source": [
    "# query to retrieve list of all tables in the database for your db2 schema (username):\n",
    "\n",
    "%sql select TABSCHEMA, TABNAME, CREATE_TIME from SYSCAT.TABLES where TABSCHEMA='npm51420'   # npm51420 is schema or username."
   ]
  },
  {
   "cell_type": "code",
   "execution_count": 40,
   "metadata": {},
   "outputs": [
    {
     "name": "stdout",
     "output_type": "stream",
     "text": [
      " * ibm_db_sa://npm51420:***@dashdb-txn-sbox-yp-lon02-02.services.eu-gb.bluemix.net:50000/BLUDB\n",
      "Done.\n"
     ]
    },
    {
     "data": {
      "text/html": [
       "<table>\n",
       "    <tr>\n",
       "        <th>1</th>\n",
       "    </tr>\n",
       "    <tr>\n",
       "        <td>4</td>\n",
       "    </tr>\n",
       "</table>"
      ],
      "text/plain": [
       "[(Decimal('4'),)]"
      ]
     },
     "execution_count": 40,
     "metadata": {},
     "output_type": "execute_result"
    }
   ],
   "source": [
    "# #In Db2 the system catalog table called SYSCAT.COLUMNS contains the column metadata:\n",
    "# query to retrieve the number of columns in the table\n",
    "\n",
    "%sql select count(*) from SYSCAT.COLUMNS where TABNAME = 'INTERNATIONAL_STUDENT_TEST_SCORES'"
   ]
  },
  {
   "cell_type": "code",
   "execution_count": 41,
   "metadata": {},
   "outputs": [
    {
     "name": "stdout",
     "output_type": "stream",
     "text": [
      " * ibm_db_sa://npm51420:***@dashdb-txn-sbox-yp-lon02-02.services.eu-gb.bluemix.net:50000/BLUDB\n",
      "Done.\n"
     ]
    },
    {
     "data": {
      "text/html": [
       "<table>\n",
       "    <tr>\n",
       "        <th>colname</th>\n",
       "        <th>typename</th>\n",
       "        <th>length</th>\n",
       "    </tr>\n",
       "    <tr>\n",
       "        <td>COUNTRY</td>\n",
       "        <td>VARCHAR</td>\n",
       "        <td>50</td>\n",
       "    </tr>\n",
       "    <tr>\n",
       "        <td>FIRST_NAME</td>\n",
       "        <td>VARCHAR</td>\n",
       "        <td>50</td>\n",
       "    </tr>\n",
       "    <tr>\n",
       "        <td>LAST_NAME</td>\n",
       "        <td>VARCHAR</td>\n",
       "        <td>50</td>\n",
       "    </tr>\n",
       "    <tr>\n",
       "        <td>TEST_SCORE</td>\n",
       "        <td>INTEGER</td>\n",
       "        <td>4</td>\n",
       "    </tr>\n",
       "</table>"
      ],
      "text/plain": [
       "[('COUNTRY', 'VARCHAR', 50),\n",
       " ('FIRST_NAME', 'VARCHAR', 50),\n",
       " ('LAST_NAME', 'VARCHAR', 50),\n",
       " ('TEST_SCORE', 'INTEGER', 4)]"
      ]
     },
     "execution_count": 41,
     "metadata": {},
     "output_type": "execute_result"
    }
   ],
   "source": [
    "# query to retrieve all column names in the table along with their datatypes and length:\n",
    "\n",
    "%sql select COLNAME, TYPENAME, LENGTH from SYSCAT.COLUMNS where TABNAME = 'INTERNATIONAL_STUDENT_TEST_SCORES'"
   ]
  },
  {
   "cell_type": "code",
   "execution_count": 42,
   "metadata": {},
   "outputs": [
    {
     "name": "stdout",
     "output_type": "stream",
     "text": [
      " * ibm_db_sa://npm51420:***@dashdb-txn-sbox-yp-lon02-02.services.eu-gb.bluemix.net:50000/BLUDB\n",
      "Done.\n"
     ]
    },
    {
     "data": {
      "text/html": [
       "<table>\n",
       "    <tr>\n",
       "        <th>name</th>\n",
       "        <th>coltype</th>\n",
       "        <th>length</th>\n",
       "    </tr>\n",
       "    <tr>\n",
       "        <td>COUNTRY</td>\n",
       "        <td>VARCHAR </td>\n",
       "        <td>50</td>\n",
       "    </tr>\n",
       "    <tr>\n",
       "        <td>FIRST_NAME</td>\n",
       "        <td>VARCHAR </td>\n",
       "        <td>50</td>\n",
       "    </tr>\n",
       "    <tr>\n",
       "        <td>LAST_NAME</td>\n",
       "        <td>VARCHAR </td>\n",
       "        <td>50</td>\n",
       "    </tr>\n",
       "    <tr>\n",
       "        <td>TEST_SCORE</td>\n",
       "        <td>INTEGER </td>\n",
       "        <td>4</td>\n",
       "    </tr>\n",
       "</table>"
      ],
      "text/plain": [
       "[('COUNTRY', 'VARCHAR ', 50),\n",
       " ('FIRST_NAME', 'VARCHAR ', 50),\n",
       " ('LAST_NAME', 'VARCHAR ', 50),\n",
       " ('TEST_SCORE', 'INTEGER ', 4)]"
      ]
     },
     "execution_count": 42,
     "metadata": {},
     "output_type": "execute_result"
    }
   ],
   "source": [
    "# or use this query for same result:\n",
    "\n",
    "%sql select distinct(NAME), COLTYPE, LENGTH from SYSIBM.SYSCOLUMNS where TBNAME = 'INTERNATIONAL_STUDENT_TEST_SCORES'"
   ]
  },
  {
   "cell_type": "code",
   "execution_count": null,
   "metadata": {},
   "outputs": [],
   "source": []
  }
 ],
 "metadata": {
  "kernelspec": {
   "display_name": "Python 3",
   "language": "python",
   "name": "python3"
  },
  "language_info": {
   "codemirror_mode": {
    "name": "ipython",
    "version": 3
   },
   "file_extension": ".py",
   "mimetype": "text/x-python",
   "name": "python",
   "nbconvert_exporter": "python",
   "pygments_lexer": "ipython3",
   "version": "3.8.5"
  }
 },
 "nbformat": 4,
 "nbformat_minor": 4
}
