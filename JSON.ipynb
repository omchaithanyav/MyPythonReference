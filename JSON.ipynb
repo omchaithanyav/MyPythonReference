{
 "cells": [
  {
   "cell_type": "code",
   "execution_count": 1,
   "metadata": {},
   "outputs": [],
   "source": [
    "# we should use singe quotes ie.'' for json data variables. \n",
    "# we also should not use comments in json files."
   ]
  },
  {
   "cell_type": "code",
   "execution_count": 7,
   "metadata": {},
   "outputs": [
    {
     "name": "stdout",
     "output_type": "stream",
     "text": [
      "Enter a command(options: new,get,save): get\n",
      "Enter name of the personass\n",
      "person not found in address book\n",
      "Enter a command(options: new,get,save): save\n",
      "Enter a command(options: new,get,save): new\n",
      "Enter name of the personvivek\n",
      "Phone number: 990099009900\n",
      "Address: tpty\n",
      "Enter a command(options: new,get,save): get\n",
      "Enter name of the personvivek\n",
      "{'phone': '990099009900', 'address': 'tpty'}\n",
      "Enter a command(options: new,get,save): exit\n"
     ]
    }
   ],
   "source": [
    "import json\n",
    "import os\n",
    "os.chdir(\"D:\\Pycharm\")\n",
    "f = open(\"books.txt\",\"w+\")\n",
    "phone_book = {}\n",
    "command = \"\"\n",
    "while command != 'exit':\n",
    "    command = input('Enter a command(options: new,get,save): ')\n",
    "    if command == \"new\":\n",
    "        name = input('Enter name of the person')\n",
    "        p = input('Phone number: ')\n",
    "        a = input('Address: ')\n",
    "        phone_book[name] = {'phone': p, 'address': a}\n",
    "    elif command == 'get':\n",
    "        name = input('Enter name of the person')\n",
    "        if name in phone_book:\n",
    "            print(phone_book[name])\n",
    "        else:\n",
    "            print('person not found in address book')\n",
    "    elif command == 'save':\n",
    "        f.write(json.dumps(phone_book))"
   ]
  },
  {
   "cell_type": "code",
   "execution_count": null,
   "metadata": {},
   "outputs": [],
   "source": []
  },
  {
   "cell_type": "code",
   "execution_count": 27,
   "metadata": {},
   "outputs": [],
   "source": []
  },
  {
   "cell_type": "code",
   "execution_count": null,
   "metadata": {},
   "outputs": [],
   "source": []
  }
 ],
 "metadata": {
  "kernelspec": {
   "display_name": "Python 3",
   "language": "python",
   "name": "python3"
  },
  "language_info": {
   "codemirror_mode": {
    "name": "ipython",
    "version": 3
   },
   "file_extension": ".py",
   "mimetype": "text/x-python",
   "name": "python",
   "nbconvert_exporter": "python",
   "pygments_lexer": "ipython3",
   "version": "3.8.5"
  }
 },
 "nbformat": 4,
 "nbformat_minor": 4
}
