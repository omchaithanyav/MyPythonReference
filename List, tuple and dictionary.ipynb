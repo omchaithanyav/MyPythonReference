{
 "cells": [
  {
   "cell_type": "code",
   "execution_count": 1,
   "metadata": {},
   "outputs": [
    {
     "name": "stdout",
     "output_type": "stream",
     "text": [
      "lesson\n",
      "\n",
      "Now\n",
      "\n"
     ]
    }
   ],
   "source": [
    "def get_word(sentence, n):\n",
    "\t# Only proceed if n is positive \n",
    "\tif n > 0:\n",
    "\t\twords = sentence.split()\n",
    "\t\t# Only proceed if n is not more than the number of words \n",
    "\t\tif n <= len(words):\n",
    "\t\t\treturn(words[n-1])\n",
    "\treturn(\"\")\n",
    "\n",
    "print(get_word(\"This is a lesson about lists\", 4)) # Should print: lesson\n",
    "print(get_word(\"This is a lesson about lists\", -4)) # Nothing\n",
    "print(get_word(\"Now we are cooking!\", 1)) # Should print: Now\n",
    "print(get_word(\"Now we are cooking!\", 5)) # Nothing\n"
   ]
  },
  {
   "cell_type": "code",
   "execution_count": null,
   "metadata": {},
   "outputs": [],
   "source": [
    "# In Python, lists and strings are quite similar. \n",
    "# They’re both examples of sequences of data. \n",
    "# Sequences have similar properties, like:\n",
    "\n",
    "\n",
    "# (1) being able to iterate over them using for loops; \n",
    "# (2) support indexing; \n",
    "# (3) using the len function to find the length of the sequence; \n",
    "# (4) using the plus operator + in order to concatenate; and \n",
    "# (5) using the in keyword to check if the sequence contains a value. \n",
    "# Understanding these concepts allows you to apply them to other sequence types as well."
   ]
  },
  {
   "cell_type": "code",
   "execution_count": 3,
   "metadata": {},
   "outputs": [
    {
     "name": "stdout",
     "output_type": "stream",
     "text": [
      "['a', 'c', 'e', 'g']\n",
      "['Orange', 'Strawberry', 'Peach']\n",
      "[]\n"
     ]
    }
   ],
   "source": [
    "# The skip_elements function returns a list containing every other element from an input list, starting with the first element. \n",
    "\n",
    "\n",
    "\n",
    "def skip_elements(elements):\n",
    "    # Initialize variables\n",
    "    new_list = []\n",
    "    i = 0\n",
    "\n",
    "    # Iterate through the list\n",
    "    for element in elements:\n",
    "        # Does this element belong in the resulting list?\n",
    "        if i%2 == 0:\n",
    "            # Add this element to the resulting list\n",
    "            new_list = new_list + [element]\n",
    "        # Increment i\n",
    "        i = i + 1\n",
    "    return new_list\n",
    "print(skip_elements([\"a\", \"b\", \"c\", \"d\", \"e\", \"f\", \"g\"])) # Should be ['a', 'c', 'e', 'g']\n",
    "print(skip_elements(['Orange', 'Pineapple', 'Strawberry', 'Kiwi', 'Peach'])) # Should be ['Orange', 'Strawberry', 'Peach']\n",
    "print(skip_elements([])) # Should be []   \n"
   ]
  },
  {
   "cell_type": "code",
   "execution_count": null,
   "metadata": {},
   "outputs": [],
   "source": [
    "# order of the elements in a tuple can't be changed, the position of the element in a tuple can have meaning."
   ]
  },
  {
   "cell_type": "code",
   "execution_count": 1,
   "metadata": {},
   "outputs": [
    {
     "name": "stdout",
     "output_type": "stream",
     "text": [
      "['a', 'c', 'e', 'g']\n",
      "['Orange', 'Strawberry', 'Peach']\n"
     ]
    }
   ],
   "source": [
    "# skip_elements function return every other element from the list, using the enumerate function. \n",
    "# enumerate method \n",
    "\n",
    "def skip_elements(elements):\n",
    "\telement = []\n",
    "\tfor i,e in enumerate(elements):\n",
    "\t\tif i%2==0:\n",
    "\t\t\telement.append(e) \n",
    "\n",
    "\t\n",
    "\treturn element\n",
    "\n",
    "print(skip_elements([\"a\", \"b\", \"c\", \"d\", \"e\", \"f\", \"g\"])) # Should be ['a', 'c', 'e', 'g']\n",
    "print(skip_elements(['Orange', 'Pineapple', 'Strawberry', 'Kiwi', 'Peach'])) # Should be ['Orange', 'Strawberry', 'Peach']\n"
   ]
  },
  {
   "cell_type": "code",
   "execution_count": 11,
   "metadata": {},
   "outputs": [
    {
     "name": "stdout",
     "output_type": "stream",
     "text": [
      "['apegamer <apegamingyt009@gmail.com>', 'om chaithanya <omchaithanya@gmail.com>']\n"
     ]
    }
   ],
   "source": [
    "def email_list(people):\n",
    "    result = []\n",
    "    for email,name in people:\n",
    "        result.append(\"{} <{}>\" .format(name,email))\n",
    "    return result\n",
    "print(email_list([('apegamingyt009@gmail.com','apegamer'),(\"omchaithanya@gmail.com\",\"om chaithanya\")]))    \n",
    "        "
   ]
  },
  {
   "cell_type": "code",
   "execution_count": 13,
   "metadata": {},
   "outputs": [
    {
     "name": "stdout",
     "output_type": "stream",
     "text": [
      "[1, 3, 5]\n",
      "[1, 3, 5, 7, 9]\n",
      "[1, 3, 5, 7, 9, 11]\n",
      "[1]\n",
      "[]\n"
     ]
    }
   ],
   "source": [
    "# The odd_numbers function returns a list of odd numbers between 1 and n, inclusively. \n",
    "# List comprehensions\n",
    "\n",
    "def odd_numbers(n):\n",
    "\treturn [x for x in range(1,n+1) if x%2 != 0]\n",
    "\n",
    "print(odd_numbers(5))  # Should print [1, 3, 5]\n",
    "print(odd_numbers(10)) # Should print [1, 3, 5, 7, 9]\n",
    "print(odd_numbers(11)) # Should print [1, 3, 5, 7, 9, 11]\n",
    "print(odd_numbers(1))  # Should print [1]\n",
    "print(odd_numbers(-1)) # Should print []"
   ]
  },
  {
   "cell_type": "code",
   "execution_count": 17,
   "metadata": {},
   "outputs": [
    {
     "name": "stdout",
     "output_type": "stream",
     "text": [
      "[3, 6, 9, 12, 15, 18, 21, 24, 27, 30]\n"
     ]
    }
   ],
   "source": [
    "# list comprehension example:\n",
    "\n",
    "_3_table = [x*3 for x in range(1,11)]\n",
    "print(_3_table)"
   ]
  },
  {
   "cell_type": "code",
   "execution_count": 26,
   "metadata": {},
   "outputs": [
    {
     "name": "stdout",
     "output_type": "stream",
     "text": [
      "[6, 4, 4, 3]\n"
     ]
    }
   ],
   "source": [
    "# list comprehension example:\n",
    "\n",
    "langs = [\"python\",'java','perl','c++']\n",
    "lenghts = [len(lang) for lang in langs]\n",
    "\n",
    "print(lenghts)"
   ]
  },
  {
   "cell_type": "code",
   "execution_count": null,
   "metadata": {},
   "outputs": [],
   "source": [
    "# Common sequence operations in lists and  tuples:\n",
    ">> len(sequence) Returns the length of the sequence\n",
    ">> for element in sequence Iterates over each element in the sequence\n",
    ">> if element in sequence Checks whether the element is part of the sequence\n",
    ">> sequence[i] Accesses the element at index i of the sequence, starting at zero\n",
    ">> sequence[i:j] Accesses a slice starting at index i, ending at index j-1. If i is omitted, it's 0 by default. If j is omitted, it's len(sequence) by default.\n",
    ">> for index, element in enumerate(sequence) Iterates over both the indexes and the elements in the sequence at the same time"
   ]
  },
  {
   "cell_type": "raw",
   "metadata": {},
   "source": [
    "# List-specific operations and methods:\n",
    "\n",
    "\n",
    "list[i] = x Replaces the element at index i with x\n",
    "\n",
    "list.append(x) Inserts x at the end of the list\n",
    "\n",
    "list.insert(i, x) Inserts x at index i\n",
    "\n",
    "list.pop(i) Returns the element a index i, also removing it from the list. If i is omitted, the last element is returned and removed.\n",
    "\n",
    "list.remove(x) Removes the first occurrence of x in the list\n",
    "\n",
    "list.sort() Sorts the items in the list\n",
    "\n",
    "list.reverse() Reverses the order of items of the list\n",
    "\n",
    "list.clear() Removes all the items of the list\n",
    "\n",
    "list.copy() Creates a copy of the list\n",
    "\n",
    "list.extend(other_list) Appends all the elements of other_list at the end of list"
   ]
  },
  {
   "cell_type": "code",
   "execution_count": null,
   "metadata": {},
   "outputs": [],
   "source": [
    "# List comprehension\n",
    "# [expression for variable in sequence] Creates a new list based on the given sequence. \n",
    "# Each element is the result of the given expression.\n",
    "\n",
    "\n",
    "# [expression for variable in sequence if condition] Creates a new list based on the given sequence. \n",
    "# Each element is the result of the given expression; elements only get added if the condition is true.  "
   ]
  },
  {
   "cell_type": "code",
   "execution_count": 27,
   "metadata": {},
   "outputs": [
    {
     "name": "stdout",
     "output_type": "stream",
     "text": [
      "['program.c', 'stdio.h', 'sample.h', 'a.out', 'math.h', 'hpp.out']\n"
     ]
    }
   ],
   "source": [
    "\"\"\" Question 1\n",
    "Given a list of filenames, we want to rename all the files with extension hpp to the extension h. \n",
    "To do this, we would like to generate a new list called newfilenames, consisting of the new filenames. \"\"\"\n",
    "\n",
    "\n",
    "filenames = [\"program.c\", \"stdio.hpp\", \"sample.hpp\", \"a.out\", \"math.hpp\", \"hpp.out\"]\n",
    "# Generate newfilenames as a list containing the new filenames\n",
    "# using as many lines of code as your chosen method requires.\n",
    "newfilenames=[x.replace('.hpp', '.h') if x.endswith('.hpp') else x for x in filenames ]\n",
    "\n",
    "\n",
    "\n",
    "print(newfilenames) \n",
    "# Should be [\"program.c\", \"stdio.h\", \"sample.h\", \"a.out\", \"math.h\", \"hpp.out\"]"
   ]
  },
  {
   "cell_type": "code",
   "execution_count": 28,
   "metadata": {},
   "outputs": [
    {
     "name": "stdout",
     "output_type": "stream",
     "text": [
      "Ken is 30 years old and works as Chef\n",
      "Pat is 35 years old and works as Lawyer\n",
      "Amanda is 25 years old and works as Engineer\n"
     ]
    },
    {
     "data": {
      "text/plain": [
       "'\\nOutput should match:\\nKen is 30 years old and works as Chef\\nPat is 35 years old and works as Lawyer\\nAmanda is 25 years old and works as Engineer\\n'"
      ]
     },
     "execution_count": 28,
     "metadata": {},
     "output_type": "execute_result"
    }
   ],
   "source": [
    "\"\"\" \n",
    "The guest_list function reads in a list of tuples with the name, age, and profession of each party guest, \n",
    "and prints the sentence \"Guest is X years old and works as __.\" for each one. \n",
    "For example, guest_list(('Ken', 30, \"Chef\"), (\"Pat\", 35, 'Lawyer'), ('Amanda', 25, \"Engineer\")) \n",
    "\n",
    "should print out: \n",
    "\n",
    "Ken is 30 years old and works as Chef. \n",
    "Pat is 35 years old and works as Lawyer. \n",
    "Amanda is 25 years old and works as Engineer. \"\"\"\n",
    "\n",
    "def guest_list(guests):\n",
    "\tfor name,age,profession in guests:\n",
    "\t\t\n",
    "\t\tprint(\"{} is {} years old and works as {}\".format(name,age,profession))\n",
    "\n",
    "guest_list([('Ken', 30, \"Chef\"), (\"Pat\", 35, 'Lawyer'), ('Amanda', 25, \"Engineer\")])\n",
    "\n",
    "#Click Run to submit code\n",
    "\"\"\"\n",
    "Output should match:\n",
    "Ken is 30 years old and works as Chef\n",
    "Pat is 35 years old and works as Lawyer\n",
    "Amanda is 25 years old and works as Engineer\n",
    "\"\"\""
   ]
  },
  {
   "cell_type": "code",
   "execution_count": 30,
   "metadata": {},
   "outputs": [
    {
     "name": "stdout",
     "output_type": "stream",
     "text": [
      "Marketing : Mike, Karen, Jake, Tasha\n",
      "Engineering : Kim, Jay, Tom\n",
      "Users : \n"
     ]
    }
   ],
   "source": [
    "\"\"\" The group_list function accepts a group name and a list of members, \n",
    "and returns a string with the format: group_name: member1, member2, … \n",
    "For example, group_list(\"g\", [\"a\",\"b\",\"c\"]) returns \"g: a, b, c\" \"\"\"\n",
    "\n",
    "\n",
    "def group_list(group, users):\n",
    "\n",
    "     return \"{} : {}\".format(group,\", \".join(users))\n",
    "\n",
    "\n",
    "\n",
    "print(group_list(\"Marketing\", [\"Mike\", \"Karen\", \"Jake\", \"Tasha\"])) # Should be \"Marketing: Mike, Karen, Jake, Tasha\"\n",
    "print(group_list(\"Engineering\", [\"Kim\", \"Jay\", \"Tom\"])) # Should be \"Engineering: Kim, Jay, Tom\"\n",
    "print(group_list(\"Users\", \"\")) # Should be \"Users:\""
   ]
  },
  {
   "cell_type": "code",
   "execution_count": 31,
   "metadata": {},
   "outputs": [
    {
     "name": "stdout",
     "output_type": "stream",
     "text": [
      "ellohay owhay reaay ouyay\n",
      "rogrammingpay niay ythonpay siay unfay\n"
     ]
    }
   ],
   "source": [
    "\"\"\" function that turns text into pig latin: a simple text transformation that modifies each word moving the first character \n",
    "to the end and appending \"ay\" to the end. For example, python ends up as ythonpay.\"\"\"\n",
    "\n",
    "\n",
    "def pig_latin(text):\n",
    "  words = text.split()\n",
    "  pigged_text = []\n",
    "\n",
    "  for word in words:\n",
    "    word = word[1:] + word[0] + 'ay'\n",
    "    pigged_text.append(word)\n",
    "\n",
    "  return ' '.join(pigged_text)\n",
    "\t\t\n",
    "print(pig_latin(\"hello how are you\")) # Should be \"ellohay owhay reaay ouyay\"\n",
    "print(pig_latin(\"programming in python is fun\")) # Should be \"rogrammingpay niay ythonpay siay unfay\""
   ]
  },
  {
   "cell_type": "code",
   "execution_count": 10,
   "metadata": {},
   "outputs": [
    {
     "name": "stdout",
     "output_type": "stream",
     "text": [
      "{'Introduction': 1, 'Chapter 1': 4, 'Chapter 2': 11, 'Chapter 3': 24, 'Chapter 4': 30, 'Epilogue': 39}\n",
      "False\n",
      "{'Introduction': 1, 'Chapter 1': 4, 'Chapter 2': 11, 'Chapter 3': 24, 'Epilogue': 39}\n"
     ]
    }
   ],
   "source": [
    "\"\"\" The \"toc\" dictionary represents the table of contents for a book. Fill in the blanks to do the following:\n",
    "1) Add an entry for Epilogue on page 39. \n",
    "2) Change the page number for Chapter 3 to 24. \n",
    "3) Display the new dictionary contents. \n",
    "4) Display True if there is Chapter 5, False if there isn't. \n",
    "5) Delete Chapter 4 and print toc. \"\"\"\n",
    "\n",
    "\n",
    "toc = {\"Introduction\":1, \"Chapter 1\":4, \"Chapter 2\":11, \"Chapter 3\":25, \"Chapter 4\":30}\n",
    "toc['Epilogue'] = 39\n",
    "toc['Chapter 3'] = 24\n",
    "print(toc)\n",
    "print('Chapter 5' in toc)\n",
    "del toc['Chapter 4']\n",
    "print(toc)\n"
   ]
  },
  {
   "cell_type": "code",
   "execution_count": null,
   "metadata": {},
   "outputs": [],
   "source": [
    "# Using this mehtod we can print keys and values in a dictionary toghter:\n",
    "\n",
    "\n",
    "cool_beasts = {\"octopuses\":\"tentacles\", \"dolphins\":\"fins\", \"rhinos\":\"horns\"}\n",
    "for animals,parts in cool_beasts.items():\n",
    "    print(\"{} have {}\".format(animals,parts))"
   ]
  },
  {
   "cell_type": "code",
   "execution_count": 12,
   "metadata": {},
   "outputs": [
    {
     "data": {
      "text/plain": [
       "dict_keys(['octopuses', 'dolphins', 'rhinos'])"
      ]
     },
     "execution_count": 12,
     "metadata": {},
     "output_type": "execute_result"
    }
   ],
   "source": [
    "# to print only keys in a dictionary:\n",
    "\n",
    "cool_beasts = {\"octopuses\":\"tentacles\", \"dolphins\":\"fins\", \"rhinos\":\"horns\"}\n",
    "cool_beasts.keys()"
   ]
  },
  {
   "cell_type": "code",
   "execution_count": 13,
   "metadata": {},
   "outputs": [
    {
     "data": {
      "text/plain": [
       "dict_values(['tentacles', 'fins', 'horns'])"
      ]
     },
     "execution_count": 13,
     "metadata": {},
     "output_type": "execute_result"
    }
   ],
   "source": [
    "# to print only values in a dictionary:\n",
    "\n",
    "cool_beasts = {\"octopuses\":\"tentacles\", \"dolphins\":\"fins\", \"rhinos\":\"horns\"}\n",
    "\n",
    "cool_beasts.values()"
   ]
  },
  {
   "cell_type": "code",
   "execution_count": 22,
   "metadata": {},
   "outputs": [
    {
     "data": {
      "text/plain": [
       "{'o': 2,\n",
       " 'k': 1,\n",
       " ' ': 4,\n",
       " 'i': 1,\n",
       " 'a': 1,\n",
       " 'm': 1,\n",
       " 'd': 1,\n",
       " 'n': 1,\n",
       " 'e': 1,\n",
       " 'b': 1,\n",
       " 'r': 1,\n",
       " 'u': 1,\n",
       " 'h': 1}"
      ]
     },
     "execution_count": 22,
     "metadata": {},
     "output_type": "execute_result"
    }
   ],
   "source": [
    "# counting number times each letter used:\n",
    "\n",
    "def count_letters(text):\n",
    "    result = {}\n",
    "    for letter in text:\n",
    "        if letter not in result:\n",
    "            result[letter]=0\n",
    "        result[letter] += 1\n",
    "    return result    \n",
    "\n",
    "\n",
    "count_letters(\"ok i am done bruh\")    "
   ]
  },
  {
   "cell_type": "code",
   "execution_count": 23,
   "metadata": {},
   "outputs": [
    {
     "data": {
      "text/plain": [
       "' You can iterate over dictionaries using a for loop, just like with strings, lists, and tuples. \\nThis will iterate over the sequence of keys in the dictionary. If you want to access the corresponding \\nvalues associated with the keys, you could use the keys as indexes. Or you can use the items method on the dictionary, \\nlike dictionary.items(). This method returns a tuple for each element in the dictionary, where the first \\nelement in the tuple is the key and the second is the value.\\n\\nIf you only wanted to access the keys in a dictionary, you could use the keys() method on the dictionary: dictionary.keys(). \\nIf you only wanted the values, you could use the values() method: dictionary.values().'"
      ]
     },
     "execution_count": 23,
     "metadata": {},
     "output_type": "execute_result"
    }
   ],
   "source": [
    "\"\"\" You can iterate over dictionaries using a for loop, just like with strings, lists, and tuples. \n",
    "    This will iterate over the sequence of keys in the dictionary. If you want to access the corresponding \n",
    "    values associated with the keys, you could use the keys as indexes. Or you can use the items method on the dictionary, \n",
    "    like dictionary.items(). This method returns a tuple for each element in the dictionary, where the first \n",
    "    element in the tuple is the key and the second is the value.\n",
    "\n",
    "    If you only wanted to access the keys in a dictionary, you could use the keys() method on the dictionary: dictionary.keys(). \n",
    "    If you only wanted the values, you could use the values() method: dictionary.values().\"\"\""
   ]
  },
  {
   "cell_type": "code",
   "execution_count": 2,
   "metadata": {},
   "outputs": [
    {
     "name": "stdout",
     "output_type": "stream",
     "text": [
      "red shirt\n",
      "blue shirt\n",
      "white shirt\n",
      "blue jeans\n",
      "black jeans\n"
     ]
    }
   ],
   "source": [
    "\"\"\"In Python, a dictionary can only hold a single value for a given key. To workaround this, our single value \n",
    "   can be a list containing multiple values. Here we have a dictionary called \"wardrobe\" with items of clothing \n",
    "   and their colors.\"\"\"\n",
    "\n",
    "\n",
    "wardrobe = {\"shirt\":[\"red\",\"blue\",\"white\"], \"jeans\":[\"blue\",\"black\"]}\n",
    "for key, value in wardrobe.items():\n",
    "    for i in value:\n",
    "        print(\"{} {}\".format(i, key))"
   ]
  },
  {
   "cell_type": "code",
   "execution_count": null,
   "metadata": {},
   "outputs": [],
   "source": [
    "Dictionary Methods Cheat Sheet\n",
    "Definition\n",
    "\n",
    "x = {key1:value1, key2:value2} \n",
    "\n",
    "Operations\n",
    "\n",
    "len(dictionary) - Returns the number of items in the dictionary\n",
    "for key in dictionary - Iterates over each key in the dictionary\n",
    "for key, value in dictionary.items() - Iterates over each key,value pair in the dictionary\n",
    "if key in dictionary - Checks whether the key is in the dictionary\n",
    "dictionary[key] - Accesses the item with key key of the dictionary\n",
    "dictionary[key] = value - Sets the value associated with key\n",
    "del dictionary[key] - Removes the item with key key from the dictionary\n",
    "Methods\n",
    "\n",
    "dict.get(key, default) - Returns the element corresponding to key, or default if it's not present\n",
    "dict.keys() - Returns a sequence containing the keys in the dictionary\n",
    "dict.values() - Returns a sequence containing the values in the dictionary\n",
    "dict.update(other_dictionary) - Updates the dictionary with the items coming from the other dictionary. Existing entries will be replaced; new entries will be added.\n",
    "dict.clear() - Removes all the items of the dictionary"
   ]
  },
  {
   "cell_type": "code",
   "execution_count": 3,
   "metadata": {},
   "outputs": [
    {
     "name": "stdout",
     "output_type": "stream",
     "text": [
      "28.44\n"
     ]
    }
   ],
   "source": [
    "# The add_prices function returns the total price of all of the groceries in the  dictionary. \n",
    "\n",
    "\n",
    "def add_prices(basket):\n",
    "\ttotal = 0\n",
    "\tfor items in basket.values():\n",
    "\t\t\n",
    "\t\ttotal += items\n",
    "\t\titems = items +1\n",
    "\t\n",
    "\treturn round(total, 2)  \n",
    "\n",
    "groceries = {\"bananas\": 1.56, \"apples\": 2.50, \"oranges\": 0.99, \"bread\": 4.59, \n",
    "\t\"coffee\": 6.99, \"milk\": 3.39, \"eggs\": 2.98, \"cheese\": 5.44}\n",
    "\n",
    "print(add_prices(groceries)) # Should print 28.44"
   ]
  },
  {
   "cell_type": "code",
   "execution_count": 2,
   "metadata": {},
   "outputs": [
    {
     "name": "stdout",
     "output_type": "stream",
     "text": [
      "['clark.kent@gmail.com', 'diana.prince@gmail.com', 'peter.parker@gmail.com', 'barbara.gordon@yahoo.com', 'jean.grey@yahoo.com', 'bruce.wayne@hotmail.com']\n"
     ]
    }
   ],
   "source": [
    "# The email_list function receives a dictionary, which contains domain names as keys, and a list of users as values.\n",
    "\n",
    "def email_list(domains):\n",
    "\temails = []\n",
    "\tfor names,users in domains.items():\n",
    "\t  for user in users:\n",
    "\t    emails.append(user+\"@\"+names)\n",
    "\treturn(emails)\n",
    "\n",
    "print(email_list({\"gmail.com\": [\"clark.kent\", \"diana.prince\", \"peter.parker\"], \"yahoo.com\": [\"barbara.gordon\", \"jean.grey\"], \"hotmail.com\": [\"bruce.wayne\"]}))"
   ]
  },
  {
   "cell_type": "code",
   "execution_count": 2,
   "metadata": {},
   "outputs": [
    {
     "name": "stdout",
     "output_type": "stream",
     "text": [
      "house number 123 on street named Main Street\n"
     ]
    }
   ],
   "source": [
    "# For example, \"123 Main Street\" into: 'house number 123 on street named Main Street'.\n",
    "\n",
    "\n",
    "def format_address(address_string):\n",
    "  # Declare variables\n",
    "  house_number = 0\n",
    "  street_name = []\n",
    "  # Separate the address string into parts\n",
    "  address = address_string.split()\n",
    "  # Traverse through the address parts\n",
    "  for item in address:\n",
    "    if item.isnumeric():\n",
    "      house_number = item\n",
    "    else:\n",
    "      street_name.append(item)\n",
    "    # Determine if the address part is the\n",
    "    # house number or part of the street name\n",
    "\n",
    "  # Does anything else need to be done \n",
    "  # before returning the result?\n",
    "  \n",
    "  # Return the formatted string  \n",
    "  return \"house number {} on street named {}\".format(house_number, \" \".join(street_name))\n",
    "\n",
    "\n",
    "\n",
    "\n",
    "print(format_address(\"123 Main Street\"))\n",
    "# Should print: \"house number 123 on street named Main Street\""
   ]
  },
  {
   "cell_type": "code",
   "execution_count": 4,
   "metadata": {},
   "outputs": [
    {
     "name": "stdout",
     "output_type": "stream",
     "text": [
      "Have a NICE day\n",
      "Shhh, don't be so LOUD!\n",
      "Automating with Python is FUN\n"
     ]
    }
   ],
   "source": [
    "# The highlight_word function changes the given word in a sentence to its upper-case version in one line. \n",
    "\n",
    "def highlight_word(sentence, word):\n",
    "\treturn(sentence.replace(word,word.upper()))\n",
    "\n",
    "print(highlight_word(\"Have a nice day\", \"nice\"))\n",
    "print(highlight_word(\"Shhh, don't be so loud!\", \"loud\"))\n",
    "print(highlight_word(\"Automating with Python is fun\", \"fun\"))"
   ]
  },
  {
   "cell_type": "code",
   "execution_count": 8,
   "metadata": {},
   "outputs": [],
   "source": [
    "\"\"\" A professor with two assistants, Jamie and Drew, wants an attendance list of the students, \n",
    "   in the order that they arrived in the classroom. Drew was the first one to note which students \n",
    "   arrived, and then Jamie took over. After the class, they each entered their lists into the computer \n",
    "   and emailed them to the professor, who needs to combine them into one, in the order of each student's arrival. \n",
    "   Jamie emailed a follow-up, saying that her list is in reverse order. Complete the steps to combine them into \n",
    "   one list as follows: the contents of Drew's list, followed by Jamie's list in reverse order, to get an \n",
    "   accurate list of the students as they arrived. \"\"\"\n",
    "\n",
    "\n",
    "def combine_lists(list1, list2):\n",
    "  # Generate a new list containing the elements of list2\n",
    "  # Followed by the elements of list1 in reverse order\n",
    "  new_list = list2\n",
    "  for i in reversed(range(len(list1))):\n",
    "    new_list.append(list1[i])\n",
    "  return new_list\n",
    "  \n",
    "\t\n",
    "Jamies_list = [\"Alice\", \"Cindy\", \"Bobby\", \"Jan\", \"Peter\"]\n",
    "Drews_list = [\"Mike\", \"Carol\", \"Greg\", \"Marcia\"]\n",
    "\n",
    "print(combine_lists(Jamies_list, Drews_list))"
   ]
  },
  {
   "cell_type": "code",
   "execution_count": 10,
   "metadata": {},
   "outputs": [
    {
     "name": "stdout",
     "output_type": "stream",
     "text": [
      "[4, 9]\n",
      "[1, 4, 9, 16, 25]\n",
      "[0, 1, 4, 9, 16, 25, 36, 49, 64, 81, 100]\n"
     ]
    }
   ],
   "source": [
    "# Use a list comprehension to create a list of squared numbers (n*n). \n",
    "\n",
    "\n",
    "def squares(start, end):\n",
    "\treturn [x*x for x in range(start,end+1)]\n",
    "\n",
    "print(squares(2, 3)) # Should be [4, 9]\n",
    "print(squares(1, 5)) # Should be [1, 4, 9, 16, 25]\n",
    "print(squares(0, 10)) # Should be [0, 1, 4, 9, 16, 25, 36, 49, 64, 81, 100]"
   ]
  },
  {
   "cell_type": "code",
   "execution_count": 12,
   "metadata": {},
   "outputs": [
    {
     "name": "stdout",
     "output_type": "stream",
     "text": [
      "Kia Soul costs 19000 dollars\n",
      "Lamborghini Diablo costs 55000 dollars\n",
      "Ford Fiesta costs 13000 dollars\n",
      "Toyota Prius costs 24000 dollars\n",
      "\n"
     ]
    }
   ],
   "source": [
    "# iterate through the keys and values of the car_prices dictionary, printing out some information about each one.\n",
    "\n",
    "def car_listing(car_prices):\n",
    "  result = \"\"\n",
    "  for name,price in car_prices.items():\n",
    "    result += \"{} costs {} dollars\".format(name,price) + \"\\n\"\n",
    "  return result\n",
    "\n",
    "print(car_listing({\"Kia Soul\":19000, \"Lamborghini Diablo\":55000, \"Ford Fiesta\":13000, \"Toyota Prius\":24000}))"
   ]
  },
  {
   "cell_type": "code",
   "execution_count": 14,
   "metadata": {},
   "outputs": [
    {
     "name": "stdout",
     "output_type": "stream",
     "text": [
      "{'a': 2, 'b': 2, 'c': 2}\n",
      "{'m': 1, 'a': 1, 't': 1, 'h': 1, 'i': 1, 's': 1, 'f': 1, 'u': 1, 'n': 1}\n",
      "{'t': 2, 'h': 1, 'i': 2, 's': 3, 'a': 1, 'e': 3, 'n': 2, 'c': 1}\n"
     ]
    }
   ],
   "source": [
    "\"\"\" Use a dictionary to count the frequency of letters in the input string. Only letters should be counted,\n",
    "not blank spaces, numbers, or punctuation. Upper case should be considered the same as lower case. For example, \n",
    "count_letters(\"This is a sentence.\") should return {'t': 2, 'h': 1, 'i': 2, 's': 3, 'a': 1, 'e': 3, 'n': 2, 'c': 1}. \"\"\"\n",
    "\n",
    "def count_letters(text):\n",
    "  result = {}\n",
    "  text = text.lower()\n",
    "  # Go through each letter in the text\n",
    "  for letter in text:\n",
    "   \n",
    "    # Check if the letter needs to be counted or not\n",
    "    if letter.isalpha() :\n",
    "      # Add or increment the value in the dictionary\n",
    "      count = text.count(letter)\n",
    "      result[letter] = count\n",
    "  return result\n",
    "\n",
    "print(count_letters(\"AaBbCc\"))\n",
    "# Should be {'a': 2, 'b': 2, 'c': 2}\n",
    "\n",
    "print(count_letters(\"Math is fun! 2+2=4\"))\n",
    "# Should be {'m': 1, 'a': 1, 't': 1, 'h': 1, 'i': 1, 's': 1, 'f': 1, 'u': 1, 'n': 1}\n",
    "\n",
    "print(count_letters(\"This is a sentence.\"))\n",
    "# Should be {'t': 2, 'h': 1, 'i': 2, 's': 3, 'a': 1, 'e': 3, 'n': 2, 'c': 1}"
   ]
  },
  {
   "cell_type": "code",
   "execution_count": 1,
   "metadata": {},
   "outputs": [
    {
     "ename": "NameError",
     "evalue": "name 'A' is not defined",
     "output_type": "error",
     "traceback": [
      "\u001b[1;31m---------------------------------------------------------------------------\u001b[0m",
      "\u001b[1;31mNameError\u001b[0m                                 Traceback (most recent call last)",
      "\u001b[1;32m<ipython-input-1-d7fa261acd9a>\u001b[0m in \u001b[0;36m<module>\u001b[1;34m\u001b[0m\n\u001b[0;32m      1\u001b[0m \u001b[1;31m# syntax to clone the list A and assign the result to list B:\u001b[0m\u001b[1;33m\u001b[0m\u001b[1;33m\u001b[0m\u001b[1;33m\u001b[0m\u001b[0m\n\u001b[1;32m----> 2\u001b[1;33m \u001b[0mB\u001b[0m\u001b[1;33m=\u001b[0m\u001b[0mA\u001b[0m\u001b[1;33m[\u001b[0m\u001b[1;33m:\u001b[0m\u001b[1;33m]\u001b[0m\u001b[1;33m\u001b[0m\u001b[1;33m\u001b[0m\u001b[0m\n\u001b[0m",
      "\u001b[1;31mNameError\u001b[0m: name 'A' is not defined"
     ]
    }
   ],
   "source": [
    "# syntax to clone the list A and assign the result to list B:\n",
    "B=A[:]"
   ]
  },
  {
   "cell_type": "code",
   "execution_count": 4,
   "metadata": {},
   "outputs": [
    {
     "name": "stdout",
     "output_type": "stream",
     "text": [
      "[1, 2, 3, 4, 5, 6]\n"
     ]
    }
   ],
   "source": [
    "# Example:\n",
    "\n",
    "A = [1,2,3,4,5,6]\n",
    "B = A[:]\n",
    "\n",
    "print(B)"
   ]
  },
  {
   "cell_type": "code",
   "execution_count": 7,
   "metadata": {},
   "outputs": [
    {
     "name": "stdout",
     "output_type": "stream",
     "text": [
      "(0, 'eat')\n",
      "(1, 'sleep')\n",
      "(2, 'repeat')\n"
     ]
    }
   ],
   "source": [
    "\n",
    "# Python program to illustrate\n",
    "# enumerate function in loops\n",
    "l1 = [\"eat\",\"sleep\",\"repeat\"]\n",
    " \n",
    "# printing the tuples in object directly\n",
    "for ele in enumerate(l1):\n",
    "    print (ele)"
   ]
  },
  {
   "cell_type": "code",
   "execution_count": 3,
   "metadata": {},
   "outputs": [
    {
     "name": "stdout",
     "output_type": "stream",
     "text": [
      "100 eat\n",
      "101 sleep\n",
      "102 repeat\n"
     ]
    }
   ],
   "source": [
    "# changing index and printing separately\n",
    "\n",
    "for count,ele in enumerate(l1,100):\n",
    "    print (count,ele)"
   ]
  },
  {
   "cell_type": "code",
   "execution_count": 8,
   "metadata": {},
   "outputs": [
    {
     "name": "stdout",
     "output_type": "stream",
     "text": [
      "{'banana', 'cherry'}\n"
     ]
    }
   ],
   "source": [
    "# Python Set difference_update() and difference() Methods:\n",
    "\n",
    "x = {\"apple\", \"banana\", \"cherry\"}\n",
    "y = {\"google\", \"microsoft\", \"apple\"}\n",
    "\n",
    "print(x.difference(y))"
   ]
  },
  {
   "cell_type": "code",
   "execution_count": 13,
   "metadata": {},
   "outputs": [
    {
     "name": "stdout",
     "output_type": "stream",
     "text": [
      "{'banana', 'cherry'}\n"
     ]
    }
   ],
   "source": [
    "# Remove the items that exist in both sets:\n",
    "\n",
    "x = {\"apple\", \"banana\", \"cherry\"}\n",
    "y = {\"google\", \"microsoft\", \"apple\"}\n",
    "\n",
    "x.difference_update(y)\n",
    "print(x)"
   ]
  },
  {
   "cell_type": "code",
   "execution_count": 14,
   "metadata": {},
   "outputs": [
    {
     "name": "stdout",
     "output_type": "stream",
     "text": [
      "{'google', 'microsoft', 'cherry', 'banana'}\n"
     ]
    }
   ],
   "source": [
    "# Python Set symmetric_difference() Method:\n",
    "\n",
    "x = {\"apple\", \"banana\", \"cherry\"}\n",
    "y = {\"google\", \"microsoft\", \"apple\"}\n",
    "\n",
    "z = x.symmetric_difference(y)\n",
    "\n",
    "print(z)"
   ]
  },
  {
   "cell_type": "markdown",
   "metadata": {},
   "source": [
    "#The symmetric_difference() method returns a set that contains all items from both set, but not the items that are present in both sets."
   ]
  },
  {
   "cell_type": "code",
   "execution_count": 15,
   "metadata": {},
   "outputs": [
    {
     "name": "stdout",
     "output_type": "stream",
     "text": [
      "red\n",
      "green\n",
      "blue\n",
      "purple\n"
     ]
    }
   ],
   "source": [
    "a = ('red', 'green', 'blue', 'purple')\n",
    "\n",
    "for color in range(len(a)):\n",
    "    print(a[color])"
   ]
  },
  {
   "cell_type": "raw",
   "metadata": {},
   "source": [
    "The double colon is a special case in Python’s extended slicing feature. The extended slicing notation string[start:stop:step] uses three arguments start, stop, and step to carve out a subsequence. It accesses every step-th element between indices start (included) and stop (excluded). The double colon :: occurs if you drop the stop argument. In this case, Python will use the default value and doesn’t assume an artificial stop."
   ]
  },
  {
   "cell_type": "markdown",
   "metadata": {},
   "source": [
    "string[::2] reads “default start index, default stop index, step size is two—take every second element”.\n",
    "\n",
    "string[::3] reads “default start index, default stop index, step size is three—take every third element”.\n",
    "\n",
    "string[::4] reads “default start index, default stop index, step size is four—take every fourth element“.\n",
    "\n",
    "string[2::2] reads “start index of two, default stop index, step size is two—take every second element starting from index 2“."
   ]
  },
  {
   "cell_type": "code",
   "execution_count": 3,
   "metadata": {},
   "outputs": [
    {
     "data": {
      "text/plain": [
       "'lowrd'"
      ]
     },
     "execution_count": 3,
     "metadata": {},
     "output_type": "execute_result"
    }
   ],
   "source": [
    ">>> s = 'hello world'\n",
    ">>> s[::2]\n",
    "'hlowrd'\n",
    ">>> s[::3]\n",
    "'hlwl'\n",
    ">>> s[::4]\n",
    "'hor'\n",
    ">>> s[2::2]\n",
    "'lowrd'"
   ]
  },
  {
   "cell_type": "code",
   "execution_count": 6,
   "metadata": {},
   "outputs": [
    {
     "name": "stdout",
     "output_type": "stream",
     "text": [
      "hlowrd\n",
      "hor\n",
      "lowrd\n"
     ]
    }
   ],
   "source": [
    "s = 'hello world'\n",
    "\n",
    "print(s[::2])\n",
    "print(s[::4])\n",
    "print(s[2::2])"
   ]
  },
  {
   "cell_type": "code",
   "execution_count": null,
   "metadata": {},
   "outputs": [],
   "source": []
  }
 ],
 "metadata": {
  "kernelspec": {
   "display_name": "Python 3 (ipykernel)",
   "language": "python",
   "name": "python3"
  },
  "language_info": {
   "codemirror_mode": {
    "name": "ipython",
    "version": 3
   },
   "file_extension": ".py",
   "mimetype": "text/x-python",
   "name": "python",
   "nbconvert_exporter": "python",
   "pygments_lexer": "ipython3",
   "version": "3.8.11"
  }
 },
 "nbformat": 4,
 "nbformat_minor": 4
}
