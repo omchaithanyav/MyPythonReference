{
 "cells": [
  {
   "cell_type": "code",
   "execution_count": 10,
   "id": "dd7d51e5",
   "metadata": {},
   "outputs": [
    {
     "name": "stderr",
     "output_type": "stream",
     "text": [
      "2021-06-13 22:35:49,726 - INFO - Instabot version: 0.117.0 Started\n",
      "2021-06-13 22:35:49,726 - INFO - Instabot version: 0.117.0 Started\n",
      "2021-06-13 22:35:49,726 - INFO - Instabot version: 0.117.0 Started\n",
      "2021-06-13 22:35:49,729 - INFO - Not yet logged in starting: PRE-LOGIN FLOW!\n",
      "2021-06-13 22:35:49,729 - INFO - Not yet logged in starting: PRE-LOGIN FLOW!\n",
      "2021-06-13 22:35:49,729 - INFO - Not yet logged in starting: PRE-LOGIN FLOW!\n",
      "2021-06-13 22:35:53,059 - INFO - Logged-in successfully as 'instabot00112'!\n",
      "2021-06-13 22:35:53,059 - INFO - Logged-in successfully as 'instabot00112'!\n",
      "2021-06-13 22:35:53,059 - INFO - Logged-in successfully as 'instabot00112'!\n",
      "2021-06-13 22:35:53,061 - INFO - LOGIN FLOW! Just logged-in: True\n",
      "2021-06-13 22:35:53,061 - INFO - LOGIN FLOW! Just logged-in: True\n",
      "2021-06-13 22:35:53,061 - INFO - LOGIN FLOW! Just logged-in: True\n"
     ]
    },
    {
     "data": {
      "text/plain": [
       "True"
      ]
     },
     "execution_count": 10,
     "metadata": {},
     "output_type": "execute_result"
    }
   ],
   "source": [
    "from instabot import Bot\n",
    "import time\n",
    "import random\n",
    "\n",
    "bot = Bot()\n",
    "bot.login(username = \"instabot00112\", password = \"#SARAbelongsto@APEGAMER009\")"
   ]
  },
  {
   "cell_type": "code",
   "execution_count": 6,
   "id": "94fea2fd",
   "metadata": {},
   "outputs": [
    {
     "name": "stdout",
     "output_type": "stream",
     "text": [
      "FOUND: w:1280 h:1024 r:1.25\n"
     ]
    },
    {
     "name": "stderr",
     "output_type": "stream",
     "text": [
      "2021-06-12 21:28:22,288 - INFO - Photo '211518.jpg' is uploaded.\n"
     ]
    },
    {
     "data": {
      "text/plain": [
       "{'taken_at': 1623513500,\n",
       " 'pk': 2594541747204091557,\n",
       " 'id': '2594541747204091557_48308492716',\n",
       " 'device_timestamp': 1623513482367,\n",
       " 'media_type': 1,\n",
       " 'code': 'CQBqfj9BW6l',\n",
       " 'client_cache_key': 'MjU5NDU0MTc0NzIwNDA5MTU1Nw==.2',\n",
       " 'filter_type': 0,\n",
       " 'is_unified_video': False,\n",
       " 'user': {'pk': 48308492716,\n",
       "  'username': 'instabot00112',\n",
       "  'full_name': 'Instagram_botter',\n",
       "  'is_private': False,\n",
       "  'profile_pic_url': 'https://instagram.fkul18-1.fna.fbcdn.net/v/t51.2885-19/44884218_345707102882519_2446069589734326272_n.jpg?_nc_ad=z-m&_nc_ht=instagram.fkul18-1.fna.fbcdn.net&_nc_ohc=G4A_PoHotBsAX-XPGG1&edm=AId3EpQBAAAA&ccb=7-4&oh=8ddf4ce159ebd18d7fcfce40c53d5c18&oe=60CCAA4F&_nc_sid=705020&ig_cache_key=YW5vbnltb3VzX3Byb2ZpbGVfcGlj.2-ccb7-4',\n",
       "  'has_anonymous_profile_picture': True,\n",
       "  'can_boost_post': False,\n",
       "  'can_see_organic_insights': False,\n",
       "  'show_insights_terms': False,\n",
       "  'reel_auto_archive': 'unset',\n",
       "  'is_unpublished': False,\n",
       "  'allowed_commenter_type': 'any',\n",
       "  'account_badges': [],\n",
       "  'fbid_v2': 17841448381488561},\n",
       " 'can_viewer_reshare': True,\n",
       " 'caption_is_edited': False,\n",
       " 'like_and_view_counts_disabled': False,\n",
       " 'is_commercial': True,\n",
       " 'is_paid_partnership': False,\n",
       " 'comment_likes_enabled': False,\n",
       " 'comment_threading_enabled': False,\n",
       " 'has_more_comments': False,\n",
       " 'max_num_visible_preview_comments': 2,\n",
       " 'preview_comments': [],\n",
       " 'can_view_more_preview_comments': False,\n",
       " 'comment_count': 0,\n",
       " 'hide_view_all_comment_entrypoint': False,\n",
       " 'image_versions2': {'candidates': [{'width': 1080,\n",
       "    'height': 864,\n",
       "    'url': 'https://instagram.fhyd14-2.fna.fbcdn.net/v/t51.2885-15/e35/s1080x1080/199314313_1203141176799196_7104822065223786824_n.jpg?tp=1&_nc_ht=instagram.fhyd14-2.fna.fbcdn.net&_nc_cat=104&_nc_ohc=hXng8WeZIfsAX939yRe&edm=ACqnv0EBAAAA&ccb=7-4&oh=bd5a4f179777317b6c2273655b3110fb&oe=60CC7E0A&_nc_sid=9ec724&_nc_map=control&ig_cache_key=MjU5NDU0MTc0NzIwNDA5MTU1Nw%3D%3D.2-ccb7-4',\n",
       "    'scans_profile': 'e35',\n",
       "    'estimated_scans_sizes': [2573,\n",
       "     5146,\n",
       "     7719,\n",
       "     10292,\n",
       "     12865,\n",
       "     15528,\n",
       "     18799,\n",
       "     20935,\n",
       "     23158]},\n",
       "   {'width': 360,\n",
       "    'height': 288,\n",
       "    'url': 'https://instagram.fhyd14-2.fna.fbcdn.net/v/t51.2885-15/e35/s360x360/199314313_1203141176799196_7104822065223786824_n.jpg?tp=1&_nc_ht=instagram.fhyd14-2.fna.fbcdn.net&_nc_cat=104&_nc_ohc=hXng8WeZIfsAX939yRe&edm=ACqnv0EBAAAA&ccb=7-4&oh=e69f59b33ee012f660c9b482877fd54b&oe=60CCB9C8&_nc_sid=9ec724&_nc_map=control&ig_cache_key=MjU5NDU0MTc0NzIwNDA5MTU1Nw%3D%3D.2-ccb7-4',\n",
       "    'scans_profile': 'e35',\n",
       "    'estimated_scans_sizes': [955,\n",
       "     1910,\n",
       "     2866,\n",
       "     3821,\n",
       "     4776,\n",
       "     5962,\n",
       "     77010,\n",
       "     8598,\n",
       "     8598]}]},\n",
       " 'original_width': 1280,\n",
       " 'original_height': 1024,\n",
       " 'photo_of_you': False,\n",
       " 'can_see_insights_as_brand': False,\n",
       " 'caption': {'pk': 17897423609086743,\n",
       "  'user_id': 48308492716,\n",
       "  'text': 'Raze is OP, BinksOP',\n",
       "  'type': 1,\n",
       "  'created_at': 1623513501,\n",
       "  'created_at_utc': 1623513501,\n",
       "  'content_type': 'comment',\n",
       "  'status': 'Active',\n",
       "  'bit_flags': 0,\n",
       "  'did_report_as_spam': False,\n",
       "  'share_enabled': False,\n",
       "  'user': {'pk': 48308492716,\n",
       "   'username': 'instabot00112',\n",
       "   'full_name': 'Instagram_botter',\n",
       "   'is_private': False,\n",
       "   'profile_pic_url': 'https://instagram.fkul18-1.fna.fbcdn.net/v/t51.2885-19/44884218_345707102882519_2446069589734326272_n.jpg?_nc_ad=z-m&_nc_ht=instagram.fkul18-1.fna.fbcdn.net&_nc_ohc=G4A_PoHotBsAX-XPGG1&edm=AId3EpQBAAAA&ccb=7-4&oh=8ddf4ce159ebd18d7fcfce40c53d5c18&oe=60CCAA4F&_nc_sid=705020&ig_cache_key=YW5vbnltb3VzX3Byb2ZpbGVfcGlj.2-ccb7-4',\n",
       "   'has_anonymous_profile_picture': True,\n",
       "   'can_boost_post': False,\n",
       "   'can_see_organic_insights': False,\n",
       "   'show_insights_terms': False,\n",
       "   'reel_auto_archive': 'unset',\n",
       "   'is_unpublished': False,\n",
       "   'allowed_commenter_type': 'any',\n",
       "   'account_badges': [],\n",
       "   'fbid_v2': 17841448381488561},\n",
       "  'is_covered': False,\n",
       "  'media_id': 2594541747204091557,\n",
       "  'private_reply_status': 0},\n",
       " 'fb_user_tags': {'in': []},\n",
       " 'can_viewer_save': True,\n",
       " 'organic_tracking_token': 'eyJ2ZXJzaW9uIjo1LCJwYXlsb2FkIjp7ImlzX2FuYWx5dGljc190cmFja2VkIjpmYWxzZSwidXVpZCI6IjQ0MDExMGE3OWQzMjQ0NTA5MjlmMDdlMWIyMzg5OTNjMjU5NDU0MTc0NzIwNDA5MTU1NyIsInNlcnZlcl90b2tlbiI6IjE2MjM1MTM1MDMzNDF8MjU5NDU0MTc0NzIwNDA5MTU1N3w0ODMwODQ5MjcxNnw4ZDI2MTc1NjRiZGMzMDI2MTdhMWVjYWJlOWI3YjZkNzk1ZTk2Zjc0MzExMWYxYjFlZjI3MWE5NzZiNzJkYWZlIn0sInNpZ25hdHVyZSI6IiJ9',\n",
       " 'sharing_friction_info': {'should_have_sharing_friction': False,\n",
       "  'bloks_app_url': None},\n",
       " 'product_type': 'feed',\n",
       " 'is_in_profile_grid': False,\n",
       " 'profile_grid_control_enabled': False,\n",
       " 'deleted_reason': 0,\n",
       " 'integrity_review_decision': 'pending'}"
      ]
     },
     "execution_count": 6,
     "metadata": {},
     "output_type": "execute_result"
    }
   ],
   "source": [
    "import os\n",
    "os.chdir(r'C:\\Users\\apega\\OneDrive\\Desktop\\Wallpapers\\Plain backgrounds')\n",
    "\n",
    "bot.upload_photo(\"211518.jpg\", caption = \"Raze is OP, BinksOP\")"
   ]
  },
  {
   "cell_type": "code",
   "execution_count": null,
   "id": "a4dfe07c",
   "metadata": {},
   "outputs": [],
   "source": [
    "bot.send_message(\"Hello! am Big Fan of you\", ['willianborges88','paollaoliveirareal'])"
   ]
  },
  {
   "cell_type": "code",
   "execution_count": 3,
   "id": "410c4d91",
   "metadata": {},
   "outputs": [
    {
     "name": "stderr",
     "output_type": "stream",
     "text": [
      "2021-06-13 22:30:01,969 - INFO - Going to follow `user_id` 2003628862.\n",
      "2021-06-13 22:30:02,831 - INFO - Followed `user_id` 2003628862.\n"
     ]
    },
    {
     "name": "stdout",
     "output_type": "stream",
     "text": [
      "\u001b[;1m\u001b[32mAdding '2003628862' to `C:\\Users\\apega\\My py notes\\Cool Py Scripts/config/followed.txt`.\u001b[0m\u001b[0m\n",
      "\u001b[32m\n",
      "`bot.following` is empty, will download.\u001b[0m\n"
     ]
    },
    {
     "name": "stderr",
     "output_type": "stream",
     "text": [
      "Getting followings of 48308492716: 100%|█████████████████████████████████████████████████| 1/1 [00:00<00:00,  2.32it/s]\n"
     ]
    },
    {
     "data": {
      "text/plain": [
       "True"
      ]
     },
     "execution_count": 3,
     "metadata": {},
     "output_type": "execute_result"
    }
   ],
   "source": [
    "bot.follow(\"sushantsinghrajput\")"
   ]
  },
  {
   "cell_type": "code",
   "execution_count": null,
   "id": "469aa801",
   "metadata": {},
   "outputs": [],
   "source": [
    "my_followers = bot.get_user_followers(\"instabot00112\")\n",
    "\n",
    "for follower in my_followers:\n",
    "    print(follower)"
   ]
  },
  {
   "cell_type": "code",
   "execution_count": null,
   "id": "1b5c9747",
   "metadata": {},
   "outputs": [],
   "source": [
    "bot.unfollow_everyone()"
   ]
  },
  {
   "cell_type": "code",
   "execution_count": 12,
   "id": "7cfada27",
   "metadata": {},
   "outputs": [],
   "source": [
    "medias = bot.get_total_user_medias(bot.user_id)\n",
    "\n",
    "for media in medias:\n",
    "    try:\n",
    "        bot.delete_media(media)\n",
    "        time.sleep(ramdom.randint(5,15))\n",
    "    except:    \n",
    "        print(\"error\")\n",
    "        time.sleep(ramdom.randint(100,200))"
   ]
  },
  {
   "cell_type": "code",
   "execution_count": null,
   "id": "837d242c",
   "metadata": {},
   "outputs": [],
   "source": []
  }
 ],
 "metadata": {
  "kernelspec": {
   "display_name": "Python 3",
   "language": "python",
   "name": "python3"
  },
  "language_info": {
   "codemirror_mode": {
    "name": "ipython",
    "version": 3
   },
   "file_extension": ".py",
   "mimetype": "text/x-python",
   "name": "python",
   "nbconvert_exporter": "python",
   "pygments_lexer": "ipython3",
   "version": "3.8.5"
  }
 },
 "nbformat": 4,
 "nbformat_minor": 5
}
