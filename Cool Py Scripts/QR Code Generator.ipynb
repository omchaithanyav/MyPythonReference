{
 "cells": [
  {
   "cell_type": "code",
   "execution_count": 4,
   "id": "03e54502",
   "metadata": {},
   "outputs": [],
   "source": [
    "import qrcode"
   ]
  },
  {
   "cell_type": "code",
   "execution_count": 5,
   "id": "e09c74ad",
   "metadata": {},
   "outputs": [],
   "source": [
    "image = qrcode.make(\"https://www.youtube.com/watch?v=-GmJLI122ZM\")\n",
    "image.save(\"newQRCode.jpg\")"
   ]
  },
  {
   "cell_type": "code",
   "execution_count": 18,
   "id": "8d19808f",
   "metadata": {},
   "outputs": [],
   "source": [
    "image = qrcode.make(\"https://drive.google.com/file/d/1QXgmCfpeXWAVCn92rSQ8fVRjPC7fwTH0/view?usp=sharing\")\n",
    "image.save(\"newQRCode.jpg\")"
   ]
  },
  {
   "cell_type": "code",
   "execution_count": 7,
   "id": "bd012d5e",
   "metadata": {},
   "outputs": [],
   "source": [
    "# Read the QR code using open cv"
   ]
  },
  {
   "cell_type": "code",
   "execution_count": 11,
   "id": "1badfd1c",
   "metadata": {},
   "outputs": [],
   "source": [
    "import cv2"
   ]
  },
  {
   "cell_type": "code",
   "execution_count": 12,
   "id": "42b57ff1",
   "metadata": {},
   "outputs": [
    {
     "name": "stdout",
     "output_type": "stream",
     "text": [
      "Oye!! Happy Birthday BABYYYYYYY\n"
     ]
    }
   ],
   "source": [
    "d = cv2.QRCodeDetector()\n",
    "val, points, straight_qrcode = d.detectAndDecode(cv2.imread(\"newQRCode.jpg\"))\n",
    "print(val)"
   ]
  },
  {
   "cell_type": "code",
   "execution_count": 13,
   "id": "004773fb",
   "metadata": {},
   "outputs": [],
   "source": [
    "image = qrcode.make(\"Hey SARA I Love You\").save(\"newQRCode.jpg\")"
   ]
  },
  {
   "cell_type": "code",
   "execution_count": 14,
   "id": "17978c93",
   "metadata": {},
   "outputs": [
    {
     "name": "stdout",
     "output_type": "stream",
     "text": [
      "Requirement already satisfied: opencv-python in d:\\anaconda\\lib\\site-packages (4.5.5.62)\n",
      "Requirement already satisfied: numpy>=1.14.5 in d:\\anaconda\\lib\\site-packages (from opencv-python) (1.22.0)\n"
     ]
    }
   ],
   "source": [
    "!pip install opencv-python"
   ]
  },
  {
   "cell_type": "code",
   "execution_count": null,
   "id": "ad290be1",
   "metadata": {},
   "outputs": [],
   "source": []
  }
 ],
 "metadata": {
  "kernelspec": {
   "display_name": "Python 3 (ipykernel)",
   "language": "python",
   "name": "python3"
  },
  "language_info": {
   "codemirror_mode": {
    "name": "ipython",
    "version": 3
   },
   "file_extension": ".py",
   "mimetype": "text/x-python",
   "name": "python",
   "nbconvert_exporter": "python",
   "pygments_lexer": "ipython3",
   "version": "3.9.7"
  }
 },
 "nbformat": 4,
 "nbformat_minor": 5
}
