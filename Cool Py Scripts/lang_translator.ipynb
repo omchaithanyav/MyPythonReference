{
 "cells": [
  {
   "cell_type": "code",
   "execution_count": 2,
   "id": "9cfb5477",
   "metadata": {},
   "outputs": [],
   "source": [
    "from googletrans import Translator\n",
    "translator = Translator()"
   ]
  },
  {
   "cell_type": "code",
   "execution_count": 12,
   "id": "43ae55fc",
   "metadata": {},
   "outputs": [
    {
     "name": "stdout",
     "output_type": "stream",
     "text": [
      "Translated(src=en, dest=hi, text=मुझे तुमसे मोहब्बत है जान, pronunciation=mujhe tumase mohabbat hai jaan, extra_data=\"{'translat...\")\n",
      "मुझे तुमसे मोहब्बत है जान\n"
     ]
    }
   ],
   "source": [
    "out = translator.translate('i love you love', dest = 'hi')\n",
    "print(out)\n",
    "print(out.text)"
   ]
  },
  {
   "cell_type": "code",
   "execution_count": 13,
   "id": "e1b7c4a7",
   "metadata": {},
   "outputs": [
    {
     "name": "stdout",
     "output_type": "stream",
     "text": [
      "हे मैं सच में तुमसे बहुत प्यार करता हूँ\n"
     ]
    }
   ],
   "source": [
    "eng_text = 'hey i really love you so much'\n",
    "\n",
    "out = translator.translate(eng_text, dest = 'hi')\n",
    "print(out.text)"
   ]
  },
  {
   "cell_type": "code",
   "execution_count": null,
   "id": "6f53be87",
   "metadata": {},
   "outputs": [],
   "source": []
  }
 ],
 "metadata": {
  "kernelspec": {
   "display_name": "Python 3",
   "language": "python",
   "name": "python3"
  },
  "language_info": {
   "codemirror_mode": {
    "name": "ipython",
    "version": 3
   },
   "file_extension": ".py",
   "mimetype": "text/x-python",
   "name": "python",
   "nbconvert_exporter": "python",
   "pygments_lexer": "ipython3",
   "version": "3.8.5"
  }
 },
 "nbformat": 4,
 "nbformat_minor": 5
}
