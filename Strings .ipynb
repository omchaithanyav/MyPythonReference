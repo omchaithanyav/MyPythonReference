{
 "cells": [
  {
   "cell_type": "code",
   "execution_count": 1,
   "metadata": {},
   "outputs": [
    {
     "name": "stdout",
     "output_type": "stream",
     "text": [
      "True\n",
      "False\n",
      "True\n"
     ]
    }
   ],
   "source": [
    "\"\"\"The first_and_last function returns True if the first letter of the string is the same as the last letter of the string, \n",
    "False if they’re different.\"\"\"\n",
    "\n",
    "def first_and_last(message):\n",
    "    if message==\"\":\n",
    "          return True\n",
    "    elif message[0]==message[-1]:\n",
    "          return True\n",
    "    else:   \n",
    "          return False\n",
    "    \n",
    "\n",
    "print(first_and_last(\"else\"))\n",
    "print(first_and_last(\"tree\"))\n",
    "print(first_and_last(\"\"))"
   ]
  },
  {
   "cell_type": "code",
   "execution_count": 2,
   "metadata": {},
   "outputs": [
    {
     "name": "stdout",
     "output_type": "stream",
     "text": [
      "21\n"
     ]
    }
   ],
   "source": [
    "# Using the index method, find out the position of \"x\" in \"supercalifragilisticexpialidocious\".\n",
    "\n",
    "word = \"supercalifragilisticexpialidocious\"\n",
    "print(word.index('x'))\n"
   ]
  },
  {
   "cell_type": "code",
   "execution_count": 4,
   "metadata": {},
   "outputs": [
    {
     "data": {
      "text/plain": [
       "True"
      ]
     },
     "execution_count": 4,
     "metadata": {},
     "output_type": "execute_result"
    }
   ],
   "source": [
    "# Checking whether 'ok' is a sub string of 'okokokjanu' or not.\n",
    "\n",
    "'ok' in \"okokokjanu\""
   ]
  },
  {
   "cell_type": "code",
   "execution_count": 5,
   "metadata": {},
   "outputs": [
    {
     "name": "stdout",
     "output_type": "stream",
     "text": [
      "USB\n",
      "LAN\n",
      "OS\n"
     ]
    }
   ],
   "source": [
    "\"\"\"returns the initials of the words contained in the phrase received, in upper case.\n",
    "For example: \"Universal Serial Bus\" should return \"USB\"; \"local area network\" should return \"LAN”.\"\"\"\n",
    "\n",
    "def initials(phrase):\n",
    "    words = phrase.split()\n",
    "    result = \"\"\n",
    "    for word in words:\n",
    "        result += word[0].upper()\n",
    "    return result\n",
    "\n",
    "print(initials(\"Universal Serial Bus\")) # Should be: USB\n",
    "print(initials(\"local area network\")) # Should be: LAN\n",
    "print(initials(\"Operating system\")) # Should be: OS"
   ]
  },
  {
   "cell_type": "code",
   "execution_count": 7,
   "metadata": {},
   "outputs": [
    {
     "name": "stdout",
     "output_type": "stream",
     "text": [
      "Reed recieved 80% on the exam\n",
      "Paige recieved 92% on the exam\n",
      "Jesse recieved 85% on the exam\n"
     ]
    }
   ],
   "source": [
    "\"\"\"It returns the phrase \"X received Y% on the exam\". \n",
    "For example, student_grade(\"Reed\", 80) should return \"Reed received 80% on the exam\".\"\"\"\n",
    "\n",
    "# using formate() method\n",
    "\n",
    "\n",
    "def student_grade(name, grade):\n",
    "\treturn \"{} recieved {}% on the exam\".format(name,grade)\n",
    "\n",
    "print(student_grade(\"Reed\", 80))\n",
    "print(student_grade(\"Paige\", 92))\n",
    "print(student_grade(\"Jesse\", 85))"
   ]
  },
  {
   "cell_type": "code",
   "execution_count": null,
   "metadata": {},
   "outputs": [],
   "source": [
    "String Reference Cheat Sheet\n",
    "\n",
    ">> String operations:\n",
    "\n",
    "len(string) Returns the length of the string\n",
    "\n",
    "for character in string Iterates over each character in the string\n",
    "\n",
    "if substring in string Checks whether the substring is part of the string\n",
    "\n",
    "string[i] Accesses the character at index i of the string, starting at zero\n",
    "\n",
    "string[i:j] Accesses the substring starting at index i, ending at index j-1. If i is omitted, it's 0 by default. If j is omitted, it's len(string) by default.\n",
    "\n",
    "\n",
    "\n",
    ">> String methods:\n",
    "\n",
    "string.lower() / string.upper() Returns a copy of the string with all lower / upper case characters\n",
    "\n",
    "string.lstrip() / string.rstrip() / string.strip() Returns a copy of the string without left / right / left or right whitespace\n",
    "\n",
    "string.count(substring) Returns the number of times substring is present in the string\n",
    "\n",
    "string.isnumeric() Returns True if there are only numeric characters in the string. If not, returns False.\n",
    "\n",
    "string.isalpha() Returns True if there are only alphabetic characters in the string. If not, returns False.\n",
    "\n",
    "string.split() / string.split(delimiter) Returns a list of substrings that were separated by whitespace / delimiter\n",
    "\n",
    "string.replace(old, new) Returns a new string where all occurrences of old have been replaced by new.\n",
    "\n",
    "delimiter.join(list of strings) Returns a new string with all the strings joined by the delimiter "
   ]
  },
  {
   "cell_type": "code",
   "execution_count": 2,
   "metadata": {},
   "outputs": [
    {
     "ename": "SyntaxError",
     "evalue": "invalid character in identifier (<ipython-input-2-4ecf2f10f02f>, line 35)",
     "output_type": "error",
     "traceback": [
      "\u001b[1;36m  File \u001b[1;32m\"<ipython-input-2-4ecf2f10f02f>\"\u001b[1;36m, line \u001b[1;32m35\u001b[0m\n\u001b[1;33m    '{:d}'.format(10.5) → '10'\u001b[0m\n\u001b[1;37m                        ^\u001b[0m\n\u001b[1;31mSyntaxError\u001b[0m\u001b[1;31m:\u001b[0m invalid character in identifier\n"
     ]
    }
   ],
   "source": [
    "# Formatting Strings Cheat Sheet:\n",
    "\n",
    "# \"base string with {} placeholders\".format(variables)\n",
    "\n",
    "example = \"format() method\"\n",
    "\n",
    "formatted_string = \"this is an example of using the {} on a string\".format(example)\n",
    "\n",
    "print(formatted_string)\n",
    "\n",
    "\"\"\"Outputs:\n",
    "this is an example of using the format() method on a string\n",
    "\"\"\"\n",
    "\n",
    "\n",
    "# \"{0} {1}\".format(first, second)\n",
    "\n",
    "first = \"apple\"\n",
    "second = \"banana\"\n",
    "third = \"carrot\"\n",
    "\n",
    "formatted_string = \"{0} {2} {1}\".format(first, second, third)\n",
    "\n",
    "print(formatted_string)\n",
    "\n",
    "\"\"\"Outputs:\n",
    "apple carrot banana\n",
    "\"\"\"\n",
    "\n",
    "# \"{var1} {var2}\".format(var1=value1, var2=value2)\n",
    "\n",
    "# \"{:exp1} {:exp2}\".format(value1, value2)\n",
    "\n",
    "# {:d} integer value\n",
    "'{:d}'.format(10.5) → '10'\n",
    "\n",
    "\n",
    "Formatting expressions:\n",
    "    \n",
    "Expr\tMeaning\tExample\n",
    "\n",
    "{:d}\tinteger value\t'{:d}'.format(10.5) → '10'\n",
    "\n",
    "{:.2f}\tfloating point with that many decimals\t'{:.2f}'.format(0.5) → '0.50'\n",
    "\n",
    "{:.2s}\tstring with that many characters\t'{:.2s}'.format('Python') → 'Py'\n",
    "\n",
    "{:<6s}\tstring aligned to the left that many spaces\t'{:<6s}'.format('Py') → 'Py    \n",
    "\n",
    "{:>6s}\tstring aligned to the right that many spaces\t'{:>6s}'.format('Py') → '    Py'\n",
    "\n",
    "{:^6s}\tstring centered in that many spaces\t'{:^6s}'.format('Py') → '  Py  '"
   ]
  },
  {
   "cell_type": "code",
   "execution_count": 3,
   "metadata": {},
   "outputs": [
    {
     "name": "stdout",
     "output_type": "stream",
     "text": [
      "True\n",
      "False\n",
      "True\n"
     ]
    }
   ],
   "source": [
    "\"\"\"The is_palindrome function checks if a string is a palindrome. \n",
    "A palindrome is a string that can be equally read from left to right or right to left, omitting blank spaces, \n",
    "and ignoring capitalization.Examples of palindromes are words like kayak and radar, and phrases like \"Never Odd or Even\".\"\"\"\n",
    "\n",
    "def is_palindrome(input_string):\n",
    "    new_string = \"\"\n",
    "    reverse_string = \"\"\n",
    "    \n",
    "    for i in input_string:\n",
    "     \n",
    "        if i != \"\":\n",
    "            new_string = new_string.strip() + i\n",
    "            reverse_string = i + reverse_string.strip()\n",
    "    # Compare the strings\n",
    "    if new_string.lower() == reverse_string.lower():\n",
    "        return True\n",
    "    return False\n",
    "\n",
    "print(is_palindrome(\"Never Odd or Even\")) # Should be True\n",
    "print(is_palindrome(\"abc\")) # Should be False\n",
    "print(is_palindrome(\"kayak\")) # Should be True"
   ]
  },
  {
   "cell_type": "code",
   "execution_count": 4,
   "metadata": {},
   "outputs": [
    {
     "name": "stdout",
     "output_type": "stream",
     "text": [
      "It's raining cats and dogs\n",
      "She sells seashells by the seashore\n",
      "The weather is nice in May\n",
      "The weather is nice in April\n"
     ]
    }
   ],
   "source": [
    "\"\"\"The replace_ending function replaces the old string in a sentence with the new string, \n",
    "but only if the sentence ends with the old string. If there is more than one occurrence \n",
    "of the old string in the sentence, only the one at the end is replaced, not all of them. \n",
    "For example, replace_ending(\"abcabc\", \"abc\", \"xyz\") should return abcxyz, \n",
    "not xyzxyz or xyzabc. The string comparison is case-sensitive, so \n",
    "replace_ending(\"abcabc\", \"ABC\", \"xyz\") should return abcabc (no changes made).\"\"\"\n",
    "\n",
    "\n",
    "def replace_ending(sentence, old, new):\n",
    "    # Check if the old string is at the end of the sentence\n",
    "    if sentence.endswith(old):\n",
    "        # Using i as the slicing index, combine the part\n",
    "        # of the sentence up to the matched string at the \n",
    "        # end with the new string\n",
    "        i = len(old)\n",
    "        new_sentence = sentence[:-i]+new\n",
    "        return new_sentence\n",
    "    # Return the original sentence if there is no match\n",
    "    return sentence\n",
    "\n",
    "print(replace_ending(\"It's raining cats and cats\", \"cats\", \"dogs\")) \n",
    "# Should display \"It's raining cats and dogs\"\n",
    "print(replace_ending(\"She sells seashells by the seashore\", \"seashells\", \"donuts\")) \n",
    "# Should display \"She sells seashells by the seashore\"\n",
    "print(replace_ending(\"The weather is nice in May\", \"may\", \"april\")) \n",
    "# Should display \"The weather is nice in May\"\n",
    "print(replace_ending(\"The weather is nice in May\", \"May\", \"April\")) \n",
    "# Should display \"The weather is nice in April\""
   ]
  },
  {
   "cell_type": "code",
   "execution_count": 6,
   "metadata": {},
   "outputs": [
    {
     "name": "stdout",
     "output_type": "stream",
     "text": [
      "12 miles equals 19.2 km\n",
      "5.5 miles equals 8.8 km\n",
      "11 miles equals 17.6 km\n"
     ]
    }
   ],
   "source": [
    "\"\"\"it returns the phrase \"X miles equals Y km\", with Y having only 1 decimal place. \n",
    "For example, convert_distance(12) should return \"12 miles equals 19.2 km\".\"\"\"\n",
    "\n",
    "def convert_distance(miles):\n",
    "\tkm = miles * 1.6 \n",
    "\tresult = \"{} miles equals {:.1f} km\".format(miles,km)\n",
    "\treturn result\n",
    "\n",
    "print(convert_distance(12)) # Should be: 12 miles equals 19.2 km\n",
    "print(convert_distance(5.5)) # Should be: 5.5 miles equals 8.8 km\n",
    "print(convert_distance(11)) # Should be: 11 miles equals 17.6 km"
   ]
  },
  {
   "cell_type": "code",
   "execution_count": 9,
   "metadata": {},
   "outputs": [
    {
     "name": "stdout",
     "output_type": "stream",
     "text": [
      "True\n",
      "False\n",
      "True\n"
     ]
    }
   ],
   "source": [
    "\"\"\" The is_palindrome function checks if a string is a palindrome. \n",
    "A palindrome is a string that can be equally read from left to right or right to left, omitting blank spaces, \n",
    "and ignoring capitalization. Examples of palindromes are words like kayak and radar, and phrases like \"Never Odd or Even\".\"\"\"\n",
    "\n",
    "\n",
    "def is_palindrome(input_string):\n",
    "    new_string = \"\"\n",
    "    reverse_string = \"\"\n",
    "    \n",
    "    for i in input_string:\n",
    "     \n",
    "        if i != \"\":\n",
    "            new_string = new_string.strip() + i\n",
    "            reverse_string = i + reverse_string.strip()\n",
    "    # Compare the strings\n",
    "    if new_string.lower() == reverse_string.lower():\n",
    "        return True\n",
    "    return False\n",
    "\n",
    "print(is_palindrome(\"Never Odd or Even\")) # Should be True\n",
    "print(is_palindrome(\"abc\")) # Should be False\n",
    "print(is_palindrome(\"kayak\")) # Should be True"
   ]
  },
  {
   "cell_type": "code",
   "execution_count": 1,
   "metadata": {},
   "outputs": [
    {
     "data": {
      "text/plain": [
       "'osrbb'"
      ]
     },
     "execution_count": 1,
     "metadata": {},
     "output_type": "execute_result"
    }
   ],
   "source": [
    "a = \"oksarababy\"\n",
    "\n",
    "a[0::2]"
   ]
  },
  {
   "cell_type": "code",
   "execution_count": 10,
   "metadata": {},
   "outputs": [
    {
     "data": {
      "text/plain": [
       "'246'"
      ]
     },
     "execution_count": 10,
     "metadata": {},
     "output_type": "execute_result"
    }
   ],
   "source": [
    "a = \"123456789\"\n",
    "\n",
    "a[1:6:2]"
   ]
  },
  {
   "cell_type": "code",
   "execution_count": 2,
   "metadata": {},
   "outputs": [
    {
     "data": {
      "text/plain": [
       "'Omi Is A Bad Boy'"
      ]
     },
     "execution_count": 2,
     "metadata": {},
     "output_type": "execute_result"
    }
   ],
   "source": [
    "# String method to capitalize first letter of every word in a string is \".title()\"\n",
    "\n",
    "#Example:\n",
    "\n",
    "str = \"omi is a bad boy\"\n",
    "str.title()"
   ]
  },
  {
   "cell_type": "code",
   "execution_count": 4,
   "metadata": {},
   "outputs": [
    {
     "data": {
      "text/plain": [
       "'hEloW WOrLd'"
      ]
     },
     "execution_count": 4,
     "metadata": {},
     "output_type": "execute_result"
    }
   ],
   "source": [
    "# \"swapcase()\" method changes lower case letters to upper case and upper case letters to lower case:\n",
    "\n",
    "str1 = \"HeLOw woRlD\"\n",
    "str1.swapcase() "
   ]
  },
  {
   "cell_type": "code",
   "execution_count": 2,
   "metadata": {},
   "outputs": [
    {
     "name": "stdout",
     "output_type": "stream",
     "text": [
      "GeeksforGeeks is a portal for Geeks.\n",
      "Hello, My name is Tushar and I'm 23 years old.\n"
     ]
    }
   ],
   "source": [
    "# f-strings in Python:\n",
    "# F-strings provide a concise and convenient way to embed python expressions inside string literals for formatting. \n",
    "\n",
    "val = 'Geeks'\n",
    "print(f\"{val}for{val} is a portal for {val}.\")\n",
    " \n",
    " \n",
    "name = 'Tushar'\n",
    "age = 23\n",
    "print(f\"Hello, My name is {name} and I'm {age} years old.\")"
   ]
  },
  {
   "cell_type": "code",
   "execution_count": 3,
   "metadata": {},
   "outputs": [
    {
     "name": "stdout",
     "output_type": "stream",
     "text": [
      "March 16, 2021\n"
     ]
    }
   ],
   "source": [
    "# Prints today's date with help\n",
    "# of datetime library\n",
    "\n",
    "import datetime\n",
    " \n",
    "today = datetime.datetime.today()\n",
    "print(f\"{today:%B %d, %Y}\")"
   ]
  },
  {
   "cell_type": "raw",
   "metadata": {},
   "source": [
    "Note : F-strings are faster than the two most commonly used string formatting mechanisms, which are % formatting and str.format(). "
   ]
  },
  {
   "cell_type": "code",
   "execution_count": 6,
   "metadata": {},
   "outputs": [
    {
     "data": {
      "text/plain": [
       "'Your answer is 456'"
      ]
     },
     "execution_count": 6,
     "metadata": {},
     "output_type": "execute_result"
    }
   ],
   "source": [
    "answer = 456\n",
    "f\"Your answer is {answer}\""
   ]
  },
  {
   "cell_type": "code",
   "execution_count": 7,
   "metadata": {},
   "outputs": [
    {
     "ename": "SyntaxError",
     "evalue": "f-string expression part cannot include a backslash (<ipython-input-7-dcd37e5bca73>, line 3)",
     "output_type": "error",
     "traceback": [
      "\u001b[1;36m  File \u001b[1;32m\"<ipython-input-7-dcd37e5bca73>\"\u001b[1;36m, line \u001b[1;32m3\u001b[0m\n\u001b[1;33m    f\"newline: {ord('\\n')}\"\u001b[0m\n\u001b[1;37m    ^\u001b[0m\n\u001b[1;31mSyntaxError\u001b[0m\u001b[1;31m:\u001b[0m f-string expression part cannot include a backslash\n"
     ]
    }
   ],
   "source": [
    "# Backslash Cannot be used in format string directly.\n",
    "\n",
    "f\"newline: {ord('\\n')}\""
   ]
  },
  {
   "cell_type": "code",
   "execution_count": 9,
   "metadata": {},
   "outputs": [
    {
     "data": {
      "text/plain": [
       "'newline: 10'"
      ]
     },
     "execution_count": 9,
     "metadata": {},
     "output_type": "execute_result"
    }
   ],
   "source": [
    "# But the documentation points out that we can put the backslash into a variable as a workaround though :\n",
    "\n",
    "newline = ord('\\n')\n",
    " \n",
    "f\"newline: {newline}\""
   ]
  },
  {
   "cell_type": "code",
   "execution_count": 2,
   "metadata": {},
   "outputs": [
    {
     "name": "stdout",
     "output_type": "stream",
     "text": [
      "hello my name is Om Chaithanya, i am 21 years old\n"
     ]
    }
   ],
   "source": [
    "# String formating:\n",
    "\n",
    "print(\"hello my name is %s, i am %d years old\" %(\"Om Chaithanya\", 21))"
   ]
  },
  {
   "cell_type": "code",
   "execution_count": null,
   "metadata": {},
   "outputs": [],
   "source": []
  }
 ],
 "metadata": {
  "kernelspec": {
   "display_name": "Python 3 (ipykernel)",
   "language": "python",
   "name": "python3"
  },
  "language_info": {
   "codemirror_mode": {
    "name": "ipython",
    "version": 3
   },
   "file_extension": ".py",
   "mimetype": "text/x-python",
   "name": "python",
   "nbconvert_exporter": "python",
   "pygments_lexer": "ipython3",
   "version": "3.8.11"
  }
 },
 "nbformat": 4,
 "nbformat_minor": 4
}
